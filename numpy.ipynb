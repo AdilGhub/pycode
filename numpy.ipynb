{
 "cells": [
  {
   "cell_type": "code",
   "execution_count": 1,
   "id": "020e3ab5",
   "metadata": {},
   "outputs": [
    {
     "data": {
      "text/plain": [
       "array([11, 11, 11, 11, 11])"
      ]
     },
     "execution_count": 1,
     "metadata": {},
     "output_type": "execute_result"
    }
   ],
   "source": [
    "import numpy as np\n",
    "a=[1,2,3,4,5]\n",
    "b=[10,9,8,7,6]\n",
    "r=(np.array(a)+np.array(b))\n",
    "r"
   ]
  },
  {
   "cell_type": "code",
   "execution_count": 2,
   "id": "c1c828b3",
   "metadata": {},
   "outputs": [
    {
     "data": {
      "text/plain": [
       "array([66, 66, 66, 66, 66])"
      ]
     },
     "execution_count": 2,
     "metadata": {},
     "output_type": "execute_result"
    }
   ],
   "source": [
    "r*6"
   ]
  },
  {
   "cell_type": "code",
   "execution_count": 3,
   "id": "b6fd8807",
   "metadata": {},
   "outputs": [
    {
     "data": {
      "text/plain": [
       "array([[35, 10, 10],\n",
       "       [16, 20, 16],\n",
       "       [39, 23, 10]])"
      ]
     },
     "execution_count": 3,
     "metadata": {},
     "output_type": "execute_result"
    }
   ],
   "source": [
    "mat=np.array([[1,2,3],[9,8,7],[7,8,9]])\n",
    "mat1=np.array([[34,8,7],[7,12,9],[32,15,1]])\n",
    "z=mat+mat1\n",
    "z"
   ]
  },
  {
   "cell_type": "markdown",
   "id": "d7089e6b",
   "metadata": {},
   "source": [
    "z*5"
   ]
  },
  {
   "cell_type": "code",
   "execution_count": 4,
   "id": "a32327ff",
   "metadata": {},
   "outputs": [
    {
     "data": {
      "text/plain": [
       "array([[350, 100, 100],\n",
       "       [160, 200, 160],\n",
       "       [390, 230, 100]])"
      ]
     },
     "execution_count": 4,
     "metadata": {},
     "output_type": "execute_result"
    }
   ],
   "source": [
    "z*10"
   ]
  },
  {
   "cell_type": "code",
   "execution_count": 5,
   "id": "30023a2a",
   "metadata": {},
   "outputs": [
    {
     "name": "stdout",
     "output_type": "stream",
     "text": [
      "[[ True False False]\n",
      " [ True  True  True]\n",
      " [ True  True False]] [[False False False]\n",
      " [False False False]\n",
      " [False False False]] [[ True False False]\n",
      " [ True  True  True]\n",
      " [ True  True False]] [[False  True  True]\n",
      " [False False False]\n",
      " [False False  True]] [[43 10 10]\n",
      " [26 30 26]\n",
      " [47 31 10]] [[35840 10240 10240]\n",
      " [16384 20480 16384]\n",
      " [39936 23552 10240]] [[70 20 20]\n",
      " [32 40 32]\n",
      " [78 46 20]] [[ True  True  True]\n",
      " [ True  True  True]\n",
      " [ True  True  True]]\n"
     ]
    }
   ],
   "source": [
    "print(z>10,z<10,z!=10,z==10,z|10,z<<10,z+z,z>=z)"
   ]
  },
  {
   "cell_type": "code",
   "execution_count": 6,
   "id": "2ec1512c",
   "metadata": {},
   "outputs": [
    {
     "data": {
      "text/plain": [
       "array([[35, 10, 10],\n",
       "       [16, 20, 16],\n",
       "       [39, 23, 10]])"
      ]
     },
     "execution_count": 6,
     "metadata": {},
     "output_type": "execute_result"
    }
   ],
   "source": [
    "z"
   ]
  },
  {
   "cell_type": "code",
   "execution_count": 7,
   "id": "69427246",
   "metadata": {},
   "outputs": [
    {
     "data": {
      "text/plain": [
       "array([35, 16, 20, 16, 39, 23])"
      ]
     },
     "execution_count": 7,
     "metadata": {},
     "output_type": "execute_result"
    }
   ],
   "source": [
    "a=z[z>10]\n",
    "a"
   ]
  },
  {
   "cell_type": "code",
   "execution_count": 8,
   "id": "fba4e9c9",
   "metadata": {},
   "outputs": [
    {
     "data": {
      "text/plain": [
       "array([[0., 0., 0.],\n",
       "       [0., 0., 0.],\n",
       "       [0., 0., 0.]])"
      ]
     },
     "execution_count": 8,
     "metadata": {},
     "output_type": "execute_result"
    }
   ],
   "source": [
    "np.zeros((3,3))"
   ]
  },
  {
   "cell_type": "code",
   "execution_count": 9,
   "id": "49784c1f",
   "metadata": {},
   "outputs": [
    {
     "data": {
      "text/plain": [
       "array([[1., 1., 1.],\n",
       "       [1., 1., 1.],\n",
       "       [1., 1., 1.]])"
      ]
     },
     "execution_count": 9,
     "metadata": {},
     "output_type": "execute_result"
    }
   ],
   "source": [
    "np.ones((3,3))"
   ]
  },
  {
   "cell_type": "code",
   "execution_count": 10,
   "id": "7fb3199f",
   "metadata": {},
   "outputs": [
    {
     "data": {
      "text/plain": [
       "array([[0.38921397, 0.18932518, 0.45193562, 0.68739684],\n",
       "       [0.88019673, 0.42768054, 0.3205066 , 0.91925049],\n",
       "       [0.92012406, 0.43458855, 0.05503441, 0.6925856 ],\n",
       "       [0.48752017, 0.93958972, 0.25001859, 0.6684457 ]])"
      ]
     },
     "execution_count": 10,
     "metadata": {},
     "output_type": "execute_result"
    }
   ],
   "source": [
    "np.random.rand(4,4)"
   ]
  },
  {
   "cell_type": "code",
   "execution_count": 11,
   "id": "da3dc738",
   "metadata": {},
   "outputs": [
    {
     "data": {
      "text/plain": [
       "[[1, 2, 3], [9, 8, 7]]"
      ]
     },
     "execution_count": 11,
     "metadata": {},
     "output_type": "execute_result"
    }
   ],
   "source": [
    "a=([[1,2,3],\n",
    "   [9,8,7]])\n",
    "a"
   ]
  },
  {
   "cell_type": "code",
   "execution_count": 12,
   "id": "3c2e9276",
   "metadata": {},
   "outputs": [
    {
     "data": {
      "text/plain": [
       "array([1, 2, 3, 4, 5, 6, 7, 8, 9])"
      ]
     },
     "execution_count": 12,
     "metadata": {},
     "output_type": "execute_result"
    }
   ],
   "source": [
    "np.arange(1,10)"
   ]
  },
  {
   "cell_type": "code",
   "execution_count": 13,
   "id": "85ff8c57",
   "metadata": {},
   "outputs": [
    {
     "data": {
      "text/plain": [
       "array([[ 0,  1,  2,  3],\n",
       "       [ 4,  5,  6,  7],\n",
       "       [ 8,  9, 10, 11],\n",
       "       [12, 13, 14, 15]])"
      ]
     },
     "execution_count": 13,
     "metadata": {},
     "output_type": "execute_result"
    }
   ],
   "source": [
    "np.arange(16).reshape(4,4)"
   ]
  },
  {
   "cell_type": "code",
   "execution_count": 14,
   "id": "f451ae1c",
   "metadata": {},
   "outputs": [
    {
     "data": {
      "text/plain": [
       "array([[[0, 1],\n",
       "        [2, 3]],\n",
       "\n",
       "       [[4, 5],\n",
       "        [6, 7]]])"
      ]
     },
     "execution_count": 14,
     "metadata": {},
     "output_type": "execute_result"
    }
   ],
   "source": [
    "np.arange(8).reshape(2,2,2)"
   ]
  },
  {
   "cell_type": "code",
   "execution_count": 15,
   "id": "e87d3630",
   "metadata": {},
   "outputs": [
    {
     "data": {
      "text/plain": [
       "2"
      ]
     },
     "execution_count": 15,
     "metadata": {},
     "output_type": "execute_result"
    }
   ],
   "source": [
    "n=np.array([[1,2,5,6],\n",
    "          [3,4,7,8],\n",
    "            [5,8,3,7]])\n",
    "n.ndim"
   ]
  },
  {
   "cell_type": "code",
   "execution_count": 16,
   "id": "4e33962a",
   "metadata": {},
   "outputs": [
    {
     "data": {
      "text/plain": [
       "(3, 4)"
      ]
     },
     "execution_count": 16,
     "metadata": {},
     "output_type": "execute_result"
    }
   ],
   "source": [
    "n.shape"
   ]
  },
  {
   "cell_type": "code",
   "execution_count": 17,
   "id": "a6b2901d",
   "metadata": {},
   "outputs": [
    {
     "data": {
      "text/plain": [
       "dtype('int32')"
      ]
     },
     "execution_count": 17,
     "metadata": {},
     "output_type": "execute_result"
    }
   ],
   "source": [
    "n.dtype"
   ]
  },
  {
   "cell_type": "code",
   "execution_count": 18,
   "id": "b6a50158",
   "metadata": {},
   "outputs": [
    {
     "data": {
      "text/plain": [
       "12"
      ]
     },
     "execution_count": 18,
     "metadata": {},
     "output_type": "execute_result"
    }
   ],
   "source": [
    "n.size"
   ]
  },
  {
   "cell_type": "code",
   "execution_count": 19,
   "id": "afac1a48",
   "metadata": {},
   "outputs": [
    {
     "data": {
      "text/plain": [
       "4"
      ]
     },
     "execution_count": 19,
     "metadata": {},
     "output_type": "execute_result"
    }
   ],
   "source": [
    "n.itemsize"
   ]
  },
  {
   "cell_type": "code",
   "execution_count": 20,
   "id": "30f22c11",
   "metadata": {},
   "outputs": [
    {
     "data": {
      "text/plain": [
       "48"
      ]
     },
     "execution_count": 20,
     "metadata": {},
     "output_type": "execute_result"
    }
   ],
   "source": [
    "n.nbytes"
   ]
  },
  {
   "cell_type": "code",
   "execution_count": 21,
   "id": "5410faa9",
   "metadata": {},
   "outputs": [
    {
     "data": {
      "text/plain": [
       "array([[1, 2, 5, 6],\n",
       "       [3, 4, 7, 8],\n",
       "       [5, 8, 3, 7]])"
      ]
     },
     "execution_count": 21,
     "metadata": {},
     "output_type": "execute_result"
    }
   ],
   "source": [
    "n.real"
   ]
  },
  {
   "cell_type": "code",
   "execution_count": 22,
   "id": "ccc6345c",
   "metadata": {},
   "outputs": [
    {
     "data": {
      "text/plain": [
       "array([[0, 0, 0, 0],\n",
       "       [0, 0, 0, 0],\n",
       "       [0, 0, 0, 0]])"
      ]
     },
     "execution_count": 22,
     "metadata": {},
     "output_type": "execute_result"
    }
   ],
   "source": [
    "n.imag"
   ]
  },
  {
   "cell_type": "code",
   "execution_count": 23,
   "id": "cecff954",
   "metadata": {},
   "outputs": [
    {
     "data": {
      "text/plain": [
       "<function ndarray.transpose>"
      ]
     },
     "execution_count": 23,
     "metadata": {},
     "output_type": "execute_result"
    }
   ],
   "source": [
    "n.transpose"
   ]
  },
  {
   "cell_type": "code",
   "execution_count": 24,
   "id": "144ed319",
   "metadata": {},
   "outputs": [
    {
     "data": {
      "text/plain": [
       "  C_CONTIGUOUS : True\n",
       "  F_CONTIGUOUS : False\n",
       "  OWNDATA : True\n",
       "  WRITEABLE : True\n",
       "  ALIGNED : True\n",
       "  WRITEBACKIFCOPY : False"
      ]
     },
     "execution_count": 24,
     "metadata": {},
     "output_type": "execute_result"
    }
   ],
   "source": [
    "n.flags"
   ]
  },
  {
   "cell_type": "code",
   "execution_count": 25,
   "id": "15ba676d",
   "metadata": {},
   "outputs": [],
   "source": [
    "n.base"
   ]
  },
  {
   "cell_type": "code",
   "execution_count": 26,
   "id": "3a401b26",
   "metadata": {},
   "outputs": [
    {
     "data": {
      "text/plain": [
       "array([[ 1,  4, 25, 36],\n",
       "       [ 9, 16, 49, 64],\n",
       "       [25, 64,  9, 49]])"
      ]
     },
     "execution_count": 26,
     "metadata": {},
     "output_type": "execute_result"
    }
   ],
   "source": [
    "n**2"
   ]
  },
  {
   "cell_type": "code",
   "execution_count": 27,
   "id": "e79d99d6",
   "metadata": {},
   "outputs": [
    {
     "data": {
      "text/plain": [
       "array([[False, False,  True,  True],\n",
       "       [False,  True,  True,  True],\n",
       "       [ True,  True, False,  True]])"
      ]
     },
     "execution_count": 27,
     "metadata": {},
     "output_type": "execute_result"
    }
   ],
   "source": [
    "n>3"
   ]
  },
  {
   "cell_type": "code",
   "execution_count": 28,
   "id": "39e4bf50",
   "metadata": {},
   "outputs": [
    {
     "data": {
      "text/plain": [
       "array([[False, False, False, False],\n",
       "       [ True, False, False, False],\n",
       "       [False, False,  True, False]])"
      ]
     },
     "execution_count": 28,
     "metadata": {},
     "output_type": "execute_result"
    }
   ],
   "source": [
    "n==3"
   ]
  },
  {
   "cell_type": "code",
   "execution_count": 29,
   "id": "86a282df",
   "metadata": {},
   "outputs": [
    {
     "data": {
      "text/plain": [
       "array([[False, False,  True,  True],\n",
       "       [False, False,  True,  True],\n",
       "       [ True,  True, False,  True]])"
      ]
     },
     "execution_count": 29,
     "metadata": {},
     "output_type": "execute_result"
    }
   ],
   "source": [
    "n>=5"
   ]
  },
  {
   "cell_type": "code",
   "execution_count": 30,
   "id": "93918837",
   "metadata": {},
   "outputs": [
    {
     "data": {
      "text/plain": [
       "array([[ True,  True,  True,  True],\n",
       "       [ True,  True, False,  True],\n",
       "       [ True,  True,  True, False]])"
      ]
     },
     "execution_count": 30,
     "metadata": {},
     "output_type": "execute_result"
    }
   ],
   "source": [
    "n!=7"
   ]
  },
  {
   "cell_type": "code",
   "execution_count": 31,
   "id": "41405360",
   "metadata": {},
   "outputs": [
    {
     "data": {
      "text/plain": [
       "array([[ True,  True, False, False],\n",
       "       [ True, False, False, False],\n",
       "       [False, False,  True, False]])"
      ]
     },
     "execution_count": 31,
     "metadata": {},
     "output_type": "execute_result"
    }
   ],
   "source": [
    "n<=3"
   ]
  },
  {
   "cell_type": "code",
   "execution_count": 32,
   "id": "d6b36913",
   "metadata": {},
   "outputs": [
    {
     "data": {
      "text/plain": [
       "array([[-2, -3, -6, -7],\n",
       "       [-4, -5, -8, -9],\n",
       "       [-6, -9, -4, -8]])"
      ]
     },
     "execution_count": 32,
     "metadata": {},
     "output_type": "execute_result"
    }
   ],
   "source": [
    "~n"
   ]
  },
  {
   "cell_type": "code",
   "execution_count": 33,
   "id": "e1d52225",
   "metadata": {},
   "outputs": [
    {
     "name": "stdout",
     "output_type": "stream",
     "text": [
      "7 [3 4 5 6 7 8]\n"
     ]
    },
    {
     "data": {
      "text/plain": [
       "array([2, 3, 4, 5, 6, 7, 8])"
      ]
     },
     "execution_count": 33,
     "metadata": {},
     "output_type": "execute_result"
    }
   ],
   "source": [
    "l=np.array([1,2,3,4,5,6,7,8,9,45,354,547,36,563,99])\n",
    "print(l[6],l[2:8])\n",
    "l[1:8]"
   ]
  },
  {
   "cell_type": "code",
   "execution_count": 34,
   "id": "5a82ebc7",
   "metadata": {},
   "outputs": [
    {
     "data": {
      "text/plain": [
       "array([ 2,  4,  6,  8, 45])"
      ]
     },
     "execution_count": 34,
     "metadata": {},
     "output_type": "execute_result"
    }
   ],
   "source": [
    "l[1:10:2]"
   ]
  },
  {
   "cell_type": "code",
   "execution_count": 35,
   "id": "8671c4e7",
   "metadata": {},
   "outputs": [
    {
     "data": {
      "text/plain": [
       "array([[1, 2, 5, 6],\n",
       "       [3, 4, 7, 8],\n",
       "       [5, 8, 3, 7]])"
      ]
     },
     "execution_count": 35,
     "metadata": {},
     "output_type": "execute_result"
    }
   ],
   "source": [
    "n[:,:]"
   ]
  },
  {
   "cell_type": "code",
   "execution_count": 36,
   "id": "86659b09",
   "metadata": {},
   "outputs": [
    {
     "data": {
      "text/plain": [
       "8"
      ]
     },
     "execution_count": 36,
     "metadata": {},
     "output_type": "execute_result"
    }
   ],
   "source": [
    "n[1,3]"
   ]
  },
  {
   "cell_type": "code",
   "execution_count": 37,
   "id": "2368ddbe",
   "metadata": {},
   "outputs": [
    {
     "data": {
      "text/plain": [
       "array([[4, 7],\n",
       "       [8, 3]])"
      ]
     },
     "execution_count": 37,
     "metadata": {},
     "output_type": "execute_result"
    }
   ],
   "source": [
    "n[1:3,1:3]"
   ]
  },
  {
   "cell_type": "code",
   "execution_count": 38,
   "id": "6aad1f51",
   "metadata": {},
   "outputs": [
    {
     "data": {
      "text/plain": [
       "array([[8]])"
      ]
     },
     "execution_count": 38,
     "metadata": {},
     "output_type": "execute_result"
    }
   ],
   "source": [
    "n[2:3,1:2]"
   ]
  },
  {
   "cell_type": "code",
   "execution_count": 39,
   "id": "4ab6f75a",
   "metadata": {},
   "outputs": [
    {
     "data": {
      "text/plain": [
       "array([[7]])"
      ]
     },
     "execution_count": 39,
     "metadata": {},
     "output_type": "execute_result"
    }
   ],
   "source": [
    "n[1:2,2:3]"
   ]
  },
  {
   "cell_type": "code",
   "execution_count": 40,
   "id": "04428728",
   "metadata": {},
   "outputs": [
    {
     "data": {
      "text/plain": [
       "array([  1,   2,   3,   4,   5,   6,   7,   8,   9,  45, 354, 547,  36,\n",
       "       563,  99])"
      ]
     },
     "execution_count": 40,
     "metadata": {},
     "output_type": "execute_result"
    }
   ],
   "source": [
    "l"
   ]
  },
  {
   "cell_type": "code",
   "execution_count": 41,
   "id": "4be2bf9c",
   "metadata": {},
   "outputs": [
    {
     "data": {
      "text/plain": [
       "array([354, 547, 563,  99])"
      ]
     },
     "execution_count": 41,
     "metadata": {},
     "output_type": "execute_result"
    }
   ],
   "source": [
    "a=l>50\n",
    "l[a]"
   ]
  },
  {
   "cell_type": "code",
   "execution_count": 42,
   "id": "4835a792",
   "metadata": {},
   "outputs": [
    {
     "data": {
      "text/plain": [
       "array([ 1,  2,  3,  4,  5,  6,  7,  8,  9, 45, 36, 99])"
      ]
     },
     "execution_count": 42,
     "metadata": {},
     "output_type": "execute_result"
    }
   ],
   "source": [
    "a=~(l>100)\n",
    "l[a]"
   ]
  },
  {
   "cell_type": "code",
   "execution_count": 43,
   "id": "e8d823a1",
   "metadata": {},
   "outputs": [
    {
     "data": {
      "text/plain": [
       "array([[1, 2, 5, 6],\n",
       "       [3, 4, 7, 8],\n",
       "       [5, 8, 3, 7]])"
      ]
     },
     "execution_count": 43,
     "metadata": {},
     "output_type": "execute_result"
    }
   ],
   "source": [
    "n"
   ]
  },
  {
   "cell_type": "code",
   "execution_count": 44,
   "id": "b7848247",
   "metadata": {},
   "outputs": [
    {
     "data": {
      "text/plain": [
       "array([1, 2])"
      ]
     },
     "execution_count": 44,
     "metadata": {},
     "output_type": "execute_result"
    }
   ],
   "source": [
    "mask=~(n>=3)\n",
    "n[mask]"
   ]
  },
  {
   "cell_type": "code",
   "execution_count": 45,
   "id": "3c289d51",
   "metadata": {},
   "outputs": [
    {
     "data": {
      "text/plain": [
       "array([3, 3])"
      ]
     },
     "execution_count": 45,
     "metadata": {},
     "output_type": "execute_result"
    }
   ],
   "source": [
    "mask=n==3\n",
    "n[mask]"
   ]
  },
  {
   "cell_type": "code",
   "execution_count": 46,
   "id": "a81c7605",
   "metadata": {},
   "outputs": [
    {
     "data": {
      "text/plain": [
       "array([1, 2, 5, 6, 3, 4, 8, 5, 8, 3])"
      ]
     },
     "execution_count": 46,
     "metadata": {},
     "output_type": "execute_result"
    }
   ],
   "source": [
    "mask=~(n==7)\n",
    "n[mask]"
   ]
  },
  {
   "cell_type": "code",
   "execution_count": 47,
   "id": "39a4730e",
   "metadata": {},
   "outputs": [
    {
     "data": {
      "text/plain": [
       "array([1, 2, 5, 6, 3, 4, 8, 5, 8, 3])"
      ]
     },
     "execution_count": 47,
     "metadata": {},
     "output_type": "execute_result"
    }
   ],
   "source": [
    "mask=n!=7\n",
    "n[mask]"
   ]
  },
  {
   "cell_type": "code",
   "execution_count": 48,
   "id": "e5cc54a0",
   "metadata": {},
   "outputs": [
    {
     "data": {
      "text/plain": [
       "array([7, 7])"
      ]
     },
     "execution_count": 48,
     "metadata": {},
     "output_type": "execute_result"
    }
   ],
   "source": [
    "mask=~(n!=7)\n",
    "n[mask]"
   ]
  },
  {
   "cell_type": "code",
   "execution_count": 49,
   "id": "cfa1e9d3",
   "metadata": {},
   "outputs": [
    {
     "name": "stdout",
     "output_type": "stream",
     "text": [
      "[  1   2   3   4   5   6   7   8   9  45 354 547  36 563  99]\n"
     ]
    },
    {
     "data": {
      "text/plain": [
       "array([  1,   2, 999,   4,   5,   6,   7,   8,   9,  45, 354, 547,  36,\n",
       "       563,  99])"
      ]
     },
     "execution_count": 49,
     "metadata": {},
     "output_type": "execute_result"
    }
   ],
   "source": [
    "print(l)\n",
    "l[2]=999\n",
    "l"
   ]
  },
  {
   "cell_type": "code",
   "execution_count": 50,
   "id": "30272cfa",
   "metadata": {},
   "outputs": [
    {
     "data": {
      "text/plain": [
       "array([  1,   2, 999,   7,   7,   7,   7,   8,   9,  45, 354, 547,  36,\n",
       "       563,  99])"
      ]
     },
     "execution_count": 50,
     "metadata": {},
     "output_type": "execute_result"
    }
   ],
   "source": [
    "#assign by slicing in 1-D\n",
    "l[3:6]=7\n",
    "l"
   ]
  },
  {
   "cell_type": "code",
   "execution_count": 51,
   "id": "79431685",
   "metadata": {},
   "outputs": [
    {
     "name": "stdout",
     "output_type": "stream",
     "text": [
      "[[1 2 5 6]\n",
      " [3 4 7 8]\n",
      " [5 8 3 7]]\n"
     ]
    },
    {
     "data": {
      "text/plain": [
       "array([[ 1,  2, 17,  6],\n",
       "       [ 3,  4, 14,  8],\n",
       "       [ 5, 99,  3,  7]])"
      ]
     },
     "execution_count": 51,
     "metadata": {},
     "output_type": "execute_result"
    }
   ],
   "source": [
    "print(n)\n",
    "n[0,2]=17\n",
    "n[2,1]=99\n",
    "n[1,2]=14\n",
    "n"
   ]
  },
  {
   "cell_type": "code",
   "execution_count": 52,
   "id": "81d51d18",
   "metadata": {},
   "outputs": [
    {
     "name": "stdout",
     "output_type": "stream",
     "text": [
      "[[ 1  2 17  6]\n",
      " [ 3  4 14  8]\n",
      " [ 5 99  3  7]]\n"
     ]
    },
    {
     "data": {
      "text/plain": [
       "array([[15, 22, 17,  6],\n",
       "       [ 3, 44, 44,  8],\n",
       "       [ 5, 99, 55, 55]])"
      ]
     },
     "execution_count": 52,
     "metadata": {},
     "output_type": "execute_result"
    }
   ],
   "source": [
    "#Assignment of value by slicing in 2-D\n",
    "print(n)\n",
    "n[1:2,2:3]=21\n",
    "n[0:1,0:1]=15\n",
    "n[0:1,1:2]=22\n",
    "n[1:2,1:3]=44\n",
    "n[2:3,2:4]=55\n",
    "n"
   ]
  },
  {
   "cell_type": "code",
   "execution_count": 53,
   "id": "2b818dde",
   "metadata": {},
   "outputs": [
    {
     "name": "stdout",
     "output_type": "stream",
     "text": [
      "[  1   2 999   7   7   7   7   8   9  45 354 547  36 563  99]\n"
     ]
    },
    {
     "data": {
      "text/plain": [
       "array([  1,   2, 999,  55,  55,  55,  55,   8,   9,  45, 354, 547,  36,\n",
       "       563,  99])"
      ]
     },
     "execution_count": 53,
     "metadata": {},
     "output_type": "execute_result"
    }
   ],
   "source": [
    "print(l)\n",
    "mask=l==7\n",
    "l[mask]=55\n",
    "l"
   ]
  },
  {
   "cell_type": "code",
   "execution_count": 54,
   "id": "c46007e7",
   "metadata": {},
   "outputs": [
    {
     "data": {
      "text/plain": [
       "array([  1,   2,  88,  55,  55,  55,  55,   8,   9,  45, 354, 547,  36,\n",
       "       563,  99])"
      ]
     },
     "execution_count": 54,
     "metadata": {},
     "output_type": "execute_result"
    }
   ],
   "source": [
    "mask=l>=777\n",
    "l[mask]=88\n",
    "l"
   ]
  },
  {
   "cell_type": "code",
   "execution_count": 55,
   "id": "0e4a2ff1",
   "metadata": {},
   "outputs": [
    {
     "name": "stdout",
     "output_type": "stream",
     "text": [
      "[[15 22 17  6]\n",
      " [ 3 44 44  8]\n",
      " [ 5 99 55 55]]\n"
     ]
    },
    {
     "data": {
      "text/plain": [
       "array([[15, 22, 17,  6],\n",
       "       [ 3, 44, 44,  8],\n",
       "       [ 5, 77, 77, 77]])"
      ]
     },
     "execution_count": 55,
     "metadata": {},
     "output_type": "execute_result"
    }
   ],
   "source": [
    "print(n)\n",
    "mask=n>=55\n",
    "n[mask]=77\n",
    "n"
   ]
  },
  {
   "cell_type": "code",
   "execution_count": 56,
   "id": "d2ea1ae1",
   "metadata": {},
   "outputs": [
    {
     "data": {
      "text/plain": [
       "array([[ 15,  22,  17,   6],\n",
       "       [  3,  44,  44,   8],\n",
       "       [  5, 256, 256, 256]])"
      ]
     },
     "execution_count": 56,
     "metadata": {},
     "output_type": "execute_result"
    }
   ],
   "source": [
    "mask=n==77\n",
    "n[mask]=256\n",
    "n"
   ]
  },
  {
   "cell_type": "code",
   "execution_count": 57,
   "id": "cd633e87",
   "metadata": {},
   "outputs": [
    {
     "data": {
      "text/plain": [
       "array([[15, 22, 17,  6],\n",
       "       [ 3, 44, 44,  8],\n",
       "       [ 5, 67, 67, 67]])"
      ]
     },
     "execution_count": 57,
     "metadata": {},
     "output_type": "execute_result"
    }
   ],
   "source": [
    "mask=((n>200)&(n%2==0))\n",
    "n[mask]=67\n",
    "n"
   ]
  },
  {
   "cell_type": "code",
   "execution_count": 58,
   "id": "309db6fb",
   "metadata": {},
   "outputs": [
    {
     "data": {
      "text/plain": [
       "array([[45, 22, 45,  6],\n",
       "       [ 3, 44, 44,  8],\n",
       "       [ 5, 45, 45, 45]])"
      ]
     },
     "execution_count": 58,
     "metadata": {},
     "output_type": "execute_result"
    }
   ],
   "source": [
    "mask=((n>=10)&(n%2!=0))\n",
    "n[mask]=45\n",
    "n"
   ]
  },
  {
   "cell_type": "code",
   "execution_count": 59,
   "id": "ce833995",
   "metadata": {},
   "outputs": [
    {
     "data": {
      "text/plain": [
       "array([[41, 49, 18, 33, 39],\n",
       "       [ 4, 35, 28, 23, 17],\n",
       "       [16, 48, 46, 27, 16],\n",
       "       [15, 41, 45, 34,  9],\n",
       "       [28,  8,  7, 27, 22],\n",
       "       [34,  6,  9,  9, 15]])"
      ]
     },
     "execution_count": 59,
     "metadata": {},
     "output_type": "execute_result"
    }
   ],
   "source": [
    "b=np.random.randint(2.0,50.0,30).reshape(6,5)\n",
    "b"
   ]
  },
  {
   "cell_type": "code",
   "execution_count": 60,
   "id": "b398e63c",
   "metadata": {},
   "outputs": [
    {
     "data": {
      "text/plain": [
       "array([[ 4,  6,  7,  9,  9],\n",
       "       [15,  8,  9, 23, 15],\n",
       "       [16, 35, 18, 27, 16],\n",
       "       [28, 41, 28, 27, 17],\n",
       "       [34, 48, 45, 33, 22],\n",
       "       [41, 49, 46, 34, 39]])"
      ]
     },
     "execution_count": 60,
     "metadata": {},
     "output_type": "execute_result"
    }
   ],
   "source": [
    "a=np.sort(b,axis=0)   # 0 for y axis \n",
    "#a2=a1+a\n",
    "a"
   ]
  },
  {
   "cell_type": "code",
   "execution_count": 63,
   "id": "db2077b8",
   "metadata": {},
   "outputs": [
    {
     "data": {
      "text/plain": [
       "array([[ 4,  6,  7,  9,  9],\n",
       "       [ 8,  9, 15, 15, 23],\n",
       "       [16, 16, 18, 27, 35],\n",
       "       [17, 27, 28, 28, 41],\n",
       "       [22, 33, 34, 45, 48],\n",
       "       [34, 39, 41, 46, 49]])"
      ]
     },
     "execution_count": 63,
     "metadata": {},
     "output_type": "execute_result"
    }
   ],
   "source": [
    "a1=np.sort(a,axis=1)  # 1 for x axis\n",
    "a1"
   ]
  },
  {
   "cell_type": "code",
   "execution_count": null,
   "id": "6dfb12d1",
   "metadata": {},
   "outputs": [],
   "source": []
  },
  {
   "cell_type": "code",
   "execution_count": null,
   "id": "4a147753",
   "metadata": {},
   "outputs": [],
   "source": []
  }
 ],
 "metadata": {
  "kernelspec": {
   "display_name": "Python 3 (ipykernel)",
   "language": "python",
   "name": "python3"
  },
  "language_info": {
   "codemirror_mode": {
    "name": "ipython",
    "version": 3
   },
   "file_extension": ".py",
   "mimetype": "text/x-python",
   "name": "python",
   "nbconvert_exporter": "python",
   "pygments_lexer": "ipython3",
   "version": "3.10.9"
  }
 },
 "nbformat": 4,
 "nbformat_minor": 5
}
