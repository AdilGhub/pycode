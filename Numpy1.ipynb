{
 "cells": [
  {
   "cell_type": "code",
   "execution_count": 1,
   "id": "2a750a40",
   "metadata": {},
   "outputs": [],
   "source": [
    "import numpy as np"
   ]
  },
  {
   "cell_type": "code",
   "execution_count": 2,
   "id": "18a9ede1",
   "metadata": {},
   "outputs": [],
   "source": [
    "array=np.array([1,2,3,4,5,6,7])"
   ]
  },
  {
   "cell_type": "code",
   "execution_count": 3,
   "id": "aad1e9c8",
   "metadata": {},
   "outputs": [
    {
     "data": {
      "text/plain": [
       "array([1, 2, 3, 4, 5, 6, 7])"
      ]
     },
     "execution_count": 3,
     "metadata": {},
     "output_type": "execute_result"
    }
   ],
   "source": [
    "array"
   ]
  },
  {
   "cell_type": "code",
   "execution_count": 4,
   "id": "a6643cee",
   "metadata": {},
   "outputs": [
    {
     "data": {
      "text/plain": [
       "array([ 2,  4,  6,  8, 10, 12, 14])"
      ]
     },
     "execution_count": 4,
     "metadata": {},
     "output_type": "execute_result"
    }
   ],
   "source": [
    "array*2"
   ]
  },
  {
   "cell_type": "code",
   "execution_count": 5,
   "id": "688a67a0",
   "metadata": {},
   "outputs": [
    {
     "data": {
      "text/plain": [
       "array([-1,  0,  1,  2,  3,  4,  5])"
      ]
     },
     "execution_count": 5,
     "metadata": {},
     "output_type": "execute_result"
    }
   ],
   "source": [
    "array-2"
   ]
  },
  {
   "cell_type": "code",
   "execution_count": 6,
   "id": "68d79fdb",
   "metadata": {},
   "outputs": [
    {
     "data": {
      "text/plain": [
       "array([34, 35, 36, 37, 38, 39, 40])"
      ]
     },
     "execution_count": 6,
     "metadata": {},
     "output_type": "execute_result"
    }
   ],
   "source": [
    "array+33"
   ]
  },
  {
   "cell_type": "code",
   "execution_count": 7,
   "id": "23a96f50",
   "metadata": {},
   "outputs": [
    {
     "data": {
      "text/plain": [
       "array([0.5, 1. , 1.5, 2. , 2.5, 3. , 3.5])"
      ]
     },
     "execution_count": 7,
     "metadata": {},
     "output_type": "execute_result"
    }
   ],
   "source": [
    "array/2"
   ]
  },
  {
   "cell_type": "code",
   "execution_count": 8,
   "id": "b52f7fa5",
   "metadata": {},
   "outputs": [
    {
     "data": {
      "text/plain": [
       "array([1, 0, 1, 0, 1, 0, 1], dtype=int32)"
      ]
     },
     "execution_count": 8,
     "metadata": {},
     "output_type": "execute_result"
    }
   ],
   "source": [
    "array%2"
   ]
  },
  {
   "cell_type": "code",
   "execution_count": 9,
   "id": "573bc1c6",
   "metadata": {},
   "outputs": [
    {
     "data": {
      "text/plain": [
       "array([2, 3, 4, 5, 6, 7, 8])"
      ]
     },
     "execution_count": 9,
     "metadata": {},
     "output_type": "execute_result"
    }
   ],
   "source": [
    "array+3-2"
   ]
  },
  {
   "cell_type": "code",
   "execution_count": 10,
   "id": "90441d92",
   "metadata": {},
   "outputs": [
    {
     "data": {
      "text/plain": [
       "3"
      ]
     },
     "execution_count": 10,
     "metadata": {},
     "output_type": "execute_result"
    }
   ],
   "source": [
    "array[2]"
   ]
  },
  {
   "cell_type": "code",
   "execution_count": 11,
   "id": "72f4f619",
   "metadata": {},
   "outputs": [
    {
     "data": {
      "text/plain": [
       "12"
      ]
     },
     "execution_count": 11,
     "metadata": {},
     "output_type": "execute_result"
    }
   ],
   "source": [
    "array[4]+array[6]"
   ]
  },
  {
   "cell_type": "code",
   "execution_count": 12,
   "id": "f454ae11",
   "metadata": {},
   "outputs": [
    {
     "data": {
      "text/plain": [
       "array([1, 2, 3, 4, 5, 6, 7])"
      ]
     },
     "execution_count": 12,
     "metadata": {},
     "output_type": "execute_result"
    }
   ],
   "source": [
    "array[0:]"
   ]
  },
  {
   "cell_type": "code",
   "execution_count": 13,
   "id": "9d4532d4",
   "metadata": {},
   "outputs": [
    {
     "data": {
      "text/plain": [
       "array([3, 4, 5, 6, 7])"
      ]
     },
     "execution_count": 13,
     "metadata": {},
     "output_type": "execute_result"
    }
   ],
   "source": [
    "array[2:]"
   ]
  },
  {
   "cell_type": "code",
   "execution_count": 14,
   "id": "33083192",
   "metadata": {},
   "outputs": [
    {
     "data": {
      "text/plain": [
       "array([1, 2, 3, 4, 5, 6, 7])"
      ]
     },
     "execution_count": 14,
     "metadata": {},
     "output_type": "execute_result"
    }
   ],
   "source": [
    "array[:7]"
   ]
  },
  {
   "cell_type": "code",
   "execution_count": 15,
   "id": "770bf8db",
   "metadata": {},
   "outputs": [],
   "source": [
    "array2=np.array([10,11,12,13,14,15,16])"
   ]
  },
  {
   "cell_type": "code",
   "execution_count": 16,
   "id": "306eaca9",
   "metadata": {},
   "outputs": [
    {
     "data": {
      "text/plain": [
       "array([11, 13, 15, 17, 19, 21, 23])"
      ]
     },
     "execution_count": 16,
     "metadata": {},
     "output_type": "execute_result"
    }
   ],
   "source": [
    "array+array2"
   ]
  },
  {
   "cell_type": "code",
   "execution_count": 17,
   "id": "56ae7561",
   "metadata": {},
   "outputs": [
    {
     "data": {
      "text/plain": [
       "array([-9, -9, -9, -9, -9, -9, -9])"
      ]
     },
     "execution_count": 17,
     "metadata": {},
     "output_type": "execute_result"
    }
   ],
   "source": [
    "array-array2"
   ]
  },
  {
   "cell_type": "code",
   "execution_count": 18,
   "id": "715fb154",
   "metadata": {},
   "outputs": [
    {
     "data": {
      "text/plain": [
       "array([9, 9, 9, 9, 9, 9, 9])"
      ]
     },
     "execution_count": 18,
     "metadata": {},
     "output_type": "execute_result"
    }
   ],
   "source": [
    "array2-array"
   ]
  },
  {
   "cell_type": "code",
   "execution_count": 19,
   "id": "b873680f",
   "metadata": {},
   "outputs": [
    {
     "data": {
      "text/plain": [
       "array([ 10,  22,  36,  52,  70,  90, 112])"
      ]
     },
     "execution_count": 19,
     "metadata": {},
     "output_type": "execute_result"
    }
   ],
   "source": [
    "array*array2"
   ]
  },
  {
   "cell_type": "code",
   "execution_count": 20,
   "id": "e3b0ed95",
   "metadata": {},
   "outputs": [
    {
     "data": {
      "text/plain": [
       "array([0.1       , 0.18181818, 0.25      , 0.30769231, 0.35714286,\n",
       "       0.4       , 0.4375    ])"
      ]
     },
     "execution_count": 20,
     "metadata": {},
     "output_type": "execute_result"
    }
   ],
   "source": [
    "array/array2"
   ]
  },
  {
   "cell_type": "code",
   "execution_count": 21,
   "id": "75ff76ea",
   "metadata": {},
   "outputs": [
    {
     "data": {
      "text/plain": [
       "array([10.        ,  5.5       ,  4.        ,  3.25      ,  2.8       ,\n",
       "        2.5       ,  2.28571429])"
      ]
     },
     "execution_count": 21,
     "metadata": {},
     "output_type": "execute_result"
    }
   ],
   "source": [
    "array2/array"
   ]
  },
  {
   "cell_type": "code",
   "execution_count": 22,
   "id": "1ea1fc42",
   "metadata": {},
   "outputs": [
    {
     "data": {
      "text/plain": [
       "array([1, 2, 3, 4, 5, 6, 7])"
      ]
     },
     "execution_count": 22,
     "metadata": {},
     "output_type": "execute_result"
    }
   ],
   "source": [
    "array%array2"
   ]
  },
  {
   "cell_type": "code",
   "execution_count": 23,
   "id": "11343793",
   "metadata": {},
   "outputs": [
    {
     "data": {
      "text/plain": [
       "array([0, 1, 0, 1, 4, 3, 2])"
      ]
     },
     "execution_count": 23,
     "metadata": {},
     "output_type": "execute_result"
    }
   ],
   "source": [
    "array2%array"
   ]
  },
  {
   "cell_type": "code",
   "execution_count": 24,
   "id": "68cafa98",
   "metadata": {},
   "outputs": [],
   "source": [
    "matrix=np.array([[1,2,3],[4,5,6],[7,8,9]])"
   ]
  },
  {
   "cell_type": "code",
   "execution_count": 25,
   "id": "bba8b85e",
   "metadata": {},
   "outputs": [
    {
     "data": {
      "text/plain": [
       "array([[1, 2, 3],\n",
       "       [4, 5, 6],\n",
       "       [7, 8, 9]])"
      ]
     },
     "execution_count": 25,
     "metadata": {},
     "output_type": "execute_result"
    }
   ],
   "source": [
    "matrix"
   ]
  },
  {
   "cell_type": "code",
   "execution_count": 26,
   "id": "82844fe6",
   "metadata": {},
   "outputs": [],
   "source": [
    "matrix2=np.array([[9,8,7],[6,5,4],[3,2,1]])"
   ]
  },
  {
   "cell_type": "code",
   "execution_count": 27,
   "id": "a3428afe",
   "metadata": {},
   "outputs": [
    {
     "data": {
      "text/plain": [
       "array([[9, 8, 7],\n",
       "       [6, 5, 4],\n",
       "       [3, 2, 1]])"
      ]
     },
     "execution_count": 27,
     "metadata": {},
     "output_type": "execute_result"
    }
   ],
   "source": [
    "matrix2"
   ]
  },
  {
   "cell_type": "code",
   "execution_count": 28,
   "id": "33979a5d",
   "metadata": {},
   "outputs": [
    {
     "data": {
      "text/plain": [
       "array([[10, 10, 10],\n",
       "       [10, 10, 10],\n",
       "       [10, 10, 10]])"
      ]
     },
     "execution_count": 28,
     "metadata": {},
     "output_type": "execute_result"
    }
   ],
   "source": [
    "matrix+matrix2"
   ]
  },
  {
   "cell_type": "code",
   "execution_count": 29,
   "id": "d1540d05",
   "metadata": {},
   "outputs": [
    {
     "data": {
      "text/plain": [
       "array([[-8, -6, -4],\n",
       "       [-2,  0,  2],\n",
       "       [ 4,  6,  8]])"
      ]
     },
     "execution_count": 29,
     "metadata": {},
     "output_type": "execute_result"
    }
   ],
   "source": [
    "matrix-matrix2"
   ]
  },
  {
   "cell_type": "code",
   "execution_count": 30,
   "id": "5f6d5421",
   "metadata": {},
   "outputs": [
    {
     "data": {
      "text/plain": [
       "array([[ 8,  6,  4],\n",
       "       [ 2,  0, -2],\n",
       "       [-4, -6, -8]])"
      ]
     },
     "execution_count": 30,
     "metadata": {},
     "output_type": "execute_result"
    }
   ],
   "source": [
    "matrix2-matrix"
   ]
  },
  {
   "cell_type": "code",
   "execution_count": 31,
   "id": "ba356eb2",
   "metadata": {},
   "outputs": [
    {
     "data": {
      "text/plain": [
       "array([[ 9, 16, 21],\n",
       "       [24, 25, 24],\n",
       "       [21, 16,  9]])"
      ]
     },
     "execution_count": 31,
     "metadata": {},
     "output_type": "execute_result"
    }
   ],
   "source": [
    "matrix*matrix2"
   ]
  },
  {
   "cell_type": "code",
   "execution_count": 32,
   "id": "97288ef1",
   "metadata": {},
   "outputs": [
    {
     "data": {
      "text/plain": [
       "array([[ 30,  24,  18],\n",
       "       [ 84,  69,  54],\n",
       "       [138, 114,  90]])"
      ]
     },
     "execution_count": 32,
     "metadata": {},
     "output_type": "execute_result"
    }
   ],
   "source": [
    "matrix.dot(matrix2)"
   ]
  },
  {
   "cell_type": "code",
   "execution_count": 33,
   "id": "bef2e03e",
   "metadata": {},
   "outputs": [
    {
     "data": {
      "text/plain": [
       "array([[ 30,  36,  42],\n",
       "       [ 66,  81,  96],\n",
       "       [102, 126, 150]])"
      ]
     },
     "execution_count": 33,
     "metadata": {},
     "output_type": "execute_result"
    }
   ],
   "source": [
    "matrix.dot(matrix)"
   ]
  },
  {
   "cell_type": "code",
   "execution_count": 34,
   "id": "083ce4e9",
   "metadata": {},
   "outputs": [
    {
     "data": {
      "text/plain": [
       "array([[False, False,  True],\n",
       "       [ True,  True,  True],\n",
       "       [ True,  True,  True]])"
      ]
     },
     "execution_count": 34,
     "metadata": {},
     "output_type": "execute_result"
    }
   ],
   "source": [
    "matrix>2"
   ]
  },
  {
   "cell_type": "code",
   "execution_count": 35,
   "id": "6c9e6bff",
   "metadata": {},
   "outputs": [
    {
     "data": {
      "text/plain": [
       "array([[False,  True, False],\n",
       "       [False, False, False],\n",
       "       [False, False, False]])"
      ]
     },
     "execution_count": 35,
     "metadata": {},
     "output_type": "execute_result"
    }
   ],
   "source": [
    "matrix==2"
   ]
  },
  {
   "cell_type": "code",
   "execution_count": 36,
   "id": "39b291e2",
   "metadata": {},
   "outputs": [
    {
     "data": {
      "text/plain": [
       "array([[False,  True,  True],\n",
       "       [ True,  True,  True],\n",
       "       [ True,  True,  True]])"
      ]
     },
     "execution_count": 36,
     "metadata": {},
     "output_type": "execute_result"
    }
   ],
   "source": [
    "matrix!=1"
   ]
  },
  {
   "cell_type": "code",
   "execution_count": 37,
   "id": "51beb657",
   "metadata": {},
   "outputs": [
    {
     "data": {
      "text/plain": [
       "array([[False, False, False],\n",
       "       [False, False, False],\n",
       "       [False, False,  True]])"
      ]
     },
     "execution_count": 37,
     "metadata": {},
     "output_type": "execute_result"
    }
   ],
   "source": [
    "matrix2<2"
   ]
  },
  {
   "cell_type": "code",
   "execution_count": 38,
   "id": "bb4e8a33",
   "metadata": {},
   "outputs": [],
   "source": [
    "matrix3=np.array([['not','only','such'],['much','touch','more'],['less','least','low']])"
   ]
  },
  {
   "cell_type": "code",
   "execution_count": 39,
   "id": "ee98f4d7",
   "metadata": {},
   "outputs": [
    {
     "data": {
      "text/plain": [
       "array([[False, False,  True],\n",
       "       [False, False, False],\n",
       "       [False, False, False]])"
      ]
     },
     "execution_count": 39,
     "metadata": {},
     "output_type": "execute_result"
    }
   ],
   "source": [
    "matrix3=='such'"
   ]
  },
  {
   "cell_type": "code",
   "execution_count": 40,
   "id": "034b07f8",
   "metadata": {},
   "outputs": [
    {
     "data": {
      "text/plain": [
       "array([[ True,  True,  True],\n",
       "       [ True,  True,  True],\n",
       "       [False, False,  True]])"
      ]
     },
     "execution_count": 40,
     "metadata": {},
     "output_type": "execute_result"
    }
   ],
   "source": [
    "matrix3>'like'"
   ]
  },
  {
   "cell_type": "code",
   "execution_count": 41,
   "id": "c00911bd",
   "metadata": {},
   "outputs": [
    {
     "data": {
      "text/plain": [
       "array([[ True,  True,  True],\n",
       "       [ True,  True,  True],\n",
       "       [ True,  True, False]])"
      ]
     },
     "execution_count": 41,
     "metadata": {},
     "output_type": "execute_result"
    }
   ],
   "source": [
    "matrix3!='low'"
   ]
  },
  {
   "cell_type": "code",
   "execution_count": 42,
   "id": "1392aea7",
   "metadata": {},
   "outputs": [
    {
     "data": {
      "text/plain": [
       "True"
      ]
     },
     "execution_count": 42,
     "metadata": {},
     "output_type": "execute_result"
    }
   ],
   "source": [
    "'ch' in matrix3[1][1]"
   ]
  },
  {
   "cell_type": "code",
   "execution_count": 43,
   "id": "daec490c",
   "metadata": {},
   "outputs": [
    {
     "data": {
      "text/plain": [
       "array(['not', 'only', 'such', 'much', 'touch', 'more', 'low'], dtype='<U5')"
      ]
     },
     "execution_count": 43,
     "metadata": {},
     "output_type": "execute_result"
    }
   ],
   "source": [
    "matrix3[matrix3>'like']"
   ]
  },
  {
   "cell_type": "code",
   "execution_count": 44,
   "id": "48a0f92f",
   "metadata": {},
   "outputs": [
    {
     "data": {
      "text/plain": [
       "array(['such'], dtype='<U5')"
      ]
     },
     "execution_count": 44,
     "metadata": {},
     "output_type": "execute_result"
    }
   ],
   "source": [
    "matrix3[matrix3=='such']"
   ]
  },
  {
   "cell_type": "code",
   "execution_count": 45,
   "id": "6444935a",
   "metadata": {},
   "outputs": [
    {
     "data": {
      "text/plain": [
       "array(['not', 'only', 'such', 'much', 'touch', 'more', 'less', 'least',\n",
       "       'low'], dtype='<U5')"
      ]
     },
     "execution_count": 45,
     "metadata": {},
     "output_type": "execute_result"
    }
   ],
   "source": [
    "matrix3[matrix3>'a']"
   ]
  },
  {
   "cell_type": "code",
   "execution_count": 46,
   "id": "28b53794",
   "metadata": {},
   "outputs": [
    {
     "data": {
      "text/plain": [
       "array(['such', 'touch'], dtype='<U5')"
      ]
     },
     "execution_count": 46,
     "metadata": {},
     "output_type": "execute_result"
    }
   ],
   "source": [
    "matrix3[matrix3>'s']"
   ]
  },
  {
   "cell_type": "code",
   "execution_count": 47,
   "id": "5a60c10b",
   "metadata": {},
   "outputs": [
    {
     "data": {
      "text/plain": [
       "array(['not', 'only', 'much', 'more', 'less', 'least', 'low'], dtype='<U5')"
      ]
     },
     "execution_count": 47,
     "metadata": {},
     "output_type": "execute_result"
    }
   ],
   "source": [
    "matrix3[matrix3<'s']"
   ]
  },
  {
   "cell_type": "code",
   "execution_count": 48,
   "id": "469bb4bb",
   "metadata": {},
   "outputs": [
    {
     "data": {
      "text/plain": [
       "array([], dtype='<U5')"
      ]
     },
     "execution_count": 48,
     "metadata": {},
     "output_type": "execute_result"
    }
   ],
   "source": [
    "matrix3[matrix3<='Z']"
   ]
  },
  {
   "cell_type": "code",
   "execution_count": 49,
   "id": "e583e968",
   "metadata": {},
   "outputs": [
    {
     "data": {
      "text/plain": [
       "array(['not', 'only', 'such', 'much', 'touch', 'more', 'less', 'least',\n",
       "       'low'], dtype='<U5')"
      ]
     },
     "execution_count": 49,
     "metadata": {},
     "output_type": "execute_result"
    }
   ],
   "source": [
    "matrix3[matrix3!='a']"
   ]
  },
  {
   "cell_type": "code",
   "execution_count": 50,
   "id": "80edaee6",
   "metadata": {},
   "outputs": [
    {
     "data": {
      "text/plain": [
       "array(['not', 'only', 'such', 'much', 'touch', 'more', 'less', 'least',\n",
       "       'low'], dtype='<U5')"
      ]
     },
     "execution_count": 50,
     "metadata": {},
     "output_type": "execute_result"
    }
   ],
   "source": [
    "matrix3[matrix3==matrix3]"
   ]
  },
  {
   "cell_type": "code",
   "execution_count": 51,
   "id": "2df91d9e",
   "metadata": {},
   "outputs": [
    {
     "data": {
      "text/plain": [
       "5.0"
      ]
     },
     "execution_count": 51,
     "metadata": {},
     "output_type": "execute_result"
    }
   ],
   "source": [
    "matrix.mean()"
   ]
  },
  {
   "cell_type": "code",
   "execution_count": 52,
   "id": "ba57c594",
   "metadata": {},
   "outputs": [
    {
     "data": {
      "text/plain": [
       "9"
      ]
     },
     "execution_count": 52,
     "metadata": {},
     "output_type": "execute_result"
    }
   ],
   "source": [
    "matrix.max()"
   ]
  },
  {
   "cell_type": "code",
   "execution_count": 53,
   "id": "8b1bdac1",
   "metadata": {},
   "outputs": [
    {
     "data": {
      "text/plain": [
       "1"
      ]
     },
     "execution_count": 53,
     "metadata": {},
     "output_type": "execute_result"
    }
   ],
   "source": [
    "matrix.min()"
   ]
  },
  {
   "cell_type": "code",
   "execution_count": 56,
   "id": "9c7041b5",
   "metadata": {},
   "outputs": [],
   "source": [
    "matrix4=np.array([['not','onlyi','such'],['much','touchi','more'],['less','leasti','low']])"
   ]
  },
  {
   "cell_type": "code",
   "execution_count": 57,
   "id": "d4028edb",
   "metadata": {},
   "outputs": [
    {
     "data": {
      "text/plain": [
       "array(['not', 'such', 'much', 'more', 'less', 'low'], dtype='<U5')"
      ]
     },
     "execution_count": 57,
     "metadata": {},
     "output_type": "execute_result"
    }
   ],
   "source": [
    "matrix3[matrix3==matrix4]"
   ]
  },
  {
   "cell_type": "code",
   "execution_count": 4,
   "id": "6914b636",
   "metadata": {},
   "outputs": [],
   "source": [
    "arr=np.array([[0,0,0],[0,0,0],[0,0,0]])"
   ]
  },
  {
   "cell_type": "code",
   "execution_count": 2,
   "id": "236ad955",
   "metadata": {},
   "outputs": [],
   "source": [
    "arr1=np.random.rand(5,5)"
   ]
  },
  {
   "cell_type": "code",
   "execution_count": 3,
   "id": "0ff9ea28",
   "metadata": {},
   "outputs": [
    {
     "data": {
      "text/plain": [
       "array([[0.38916203, 0.65199318, 0.72618431, 0.81739316, 0.94359711],\n",
       "       [0.74219622, 0.8376035 , 0.78741483, 0.06088337, 0.96245944],\n",
       "       [0.24002894, 0.05909407, 0.05094441, 0.14672017, 0.20703803],\n",
       "       [0.96293527, 0.91096557, 0.55206279, 0.88967281, 0.66912518],\n",
       "       [0.041912  , 0.31119161, 0.10777383, 0.12794646, 0.21291718]])"
      ]
     },
     "execution_count": 3,
     "metadata": {},
     "output_type": "execute_result"
    }
   ],
   "source": [
    "arr1"
   ]
  },
  {
   "cell_type": "code",
   "execution_count": 5,
   "id": "06313312",
   "metadata": {},
   "outputs": [
    {
     "data": {
      "text/plain": [
       "array([[0, 0, 0],\n",
       "       [0, 0, 0],\n",
       "       [0, 0, 0]])"
      ]
     },
     "execution_count": 5,
     "metadata": {},
     "output_type": "execute_result"
    }
   ],
   "source": [
    "arr"
   ]
  },
  {
   "cell_type": "code",
   "execution_count": 7,
   "id": "77f09707",
   "metadata": {},
   "outputs": [],
   "source": [
    "zarr=np.zeros((3,3))"
   ]
  },
  {
   "cell_type": "code",
   "execution_count": 8,
   "id": "be909521",
   "metadata": {},
   "outputs": [
    {
     "data": {
      "text/plain": [
       "array([[0., 0., 0.],\n",
       "       [0., 0., 0.],\n",
       "       [0., 0., 0.]])"
      ]
     },
     "execution_count": 8,
     "metadata": {},
     "output_type": "execute_result"
    }
   ],
   "source": [
    "zarr"
   ]
  },
  {
   "cell_type": "code",
   "execution_count": 9,
   "id": "8bde4adc",
   "metadata": {},
   "outputs": [],
   "source": [
    "one_arr=np.ones((4,4))"
   ]
  },
  {
   "cell_type": "code",
   "execution_count": 10,
   "id": "a45edb1e",
   "metadata": {},
   "outputs": [
    {
     "data": {
      "text/plain": [
       "array([[1., 1., 1., 1.],\n",
       "       [1., 1., 1., 1.],\n",
       "       [1., 1., 1., 1.],\n",
       "       [1., 1., 1., 1.]])"
      ]
     },
     "execution_count": 10,
     "metadata": {},
     "output_type": "execute_result"
    }
   ],
   "source": [
    "one_arr"
   ]
  },
  {
   "cell_type": "code",
   "execution_count": 11,
   "id": "b7c923c3",
   "metadata": {},
   "outputs": [],
   "source": [
    "Identity_matrix=np.eye(5)"
   ]
  },
  {
   "cell_type": "code",
   "execution_count": 12,
   "id": "7c4c53df",
   "metadata": {},
   "outputs": [
    {
     "data": {
      "text/plain": [
       "array([[1., 0., 0., 0., 0.],\n",
       "       [0., 1., 0., 0., 0.],\n",
       "       [0., 0., 1., 0., 0.],\n",
       "       [0., 0., 0., 1., 0.],\n",
       "       [0., 0., 0., 0., 1.]])"
      ]
     },
     "execution_count": 12,
     "metadata": {},
     "output_type": "execute_result"
    }
   ],
   "source": [
    "Identity_matrix"
   ]
  },
  {
   "cell_type": "code",
   "execution_count": 24,
   "id": "4b00de83",
   "metadata": {},
   "outputs": [],
   "source": [
    "a1=np.array([2,3,4,5])"
   ]
  },
  {
   "cell_type": "code",
   "execution_count": 25,
   "id": "747a5e8b",
   "metadata": {},
   "outputs": [
    {
     "data": {
      "text/plain": [
       "array([2, 3, 4, 5])"
      ]
     },
     "execution_count": 25,
     "metadata": {},
     "output_type": "execute_result"
    }
   ],
   "source": [
    "a1"
   ]
  },
  {
   "cell_type": "code",
   "execution_count": 27,
   "id": "f94e8fca",
   "metadata": {},
   "outputs": [],
   "source": [
    "a2=np.array([[2,4,6,8],[1,3,5,6]])"
   ]
  },
  {
   "cell_type": "code",
   "execution_count": 28,
   "id": "e3089094",
   "metadata": {},
   "outputs": [
    {
     "data": {
      "text/plain": [
       "array([[2, 4, 6, 8],\n",
       "       [1, 3, 5, 6]])"
      ]
     },
     "execution_count": 28,
     "metadata": {},
     "output_type": "execute_result"
    }
   ],
   "source": [
    "a2"
   ]
  },
  {
   "cell_type": "code",
   "execution_count": 29,
   "id": "1f609fb9",
   "metadata": {},
   "outputs": [],
   "source": [
    "a3=np.array([[[2,3,4],[5,6,7]],[[8,9,0],[1,23,4]]])"
   ]
  },
  {
   "cell_type": "code",
   "execution_count": 30,
   "id": "17c5c5ca",
   "metadata": {},
   "outputs": [
    {
     "data": {
      "text/plain": [
       "array([[[ 2,  3,  4],\n",
       "        [ 5,  6,  7]],\n",
       "\n",
       "       [[ 8,  9,  0],\n",
       "        [ 1, 23,  4]]])"
      ]
     },
     "execution_count": 30,
     "metadata": {},
     "output_type": "execute_result"
    }
   ],
   "source": [
    "a3"
   ]
  },
  {
   "cell_type": "code",
   "execution_count": 34,
   "id": "684632a1",
   "metadata": {},
   "outputs": [
    {
     "data": {
      "text/plain": [
       "array([0, 1, 2, 3, 4, 5, 6, 7, 8, 9])"
      ]
     },
     "execution_count": 34,
     "metadata": {},
     "output_type": "execute_result"
    }
   ],
   "source": [
    "np.arange(0,10)"
   ]
  },
  {
   "cell_type": "code",
   "execution_count": 35,
   "id": "71ec175c",
   "metadata": {},
   "outputs": [
    {
     "data": {
      "text/plain": [
       "0"
      ]
     },
     "execution_count": 35,
     "metadata": {},
     "output_type": "execute_result"
    }
   ],
   "source": [
    "np.amin(a3)"
   ]
  },
  {
   "cell_type": "code",
   "execution_count": 36,
   "id": "a7716425",
   "metadata": {},
   "outputs": [
    {
     "data": {
      "text/plain": [
       "23"
      ]
     },
     "execution_count": 36,
     "metadata": {},
     "output_type": "execute_result"
    }
   ],
   "source": [
    "np.amax(a3)"
   ]
  },
  {
   "cell_type": "code",
   "execution_count": 37,
   "id": "d6bff689",
   "metadata": {},
   "outputs": [
    {
     "data": {
      "text/plain": [
       "array([[[ 2,  3,  4],\n",
       "        [ 5,  6,  7]],\n",
       "\n",
       "       [[ 8,  9,  0],\n",
       "        [ 1, 23,  4]]])"
      ]
     },
     "execution_count": 37,
     "metadata": {},
     "output_type": "execute_result"
    }
   ],
   "source": [
    "np.abs(a3)"
   ]
  },
  {
   "cell_type": "code",
   "execution_count": 70,
   "id": "046d4f20",
   "metadata": {},
   "outputs": [],
   "source": [
    "a22=np.arange(1,101).reshape(10,10)"
   ]
  },
  {
   "cell_type": "code",
   "execution_count": 71,
   "id": "2ed4007d",
   "metadata": {},
   "outputs": [
    {
     "data": {
      "text/plain": [
       "array([[  1,   2,   3,   4,   5,   6,   7,   8,   9,  10],\n",
       "       [ 11,  12,  13,  14,  15,  16,  17,  18,  19,  20],\n",
       "       [ 21,  22,  23,  24,  25,  26,  27,  28,  29,  30],\n",
       "       [ 31,  32,  33,  34,  35,  36,  37,  38,  39,  40],\n",
       "       [ 41,  42,  43,  44,  45,  46,  47,  48,  49,  50],\n",
       "       [ 51,  52,  53,  54,  55,  56,  57,  58,  59,  60],\n",
       "       [ 61,  62,  63,  64,  65,  66,  67,  68,  69,  70],\n",
       "       [ 71,  72,  73,  74,  75,  76,  77,  78,  79,  80],\n",
       "       [ 81,  82,  83,  84,  85,  86,  87,  88,  89,  90],\n",
       "       [ 91,  92,  93,  94,  95,  96,  97,  98,  99, 100]])"
      ]
     },
     "execution_count": 71,
     "metadata": {},
     "output_type": "execute_result"
    }
   ],
   "source": [
    "a22"
   ]
  },
  {
   "cell_type": "code",
   "execution_count": 72,
   "id": "abe3e31e",
   "metadata": {},
   "outputs": [],
   "source": [
    "a33=np.arange(1,401).reshape(4,10,10)"
   ]
  },
  {
   "cell_type": "code",
   "execution_count": 73,
   "id": "3551a3ed",
   "metadata": {},
   "outputs": [
    {
     "data": {
      "text/plain": [
       "array([[[  1,   2,   3,   4,   5,   6,   7,   8,   9,  10],\n",
       "        [ 11,  12,  13,  14,  15,  16,  17,  18,  19,  20],\n",
       "        [ 21,  22,  23,  24,  25,  26,  27,  28,  29,  30],\n",
       "        [ 31,  32,  33,  34,  35,  36,  37,  38,  39,  40],\n",
       "        [ 41,  42,  43,  44,  45,  46,  47,  48,  49,  50],\n",
       "        [ 51,  52,  53,  54,  55,  56,  57,  58,  59,  60],\n",
       "        [ 61,  62,  63,  64,  65,  66,  67,  68,  69,  70],\n",
       "        [ 71,  72,  73,  74,  75,  76,  77,  78,  79,  80],\n",
       "        [ 81,  82,  83,  84,  85,  86,  87,  88,  89,  90],\n",
       "        [ 91,  92,  93,  94,  95,  96,  97,  98,  99, 100]],\n",
       "\n",
       "       [[101, 102, 103, 104, 105, 106, 107, 108, 109, 110],\n",
       "        [111, 112, 113, 114, 115, 116, 117, 118, 119, 120],\n",
       "        [121, 122, 123, 124, 125, 126, 127, 128, 129, 130],\n",
       "        [131, 132, 133, 134, 135, 136, 137, 138, 139, 140],\n",
       "        [141, 142, 143, 144, 145, 146, 147, 148, 149, 150],\n",
       "        [151, 152, 153, 154, 155, 156, 157, 158, 159, 160],\n",
       "        [161, 162, 163, 164, 165, 166, 167, 168, 169, 170],\n",
       "        [171, 172, 173, 174, 175, 176, 177, 178, 179, 180],\n",
       "        [181, 182, 183, 184, 185, 186, 187, 188, 189, 190],\n",
       "        [191, 192, 193, 194, 195, 196, 197, 198, 199, 200]],\n",
       "\n",
       "       [[201, 202, 203, 204, 205, 206, 207, 208, 209, 210],\n",
       "        [211, 212, 213, 214, 215, 216, 217, 218, 219, 220],\n",
       "        [221, 222, 223, 224, 225, 226, 227, 228, 229, 230],\n",
       "        [231, 232, 233, 234, 235, 236, 237, 238, 239, 240],\n",
       "        [241, 242, 243, 244, 245, 246, 247, 248, 249, 250],\n",
       "        [251, 252, 253, 254, 255, 256, 257, 258, 259, 260],\n",
       "        [261, 262, 263, 264, 265, 266, 267, 268, 269, 270],\n",
       "        [271, 272, 273, 274, 275, 276, 277, 278, 279, 280],\n",
       "        [281, 282, 283, 284, 285, 286, 287, 288, 289, 290],\n",
       "        [291, 292, 293, 294, 295, 296, 297, 298, 299, 300]],\n",
       "\n",
       "       [[301, 302, 303, 304, 305, 306, 307, 308, 309, 310],\n",
       "        [311, 312, 313, 314, 315, 316, 317, 318, 319, 320],\n",
       "        [321, 322, 323, 324, 325, 326, 327, 328, 329, 330],\n",
       "        [331, 332, 333, 334, 335, 336, 337, 338, 339, 340],\n",
       "        [341, 342, 343, 344, 345, 346, 347, 348, 349, 350],\n",
       "        [351, 352, 353, 354, 355, 356, 357, 358, 359, 360],\n",
       "        [361, 362, 363, 364, 365, 366, 367, 368, 369, 370],\n",
       "        [371, 372, 373, 374, 375, 376, 377, 378, 379, 380],\n",
       "        [381, 382, 383, 384, 385, 386, 387, 388, 389, 390],\n",
       "        [391, 392, 393, 394, 395, 396, 397, 398, 399, 400]]])"
      ]
     },
     "execution_count": 73,
     "metadata": {},
     "output_type": "execute_result"
    }
   ],
   "source": [
    "a33"
   ]
  },
  {
   "cell_type": "code",
   "execution_count": 74,
   "id": "03268232",
   "metadata": {},
   "outputs": [
    {
     "data": {
      "text/plain": [
       "3"
      ]
     },
     "execution_count": 74,
     "metadata": {},
     "output_type": "execute_result"
    }
   ],
   "source": [
    "a33.ndim"
   ]
  },
  {
   "cell_type": "code",
   "execution_count": 75,
   "id": "be296e88",
   "metadata": {},
   "outputs": [
    {
     "data": {
      "text/plain": [
       "2"
      ]
     },
     "execution_count": 75,
     "metadata": {},
     "output_type": "execute_result"
    }
   ],
   "source": [
    "a22.ndim"
   ]
  },
  {
   "cell_type": "code",
   "execution_count": 76,
   "id": "8d3f24e9",
   "metadata": {},
   "outputs": [],
   "source": [
    "a11=np.arange(10)"
   ]
  },
  {
   "cell_type": "code",
   "execution_count": 77,
   "id": "188308df",
   "metadata": {},
   "outputs": [
    {
     "data": {
      "text/plain": [
       "array([0, 1, 2, 3, 4, 5, 6, 7, 8, 9])"
      ]
     },
     "execution_count": 77,
     "metadata": {},
     "output_type": "execute_result"
    }
   ],
   "source": [
    "a11"
   ]
  },
  {
   "cell_type": "code",
   "execution_count": 57,
   "id": "c63a15a4",
   "metadata": {},
   "outputs": [
    {
     "data": {
      "text/plain": [
       "1"
      ]
     },
     "execution_count": 57,
     "metadata": {},
     "output_type": "execute_result"
    }
   ],
   "source": [
    "a11.ndim"
   ]
  },
  {
   "cell_type": "code",
   "execution_count": 59,
   "id": "609f639d",
   "metadata": {},
   "outputs": [
    {
     "data": {
      "text/plain": [
       "array([[1., 0., 0.],\n",
       "       [0., 1., 0.],\n",
       "       [0., 0., 1.]])"
      ]
     },
     "execution_count": 59,
     "metadata": {},
     "output_type": "execute_result"
    }
   ],
   "source": [
    "np.identity(3)"
   ]
  },
  {
   "cell_type": "code",
   "execution_count": 60,
   "id": "3aece5e4",
   "metadata": {},
   "outputs": [
    {
     "data": {
      "text/plain": [
       "(10,)"
      ]
     },
     "execution_count": 60,
     "metadata": {},
     "output_type": "execute_result"
    }
   ],
   "source": [
    "a11.shape"
   ]
  },
  {
   "cell_type": "code",
   "execution_count": 61,
   "id": "35db90c3",
   "metadata": {},
   "outputs": [
    {
     "data": {
      "text/plain": [
       "(10, 10)"
      ]
     },
     "execution_count": 61,
     "metadata": {},
     "output_type": "execute_result"
    }
   ],
   "source": [
    "a22.shape"
   ]
  },
  {
   "cell_type": "code",
   "execution_count": 62,
   "id": "43036235",
   "metadata": {},
   "outputs": [
    {
     "data": {
      "text/plain": [
       "(4, 10, 10)"
      ]
     },
     "execution_count": 62,
     "metadata": {},
     "output_type": "execute_result"
    }
   ],
   "source": [
    "a33.shape"
   ]
  },
  {
   "cell_type": "code",
   "execution_count": 63,
   "id": "f1d0544f",
   "metadata": {},
   "outputs": [
    {
     "data": {
      "text/plain": [
       "dtype('int32')"
      ]
     },
     "execution_count": 63,
     "metadata": {},
     "output_type": "execute_result"
    }
   ],
   "source": [
    "a33.dtype"
   ]
  },
  {
   "cell_type": "code",
   "execution_count": 64,
   "id": "aa66d49f",
   "metadata": {},
   "outputs": [
    {
     "data": {
      "text/plain": [
       "dtype('int32')"
      ]
     },
     "execution_count": 64,
     "metadata": {},
     "output_type": "execute_result"
    }
   ],
   "source": [
    "a22.dtype"
   ]
  },
  {
   "cell_type": "code",
   "execution_count": 65,
   "id": "473b60ba",
   "metadata": {},
   "outputs": [
    {
     "data": {
      "text/plain": [
       "10"
      ]
     },
     "execution_count": 65,
     "metadata": {},
     "output_type": "execute_result"
    }
   ],
   "source": [
    "a11.size"
   ]
  },
  {
   "cell_type": "code",
   "execution_count": 66,
   "id": "80a0179e",
   "metadata": {},
   "outputs": [
    {
     "data": {
      "text/plain": [
       "100"
      ]
     },
     "execution_count": 66,
     "metadata": {},
     "output_type": "execute_result"
    }
   ],
   "source": [
    "a22.size"
   ]
  },
  {
   "cell_type": "code",
   "execution_count": 67,
   "id": "bd92c1cf",
   "metadata": {},
   "outputs": [
    {
     "data": {
      "text/plain": [
       "4"
      ]
     },
     "execution_count": 67,
     "metadata": {},
     "output_type": "execute_result"
    }
   ],
   "source": [
    "a11.itemsize"
   ]
  },
  {
   "cell_type": "code",
   "execution_count": 68,
   "id": "d7195d41",
   "metadata": {},
   "outputs": [
    {
     "data": {
      "text/plain": [
       "4"
      ]
     },
     "execution_count": 68,
     "metadata": {},
     "output_type": "execute_result"
    }
   ],
   "source": [
    "a22.itemsize"
   ]
  },
  {
   "cell_type": "code",
   "execution_count": 78,
   "id": "f7cab11d",
   "metadata": {},
   "outputs": [
    {
     "data": {
      "text/plain": [
       "4"
      ]
     },
     "execution_count": 78,
     "metadata": {},
     "output_type": "execute_result"
    }
   ],
   "source": [
    "a33.itemsize"
   ]
  },
  {
   "cell_type": "code",
   "execution_count": 79,
   "id": "1ac6de7e",
   "metadata": {},
   "outputs": [
    {
     "data": {
      "text/plain": [
       "1600"
      ]
     },
     "execution_count": 79,
     "metadata": {},
     "output_type": "execute_result"
    }
   ],
   "source": [
    "a33.nbytes"
   ]
  },
  {
   "cell_type": "code",
   "execution_count": 80,
   "id": "e3edb222",
   "metadata": {},
   "outputs": [
    {
     "data": {
      "text/plain": [
       "400"
      ]
     },
     "execution_count": 80,
     "metadata": {},
     "output_type": "execute_result"
    }
   ],
   "source": [
    "a22.nbytes"
   ]
  },
  {
   "cell_type": "code",
   "execution_count": 81,
   "id": "f693e7a7",
   "metadata": {},
   "outputs": [
    {
     "data": {
      "text/plain": [
       "array([0, 1, 2, 3, 4, 5, 6, 7, 8, 9])"
      ]
     },
     "execution_count": 81,
     "metadata": {},
     "output_type": "execute_result"
    }
   ],
   "source": [
    "a11.real"
   ]
  },
  {
   "cell_type": "code",
   "execution_count": 82,
   "id": "e1e3a832",
   "metadata": {},
   "outputs": [
    {
     "data": {
      "text/plain": [
       "array([[  1,   2,   3,   4,   5,   6,   7,   8,   9,  10],\n",
       "       [ 11,  12,  13,  14,  15,  16,  17,  18,  19,  20],\n",
       "       [ 21,  22,  23,  24,  25,  26,  27,  28,  29,  30],\n",
       "       [ 31,  32,  33,  34,  35,  36,  37,  38,  39,  40],\n",
       "       [ 41,  42,  43,  44,  45,  46,  47,  48,  49,  50],\n",
       "       [ 51,  52,  53,  54,  55,  56,  57,  58,  59,  60],\n",
       "       [ 61,  62,  63,  64,  65,  66,  67,  68,  69,  70],\n",
       "       [ 71,  72,  73,  74,  75,  76,  77,  78,  79,  80],\n",
       "       [ 81,  82,  83,  84,  85,  86,  87,  88,  89,  90],\n",
       "       [ 91,  92,  93,  94,  95,  96,  97,  98,  99, 100]])"
      ]
     },
     "execution_count": 82,
     "metadata": {},
     "output_type": "execute_result"
    }
   ],
   "source": [
    "a22.real"
   ]
  },
  {
   "cell_type": "code",
   "execution_count": 83,
   "id": "b843f128",
   "metadata": {},
   "outputs": [
    {
     "data": {
      "text/plain": [
       "array([[[  1,   2,   3,   4,   5,   6,   7,   8,   9,  10],\n",
       "        [ 11,  12,  13,  14,  15,  16,  17,  18,  19,  20],\n",
       "        [ 21,  22,  23,  24,  25,  26,  27,  28,  29,  30],\n",
       "        [ 31,  32,  33,  34,  35,  36,  37,  38,  39,  40],\n",
       "        [ 41,  42,  43,  44,  45,  46,  47,  48,  49,  50],\n",
       "        [ 51,  52,  53,  54,  55,  56,  57,  58,  59,  60],\n",
       "        [ 61,  62,  63,  64,  65,  66,  67,  68,  69,  70],\n",
       "        [ 71,  72,  73,  74,  75,  76,  77,  78,  79,  80],\n",
       "        [ 81,  82,  83,  84,  85,  86,  87,  88,  89,  90],\n",
       "        [ 91,  92,  93,  94,  95,  96,  97,  98,  99, 100]],\n",
       "\n",
       "       [[101, 102, 103, 104, 105, 106, 107, 108, 109, 110],\n",
       "        [111, 112, 113, 114, 115, 116, 117, 118, 119, 120],\n",
       "        [121, 122, 123, 124, 125, 126, 127, 128, 129, 130],\n",
       "        [131, 132, 133, 134, 135, 136, 137, 138, 139, 140],\n",
       "        [141, 142, 143, 144, 145, 146, 147, 148, 149, 150],\n",
       "        [151, 152, 153, 154, 155, 156, 157, 158, 159, 160],\n",
       "        [161, 162, 163, 164, 165, 166, 167, 168, 169, 170],\n",
       "        [171, 172, 173, 174, 175, 176, 177, 178, 179, 180],\n",
       "        [181, 182, 183, 184, 185, 186, 187, 188, 189, 190],\n",
       "        [191, 192, 193, 194, 195, 196, 197, 198, 199, 200]],\n",
       "\n",
       "       [[201, 202, 203, 204, 205, 206, 207, 208, 209, 210],\n",
       "        [211, 212, 213, 214, 215, 216, 217, 218, 219, 220],\n",
       "        [221, 222, 223, 224, 225, 226, 227, 228, 229, 230],\n",
       "        [231, 232, 233, 234, 235, 236, 237, 238, 239, 240],\n",
       "        [241, 242, 243, 244, 245, 246, 247, 248, 249, 250],\n",
       "        [251, 252, 253, 254, 255, 256, 257, 258, 259, 260],\n",
       "        [261, 262, 263, 264, 265, 266, 267, 268, 269, 270],\n",
       "        [271, 272, 273, 274, 275, 276, 277, 278, 279, 280],\n",
       "        [281, 282, 283, 284, 285, 286, 287, 288, 289, 290],\n",
       "        [291, 292, 293, 294, 295, 296, 297, 298, 299, 300]],\n",
       "\n",
       "       [[301, 302, 303, 304, 305, 306, 307, 308, 309, 310],\n",
       "        [311, 312, 313, 314, 315, 316, 317, 318, 319, 320],\n",
       "        [321, 322, 323, 324, 325, 326, 327, 328, 329, 330],\n",
       "        [331, 332, 333, 334, 335, 336, 337, 338, 339, 340],\n",
       "        [341, 342, 343, 344, 345, 346, 347, 348, 349, 350],\n",
       "        [351, 352, 353, 354, 355, 356, 357, 358, 359, 360],\n",
       "        [361, 362, 363, 364, 365, 366, 367, 368, 369, 370],\n",
       "        [371, 372, 373, 374, 375, 376, 377, 378, 379, 380],\n",
       "        [381, 382, 383, 384, 385, 386, 387, 388, 389, 390],\n",
       "        [391, 392, 393, 394, 395, 396, 397, 398, 399, 400]]])"
      ]
     },
     "execution_count": 83,
     "metadata": {},
     "output_type": "execute_result"
    }
   ],
   "source": [
    "a33.real"
   ]
  },
  {
   "cell_type": "code",
   "execution_count": 85,
   "id": "62239ae8",
   "metadata": {},
   "outputs": [
    {
     "data": {
      "text/plain": [
       "array([0, 0, 0, 0, 0, 0, 0, 0, 0, 0])"
      ]
     },
     "execution_count": 85,
     "metadata": {},
     "output_type": "execute_result"
    }
   ],
   "source": [
    "a11.imag"
   ]
  },
  {
   "cell_type": "code",
   "execution_count": 86,
   "id": "c9f6a007",
   "metadata": {},
   "outputs": [
    {
     "data": {
      "text/plain": [
       "array([[0, 0, 0, 0, 0, 0, 0, 0, 0, 0],\n",
       "       [0, 0, 0, 0, 0, 0, 0, 0, 0, 0],\n",
       "       [0, 0, 0, 0, 0, 0, 0, 0, 0, 0],\n",
       "       [0, 0, 0, 0, 0, 0, 0, 0, 0, 0],\n",
       "       [0, 0, 0, 0, 0, 0, 0, 0, 0, 0],\n",
       "       [0, 0, 0, 0, 0, 0, 0, 0, 0, 0],\n",
       "       [0, 0, 0, 0, 0, 0, 0, 0, 0, 0],\n",
       "       [0, 0, 0, 0, 0, 0, 0, 0, 0, 0],\n",
       "       [0, 0, 0, 0, 0, 0, 0, 0, 0, 0],\n",
       "       [0, 0, 0, 0, 0, 0, 0, 0, 0, 0]])"
      ]
     },
     "execution_count": 86,
     "metadata": {},
     "output_type": "execute_result"
    }
   ],
   "source": [
    "a22.imag"
   ]
  },
  {
   "cell_type": "code",
   "execution_count": 87,
   "id": "170cb6fb",
   "metadata": {},
   "outputs": [
    {
     "data": {
      "text/plain": [
       "array([[[0, 0, 0, 0, 0, 0, 0, 0, 0, 0],\n",
       "        [0, 0, 0, 0, 0, 0, 0, 0, 0, 0],\n",
       "        [0, 0, 0, 0, 0, 0, 0, 0, 0, 0],\n",
       "        [0, 0, 0, 0, 0, 0, 0, 0, 0, 0],\n",
       "        [0, 0, 0, 0, 0, 0, 0, 0, 0, 0],\n",
       "        [0, 0, 0, 0, 0, 0, 0, 0, 0, 0],\n",
       "        [0, 0, 0, 0, 0, 0, 0, 0, 0, 0],\n",
       "        [0, 0, 0, 0, 0, 0, 0, 0, 0, 0],\n",
       "        [0, 0, 0, 0, 0, 0, 0, 0, 0, 0],\n",
       "        [0, 0, 0, 0, 0, 0, 0, 0, 0, 0]],\n",
       "\n",
       "       [[0, 0, 0, 0, 0, 0, 0, 0, 0, 0],\n",
       "        [0, 0, 0, 0, 0, 0, 0, 0, 0, 0],\n",
       "        [0, 0, 0, 0, 0, 0, 0, 0, 0, 0],\n",
       "        [0, 0, 0, 0, 0, 0, 0, 0, 0, 0],\n",
       "        [0, 0, 0, 0, 0, 0, 0, 0, 0, 0],\n",
       "        [0, 0, 0, 0, 0, 0, 0, 0, 0, 0],\n",
       "        [0, 0, 0, 0, 0, 0, 0, 0, 0, 0],\n",
       "        [0, 0, 0, 0, 0, 0, 0, 0, 0, 0],\n",
       "        [0, 0, 0, 0, 0, 0, 0, 0, 0, 0],\n",
       "        [0, 0, 0, 0, 0, 0, 0, 0, 0, 0]],\n",
       "\n",
       "       [[0, 0, 0, 0, 0, 0, 0, 0, 0, 0],\n",
       "        [0, 0, 0, 0, 0, 0, 0, 0, 0, 0],\n",
       "        [0, 0, 0, 0, 0, 0, 0, 0, 0, 0],\n",
       "        [0, 0, 0, 0, 0, 0, 0, 0, 0, 0],\n",
       "        [0, 0, 0, 0, 0, 0, 0, 0, 0, 0],\n",
       "        [0, 0, 0, 0, 0, 0, 0, 0, 0, 0],\n",
       "        [0, 0, 0, 0, 0, 0, 0, 0, 0, 0],\n",
       "        [0, 0, 0, 0, 0, 0, 0, 0, 0, 0],\n",
       "        [0, 0, 0, 0, 0, 0, 0, 0, 0, 0],\n",
       "        [0, 0, 0, 0, 0, 0, 0, 0, 0, 0]],\n",
       "\n",
       "       [[0, 0, 0, 0, 0, 0, 0, 0, 0, 0],\n",
       "        [0, 0, 0, 0, 0, 0, 0, 0, 0, 0],\n",
       "        [0, 0, 0, 0, 0, 0, 0, 0, 0, 0],\n",
       "        [0, 0, 0, 0, 0, 0, 0, 0, 0, 0],\n",
       "        [0, 0, 0, 0, 0, 0, 0, 0, 0, 0],\n",
       "        [0, 0, 0, 0, 0, 0, 0, 0, 0, 0],\n",
       "        [0, 0, 0, 0, 0, 0, 0, 0, 0, 0],\n",
       "        [0, 0, 0, 0, 0, 0, 0, 0, 0, 0],\n",
       "        [0, 0, 0, 0, 0, 0, 0, 0, 0, 0],\n",
       "        [0, 0, 0, 0, 0, 0, 0, 0, 0, 0]]])"
      ]
     },
     "execution_count": 87,
     "metadata": {},
     "output_type": "execute_result"
    }
   ],
   "source": [
    "a33.imag"
   ]
  },
  {
   "cell_type": "code",
   "execution_count": 96,
   "id": "debbc524",
   "metadata": {},
   "outputs": [],
   "source": [
    "a111=np.arange(10)"
   ]
  },
  {
   "cell_type": "code",
   "execution_count": 97,
   "id": "c8badb3e",
   "metadata": {},
   "outputs": [
    {
     "data": {
      "text/plain": [
       "285"
      ]
     },
     "execution_count": 97,
     "metadata": {},
     "output_type": "execute_result"
    }
   ],
   "source": [
    "a11.dot(a111)"
   ]
  },
  {
   "cell_type": "code",
   "execution_count": 98,
   "id": "180afecb",
   "metadata": {},
   "outputs": [],
   "source": [
    "a222=np.arange(101,201).reshape(10,10)"
   ]
  },
  {
   "cell_type": "code",
   "execution_count": 99,
   "id": "04730dd8",
   "metadata": {},
   "outputs": [
    {
     "data": {
      "text/plain": [
       "array([[  8855,   8910,   8965,   9020,   9075,   9130,   9185,   9240,\n",
       "          9295,   9350],\n",
       "       [ 23455,  23610,  23765,  23920,  24075,  24230,  24385,  24540,\n",
       "         24695,  24850],\n",
       "       [ 38055,  38310,  38565,  38820,  39075,  39330,  39585,  39840,\n",
       "         40095,  40350],\n",
       "       [ 52655,  53010,  53365,  53720,  54075,  54430,  54785,  55140,\n",
       "         55495,  55850],\n",
       "       [ 67255,  67710,  68165,  68620,  69075,  69530,  69985,  70440,\n",
       "         70895,  71350],\n",
       "       [ 81855,  82410,  82965,  83520,  84075,  84630,  85185,  85740,\n",
       "         86295,  86850],\n",
       "       [ 96455,  97110,  97765,  98420,  99075,  99730, 100385, 101040,\n",
       "        101695, 102350],\n",
       "       [111055, 111810, 112565, 113320, 114075, 114830, 115585, 116340,\n",
       "        117095, 117850],\n",
       "       [125655, 126510, 127365, 128220, 129075, 129930, 130785, 131640,\n",
       "        132495, 133350],\n",
       "       [140255, 141210, 142165, 143120, 144075, 145030, 145985, 146940,\n",
       "        147895, 148850]])"
      ]
     },
     "execution_count": 99,
     "metadata": {},
     "output_type": "execute_result"
    }
   ],
   "source": [
    "a22.dot(a222)"
   ]
  },
  {
   "cell_type": "code",
   "execution_count": 100,
   "id": "cde812a5",
   "metadata": {},
   "outputs": [
    {
     "data": {
      "text/plain": [
       "array([[ 49355,  50410,  51465,  52520,  53575,  54630,  55685,  56740,\n",
       "         57795,  58850],\n",
       "       [ 53955,  55110,  56265,  57420,  58575,  59730,  60885,  62040,\n",
       "         63195,  64350],\n",
       "       [ 58555,  59810,  61065,  62320,  63575,  64830,  66085,  67340,\n",
       "         68595,  69850],\n",
       "       [ 63155,  64510,  65865,  67220,  68575,  69930,  71285,  72640,\n",
       "         73995,  75350],\n",
       "       [ 67755,  69210,  70665,  72120,  73575,  75030,  76485,  77940,\n",
       "         79395,  80850],\n",
       "       [ 72355,  73910,  75465,  77020,  78575,  80130,  81685,  83240,\n",
       "         84795,  86350],\n",
       "       [ 76955,  78610,  80265,  81920,  83575,  85230,  86885,  88540,\n",
       "         90195,  91850],\n",
       "       [ 81555,  83310,  85065,  86820,  88575,  90330,  92085,  93840,\n",
       "         95595,  97350],\n",
       "       [ 86155,  88010,  89865,  91720,  93575,  95430,  97285,  99140,\n",
       "        100995, 102850],\n",
       "       [ 90755,  92710,  94665,  96620,  98575, 100530, 102485, 104440,\n",
       "        106395, 108350]])"
      ]
     },
     "execution_count": 100,
     "metadata": {},
     "output_type": "execute_result"
    }
   ],
   "source": [
    "a222.dot(a22)"
   ]
  },
  {
   "cell_type": "code",
   "execution_count": 101,
   "id": "38c84796",
   "metadata": {},
   "outputs": [
    {
     "data": {
      "text/plain": [
       "array([ 0,  1,  4,  9, 16, 25, 36, 49, 64, 81])"
      ]
     },
     "execution_count": 101,
     "metadata": {},
     "output_type": "execute_result"
    }
   ],
   "source": [
    "a11**2"
   ]
  },
  {
   "cell_type": "code",
   "execution_count": 103,
   "id": "36ded617",
   "metadata": {},
   "outputs": [
    {
     "data": {
      "text/plain": [
       "array([[    1,     4,     9,    16,    25,    36,    49,    64,    81,\n",
       "          100],\n",
       "       [  121,   144,   169,   196,   225,   256,   289,   324,   361,\n",
       "          400],\n",
       "       [  441,   484,   529,   576,   625,   676,   729,   784,   841,\n",
       "          900],\n",
       "       [  961,  1024,  1089,  1156,  1225,  1296,  1369,  1444,  1521,\n",
       "         1600],\n",
       "       [ 1681,  1764,  1849,  1936,  2025,  2116,  2209,  2304,  2401,\n",
       "         2500],\n",
       "       [ 2601,  2704,  2809,  2916,  3025,  3136,  3249,  3364,  3481,\n",
       "         3600],\n",
       "       [ 3721,  3844,  3969,  4096,  4225,  4356,  4489,  4624,  4761,\n",
       "         4900],\n",
       "       [ 5041,  5184,  5329,  5476,  5625,  5776,  5929,  6084,  6241,\n",
       "         6400],\n",
       "       [ 6561,  6724,  6889,  7056,  7225,  7396,  7569,  7744,  7921,\n",
       "         8100],\n",
       "       [ 8281,  8464,  8649,  8836,  9025,  9216,  9409,  9604,  9801,\n",
       "        10000]])"
      ]
     },
     "execution_count": 103,
     "metadata": {},
     "output_type": "execute_result"
    }
   ],
   "source": [
    "a22**2"
   ]
  },
  {
   "cell_type": "code",
   "execution_count": 104,
   "id": "e9e10b5d",
   "metadata": {},
   "outputs": [
    {
     "data": {
      "text/plain": [
       "array([[False, False, False, False, False, False, False, False, False,\n",
       "        False],\n",
       "       [False, False, False, False, False,  True,  True,  True,  True,\n",
       "         True],\n",
       "       [ True,  True,  True,  True,  True,  True,  True,  True,  True,\n",
       "         True],\n",
       "       [ True,  True,  True,  True,  True,  True,  True,  True,  True,\n",
       "         True],\n",
       "       [ True,  True,  True,  True,  True,  True,  True,  True,  True,\n",
       "         True],\n",
       "       [ True,  True,  True,  True,  True,  True,  True,  True,  True,\n",
       "         True],\n",
       "       [ True,  True,  True,  True,  True,  True,  True,  True,  True,\n",
       "         True],\n",
       "       [ True,  True,  True,  True,  True,  True,  True,  True,  True,\n",
       "         True],\n",
       "       [ True,  True,  True,  True,  True,  True,  True,  True,  True,\n",
       "         True],\n",
       "       [ True,  True,  True,  True,  True,  True,  True,  True,  True,\n",
       "         True]])"
      ]
     },
     "execution_count": 104,
     "metadata": {},
     "output_type": "execute_result"
    }
   ],
   "source": [
    "a22>15"
   ]
  },
  {
   "cell_type": "code",
   "execution_count": 105,
   "id": "5619585d",
   "metadata": {},
   "outputs": [
    {
     "data": {
      "text/plain": [
       "array([100, 101, 102, 103, 104, 105, 106, 107, 108, 109])"
      ]
     },
     "execution_count": 105,
     "metadata": {},
     "output_type": "execute_result"
    }
   ],
   "source": [
    "a11+100"
   ]
  },
  {
   "cell_type": "code",
   "execution_count": 106,
   "id": "a4538221",
   "metadata": {},
   "outputs": [
    {
     "data": {
      "text/plain": [
       "array([[-49, -48, -47, -46, -45, -44, -43, -42, -41, -40],\n",
       "       [-39, -38, -37, -36, -35, -34, -33, -32, -31, -30],\n",
       "       [-29, -28, -27, -26, -25, -24, -23, -22, -21, -20],\n",
       "       [-19, -18, -17, -16, -15, -14, -13, -12, -11, -10],\n",
       "       [ -9,  -8,  -7,  -6,  -5,  -4,  -3,  -2,  -1,   0],\n",
       "       [  1,   2,   3,   4,   5,   6,   7,   8,   9,  10],\n",
       "       [ 11,  12,  13,  14,  15,  16,  17,  18,  19,  20],\n",
       "       [ 21,  22,  23,  24,  25,  26,  27,  28,  29,  30],\n",
       "       [ 31,  32,  33,  34,  35,  36,  37,  38,  39,  40],\n",
       "       [ 41,  42,  43,  44,  45,  46,  47,  48,  49,  50]])"
      ]
     },
     "execution_count": 106,
     "metadata": {},
     "output_type": "execute_result"
    }
   ],
   "source": [
    "a22-50"
   ]
  },
  {
   "cell_type": "code",
   "execution_count": 108,
   "id": "fe91e6ce",
   "metadata": {},
   "outputs": [
    {
     "name": "stdout",
     "output_type": "stream",
     "text": [
      "99\n"
     ]
    }
   ],
   "source": [
    "print(a22[9][8])"
   ]
  },
  {
   "cell_type": "code",
   "execution_count": 109,
   "id": "d025f256",
   "metadata": {},
   "outputs": [
    {
     "data": {
      "text/plain": [
       "array([[ 0.5,  1. ,  1.5,  2. ,  2.5,  3. ,  3.5,  4. ,  4.5,  5. ],\n",
       "       [ 5.5,  6. ,  6.5,  7. ,  7.5,  8. ,  8.5,  9. ,  9.5, 10. ],\n",
       "       [10.5, 11. , 11.5, 12. , 12.5, 13. , 13.5, 14. , 14.5, 15. ],\n",
       "       [15.5, 16. , 16.5, 17. , 17.5, 18. , 18.5, 19. , 19.5, 20. ],\n",
       "       [20.5, 21. , 21.5, 22. , 22.5, 23. , 23.5, 24. , 24.5, 25. ],\n",
       "       [25.5, 26. , 26.5, 27. , 27.5, 28. , 28.5, 29. , 29.5, 30. ],\n",
       "       [30.5, 31. , 31.5, 32. , 32.5, 33. , 33.5, 34. , 34.5, 35. ],\n",
       "       [35.5, 36. , 36.5, 37. , 37.5, 38. , 38.5, 39. , 39.5, 40. ],\n",
       "       [40.5, 41. , 41.5, 42. , 42.5, 43. , 43.5, 44. , 44.5, 45. ],\n",
       "       [45.5, 46. , 46.5, 47. , 47.5, 48. , 48.5, 49. , 49.5, 50. ]])"
      ]
     },
     "execution_count": 109,
     "metadata": {},
     "output_type": "execute_result"
    }
   ],
   "source": [
    "a22/2"
   ]
  },
  {
   "cell_type": "code",
   "execution_count": 110,
   "id": "e9bae6db",
   "metadata": {},
   "outputs": [
    {
     "data": {
      "text/plain": [
       "array([[ 0,  1,  1,  2,  2,  3,  3,  4,  4,  5],\n",
       "       [ 5,  6,  6,  7,  7,  8,  8,  9,  9, 10],\n",
       "       [10, 11, 11, 12, 12, 13, 13, 14, 14, 15],\n",
       "       [15, 16, 16, 17, 17, 18, 18, 19, 19, 20],\n",
       "       [20, 21, 21, 22, 22, 23, 23, 24, 24, 25],\n",
       "       [25, 26, 26, 27, 27, 28, 28, 29, 29, 30],\n",
       "       [30, 31, 31, 32, 32, 33, 33, 34, 34, 35],\n",
       "       [35, 36, 36, 37, 37, 38, 38, 39, 39, 40],\n",
       "       [40, 41, 41, 42, 42, 43, 43, 44, 44, 45],\n",
       "       [45, 46, 46, 47, 47, 48, 48, 49, 49, 50]], dtype=int32)"
      ]
     },
     "execution_count": 110,
     "metadata": {},
     "output_type": "execute_result"
    }
   ],
   "source": [
    "a22//2"
   ]
  },
  {
   "cell_type": "code",
   "execution_count": 111,
   "id": "92081787",
   "metadata": {},
   "outputs": [
    {
     "data": {
      "text/plain": [
       "array([[ 0.5,  1. ,  1.5,  2. ,  2.5,  3. ,  3.5,  4. ,  4.5,  5. ],\n",
       "       [ 5.5,  6. ,  6.5,  7. ,  7.5,  8. ,  8.5,  9. ,  9.5, 10. ],\n",
       "       [10.5, 11. , 11.5, 12. , 12.5, 13. , 13.5, 14. , 14.5, 15. ],\n",
       "       [15.5, 16. , 16.5, 17. , 17.5, 18. , 18.5, 19. , 19.5, 20. ],\n",
       "       [20.5, 21. , 21.5, 22. , 22.5, 23. , 23.5, 24. , 24.5, 25. ],\n",
       "       [25.5, 26. , 26.5, 27. , 27.5, 28. , 28.5, 29. , 29.5, 30. ],\n",
       "       [30.5, 31. , 31.5, 32. , 32.5, 33. , 33.5, 34. , 34.5, 35. ],\n",
       "       [35.5, 36. , 36.5, 37. , 37.5, 38. , 38.5, 39. , 39.5, 40. ],\n",
       "       [40.5, 41. , 41.5, 42. , 42.5, 43. , 43.5, 44. , 44.5, 45. ],\n",
       "       [45.5, 46. , 46.5, 47. , 47.5, 48. , 48.5, 49. , 49.5, 50. ]])"
      ]
     },
     "execution_count": 111,
     "metadata": {},
     "output_type": "execute_result"
    }
   ],
   "source": [
    "a22*0.5"
   ]
  },
  {
   "cell_type": "code",
   "execution_count": 112,
   "id": "e2ee362d",
   "metadata": {},
   "outputs": [
    {
     "data": {
      "text/plain": [
       "array([ 0,  2,  4,  6,  8, 10, 12, 14, 16, 18])"
      ]
     },
     "execution_count": 112,
     "metadata": {},
     "output_type": "execute_result"
    }
   ],
   "source": [
    "(a11+5)+(a11-5)"
   ]
  },
  {
   "cell_type": "code",
   "execution_count": 113,
   "id": "88c73294",
   "metadata": {},
   "outputs": [
    {
     "data": {
      "text/plain": [
       "array([[-99, -98, -97, -96, -95, -94, -93, -92, -91, -90],\n",
       "       [-89, -88, -87, -86, -85, -84, -83, -82, -81, -80],\n",
       "       [-79, -78, -77, -76, -75, -74, -73, -72, -71, -70],\n",
       "       [-69, -68, -67, -66, -65, -64, -63, -62, -61, -60],\n",
       "       [-59, -58, -57, -56, -55, -54, -53, -52, -51, -50],\n",
       "       [-49, -48, -47, -46, -45, -44, -43, -42, -41, -40],\n",
       "       [-39, -38, -37, -36, -35, -34, -33, -32, -31, -30],\n",
       "       [-29, -28, -27, -26, -25, -24, -23, -22, -21, -20],\n",
       "       [-19, -18, -17, -16, -15, -14, -13, -12, -11, -10],\n",
       "       [ -9,  -8,  -7,  -6,  -5,  -4,  -3,  -2,  -1,   0]])"
      ]
     },
     "execution_count": 113,
     "metadata": {},
     "output_type": "execute_result"
    }
   ],
   "source": [
    "a22+(-100)"
   ]
  },
  {
   "cell_type": "code",
   "execution_count": 114,
   "id": "d10d827c",
   "metadata": {},
   "outputs": [
    {
     "data": {
      "text/plain": [
       "array([[False, False, False, False, False, False, False, False, False,\n",
       "        False],\n",
       "       [False, False, False, False, False, False, False, False, False,\n",
       "        False],\n",
       "       [False, False, False, False, False, False, False, False, False,\n",
       "        False],\n",
       "       [False, False, False, False, False, False, False, False, False,\n",
       "        False],\n",
       "       [False, False, False, False, False, False, False, False, False,\n",
       "         True],\n",
       "       [ True,  True,  True,  True,  True,  True,  True,  True,  True,\n",
       "         True],\n",
       "       [ True,  True,  True,  True,  True,  True,  True,  True,  True,\n",
       "         True],\n",
       "       [ True,  True,  True,  True,  True,  True,  True,  True,  True,\n",
       "         True],\n",
       "       [ True,  True,  True,  True,  True,  True,  True,  True,  True,\n",
       "         True],\n",
       "       [ True,  True,  True,  True,  True,  True,  True,  True,  True,\n",
       "         True]])"
      ]
     },
     "execution_count": 114,
     "metadata": {},
     "output_type": "execute_result"
    }
   ],
   "source": [
    "a22>=50"
   ]
  },
  {
   "cell_type": "code",
   "execution_count": 115,
   "id": "c9aed988",
   "metadata": {},
   "outputs": [
    {
     "data": {
      "text/plain": [
       "array([[False, False, False, False, False, False, False, False, False,\n",
       "        False],\n",
       "       [False, False, False, False, False, False, False, False, False,\n",
       "        False],\n",
       "       [False, False, False, False, False, False, False, False, False,\n",
       "        False],\n",
       "       [False, False, False, False, False, False, False, False, False,\n",
       "        False],\n",
       "       [False, False, False, False, False, False, False, False, False,\n",
       "         True],\n",
       "       [False, False, False, False, False, False, False, False, False,\n",
       "        False],\n",
       "       [False, False, False, False, False, False, False, False, False,\n",
       "        False],\n",
       "       [False, False, False, False, False, False, False, False, False,\n",
       "        False],\n",
       "       [False, False, False, False, False, False, False, False, False,\n",
       "        False],\n",
       "       [False, False, False, False, False, False, False, False, False,\n",
       "        False]])"
      ]
     },
     "execution_count": 115,
     "metadata": {},
     "output_type": "execute_result"
    }
   ],
   "source": [
    "a22==50"
   ]
  },
  {
   "cell_type": "code",
   "execution_count": 116,
   "id": "f4ff1616",
   "metadata": {},
   "outputs": [
    {
     "data": {
      "text/plain": [
       "array([[ True,  True,  True,  True,  True,  True,  True,  True,  True,\n",
       "         True],\n",
       "       [ True,  True,  True,  True,  True,  True,  True,  True,  True,\n",
       "         True],\n",
       "       [ True,  True,  True,  True,  True,  True,  True,  True,  True,\n",
       "         True],\n",
       "       [ True,  True,  True,  True,  True,  True,  True,  True,  True,\n",
       "         True],\n",
       "       [ True,  True,  True,  True,  True,  True,  True,  True,  True,\n",
       "        False],\n",
       "       [ True,  True,  True,  True,  True,  True,  True,  True,  True,\n",
       "         True],\n",
       "       [ True,  True,  True,  True,  True,  True,  True,  True,  True,\n",
       "         True],\n",
       "       [ True,  True,  True,  True,  True,  True,  True,  True,  True,\n",
       "         True],\n",
       "       [ True,  True,  True,  True,  True,  True,  True,  True,  True,\n",
       "         True],\n",
       "       [ True,  True,  True,  True,  True,  True,  True,  True,  True,\n",
       "         True]])"
      ]
     },
     "execution_count": 116,
     "metadata": {},
     "output_type": "execute_result"
    }
   ],
   "source": [
    "a22!=50"
   ]
  },
  {
   "cell_type": "code",
   "execution_count": 119,
   "id": "785a1b67",
   "metadata": {},
   "outputs": [
    {
     "data": {
      "text/plain": [
       "array([[[ True,  True,  True,  True,  True,  True,  True,  True,  True,\n",
       "          True],\n",
       "        [ True,  True,  True,  True,  True,  True,  True,  True,  True,\n",
       "          True],\n",
       "        [ True,  True,  True,  True,  True,  True,  True,  True,  True,\n",
       "          True],\n",
       "        [ True,  True,  True,  True,  True,  True,  True,  True,  True,\n",
       "          True],\n",
       "        [ True,  True,  True,  True,  True,  True,  True,  True,  True,\n",
       "          True],\n",
       "        [ True,  True,  True,  True,  True,  True,  True,  True,  True,\n",
       "          True],\n",
       "        [ True,  True,  True,  True,  True,  True,  True,  True,  True,\n",
       "          True],\n",
       "        [ True,  True,  True,  True,  True,  True,  True,  True,  True,\n",
       "          True],\n",
       "        [ True,  True,  True,  True,  True,  True,  True,  True,  True,\n",
       "          True],\n",
       "        [ True,  True,  True,  True,  True,  True,  True,  True,  True,\n",
       "          True]],\n",
       "\n",
       "       [[False, False, False, False, False, False, False, False, False,\n",
       "         False],\n",
       "        [False, False, False, False, False, False, False, False, False,\n",
       "         False],\n",
       "        [False, False, False, False, False, False, False, False, False,\n",
       "         False],\n",
       "        [False, False, False, False, False, False, False, False, False,\n",
       "         False],\n",
       "        [False, False, False, False, False, False, False, False, False,\n",
       "         False],\n",
       "        [False, False, False, False, False, False, False, False, False,\n",
       "         False],\n",
       "        [False, False, False, False, False, False, False, False, False,\n",
       "         False],\n",
       "        [False, False, False, False, False, False, False, False, False,\n",
       "         False],\n",
       "        [False, False, False, False, False, False, False, False, False,\n",
       "         False],\n",
       "        [False, False, False, False, False, False, False, False, False,\n",
       "         False]],\n",
       "\n",
       "       [[False, False, False, False, False, False, False, False, False,\n",
       "         False],\n",
       "        [False, False, False, False, False, False, False, False, False,\n",
       "         False],\n",
       "        [False, False, False, False, False, False, False, False, False,\n",
       "         False],\n",
       "        [False, False, False, False, False, False, False, False, False,\n",
       "         False],\n",
       "        [False, False, False, False, False, False, False, False, False,\n",
       "         False],\n",
       "        [False, False, False, False, False, False, False, False, False,\n",
       "         False],\n",
       "        [False, False, False, False, False, False, False, False, False,\n",
       "         False],\n",
       "        [False, False, False, False, False, False, False, False, False,\n",
       "         False],\n",
       "        [False, False, False, False, False, False, False, False, False,\n",
       "         False],\n",
       "        [False, False, False, False, False, False, False, False, False,\n",
       "         False]],\n",
       "\n",
       "       [[False, False, False, False, False, False, False, False, False,\n",
       "         False],\n",
       "        [False, False, False, False, False, False, False, False, False,\n",
       "         False],\n",
       "        [False, False, False, False, False, False, False, False, False,\n",
       "         False],\n",
       "        [False, False, False, False, False, False, False, False, False,\n",
       "         False],\n",
       "        [False, False, False, False, False, False, False, False, False,\n",
       "         False],\n",
       "        [False, False, False, False, False, False, False, False, False,\n",
       "         False],\n",
       "        [False, False, False, False, False, False, False, False, False,\n",
       "         False],\n",
       "        [False, False, False, False, False, False, False, False, False,\n",
       "         False],\n",
       "        [False, False, False, False, False, False, False, False, False,\n",
       "         False],\n",
       "        [False, False, False, False, False, False, False, False, False,\n",
       "         False]]])"
      ]
     },
     "execution_count": 119,
     "metadata": {},
     "output_type": "execute_result"
    }
   ],
   "source": [
    "a22==a33"
   ]
  },
  {
   "cell_type": "code",
   "execution_count": 120,
   "id": "9e35ccbf",
   "metadata": {},
   "outputs": [
    {
     "data": {
      "text/plain": [
       "array([[False, False, False, False, False, False, False, False, False,\n",
       "        False],\n",
       "       [False, False, False, False, False, False, False, False, False,\n",
       "        False],\n",
       "       [False, False, False, False, False, False, False, False, False,\n",
       "        False],\n",
       "       [False, False, False, False, False, False, False, False, False,\n",
       "        False],\n",
       "       [False, False, False, False, False, False, False, False, False,\n",
       "        False],\n",
       "       [False, False, False, False, False, False, False, False, False,\n",
       "        False],\n",
       "       [False, False, False, False, False, False, False, False, False,\n",
       "        False],\n",
       "       [False, False, False, False, False, False, False, False, False,\n",
       "        False],\n",
       "       [False, False, False, False, False, False, False, False, False,\n",
       "        False],\n",
       "       [False, False, False, False, False, False, False, False, False,\n",
       "        False]])"
      ]
     },
     "execution_count": 120,
     "metadata": {},
     "output_type": "execute_result"
    }
   ],
   "source": [
    "a11==a22"
   ]
  },
  {
   "cell_type": "code",
   "execution_count": 122,
   "id": "c38c7cf7",
   "metadata": {},
   "outputs": [
    {
     "data": {
      "text/plain": [
       "array([[False, False, False, False, False, False, False, False, False,\n",
       "        False],\n",
       "       [False, False, False, False, False, False, False, False, False,\n",
       "        False],\n",
       "       [False, False, False, False, False, False, False, False, False,\n",
       "        False],\n",
       "       [False, False, False, False, False, False, False, False, False,\n",
       "        False],\n",
       "       [False, False, False, False, False, False, False, False, False,\n",
       "        False],\n",
       "       [False, False, False, False, False, False, False, False, False,\n",
       "        False],\n",
       "       [False, False, False, False, False, False, False, False, False,\n",
       "        False],\n",
       "       [False, False, False, False, False, False, False, False, False,\n",
       "        False],\n",
       "       [False, False, False, False, False, False, False, False, False,\n",
       "        False],\n",
       "       [False, False, False, False, False, False, False, False, False,\n",
       "        False]])"
      ]
     },
     "execution_count": 122,
     "metadata": {},
     "output_type": "execute_result"
    }
   ],
   "source": [
    "a22==a222"
   ]
  },
  {
   "cell_type": "code",
   "execution_count": 123,
   "id": "fc474d8f",
   "metadata": {},
   "outputs": [
    {
     "data": {
      "text/plain": [
       "True"
      ]
     },
     "execution_count": 123,
     "metadata": {},
     "output_type": "execute_result"
    }
   ],
   "source": [
    "100 in a22"
   ]
  },
  {
   "cell_type": "code",
   "execution_count": 124,
   "id": "c738d327",
   "metadata": {},
   "outputs": [],
   "source": [
    "a11[2]=33"
   ]
  },
  {
   "cell_type": "code",
   "execution_count": 125,
   "id": "94c8c1d2",
   "metadata": {},
   "outputs": [
    {
     "data": {
      "text/plain": [
       "array([ 0,  1, 33,  3,  4,  5,  6,  7,  8,  9])"
      ]
     },
     "execution_count": 125,
     "metadata": {},
     "output_type": "execute_result"
    }
   ],
   "source": [
    "a11"
   ]
  },
  {
   "cell_type": "code",
   "execution_count": 126,
   "id": "85d2c0f8",
   "metadata": {},
   "outputs": [
    {
     "data": {
      "text/plain": [
       "9"
      ]
     },
     "execution_count": 126,
     "metadata": {},
     "output_type": "execute_result"
    }
   ],
   "source": [
    "a11[9]"
   ]
  },
  {
   "cell_type": "code",
   "execution_count": 127,
   "id": "9677ba75",
   "metadata": {},
   "outputs": [],
   "source": [
    "a11[9]=a11[2]\n",
    "a11[2]=a22[9][9]"
   ]
  },
  {
   "cell_type": "code",
   "execution_count": 128,
   "id": "b9515e84",
   "metadata": {},
   "outputs": [
    {
     "data": {
      "text/plain": [
       "array([  0,   1, 100,   3,   4,   5,   6,   7,   8,  33])"
      ]
     },
     "execution_count": 128,
     "metadata": {},
     "output_type": "execute_result"
    }
   ],
   "source": [
    "a11"
   ]
  },
  {
   "cell_type": "code",
   "execution_count": 129,
   "id": "742bfb6b",
   "metadata": {},
   "outputs": [
    {
     "name": "stdout",
     "output_type": "stream",
     "text": [
      "[  0   1 100   3   4   5   6   7   8  33]\n"
     ]
    }
   ],
   "source": [
    "print(a11[0:])"
   ]
  },
  {
   "cell_type": "code",
   "execution_count": 130,
   "id": "f9b36912",
   "metadata": {},
   "outputs": [
    {
     "data": {
      "text/plain": [
       "array([[  1,   2,   3,   4,   5,   6,   7,   8,   9,  10],\n",
       "       [ 11,  12,  13,  14,  15,  16,  17,  18,  19,  20],\n",
       "       [ 21,  22,  23,  24,  25,  26,  27,  28,  29,  30],\n",
       "       [ 31,  32,  33,  34,  35,  36,  37,  38,  39,  40],\n",
       "       [ 41,  42,  43,  44,  45,  46,  47,  48,  49,  50],\n",
       "       [ 51,  52,  53,  54,  55,  56,  57,  58,  59,  60],\n",
       "       [ 61,  62,  63,  64,  65,  66,  67,  68,  69,  70],\n",
       "       [ 71,  72,  73,  74,  75,  76,  77,  78,  79,  80],\n",
       "       [ 81,  82,  83,  84,  85,  86,  87,  88,  89,  90],\n",
       "       [ 91,  92,  93,  94,  95,  96,  97,  98,  99, 100]])"
      ]
     },
     "execution_count": 130,
     "metadata": {},
     "output_type": "execute_result"
    }
   ],
   "source": [
    "a22[0:][0:]"
   ]
  },
  {
   "cell_type": "code",
   "execution_count": 137,
   "id": "db980bba",
   "metadata": {},
   "outputs": [
    {
     "data": {
      "text/plain": [
       "array([[ 1,  2,  3,  4,  5,  6,  7,  8,  9, 10],\n",
       "       [11, 12, 13, 14, 15, 16, 17, 18, 19, 20],\n",
       "       [21, 22, 23, 24, 25, 26, 27, 28, 29, 30],\n",
       "       [31, 32, 33, 34, 35, 36, 37, 38, 39, 40],\n",
       "       [41, 42, 43, 44, 45, 46, 47, 48, 49, 50],\n",
       "       [51, 52, 53, 54, 55, 56, 57, 58, 59, 60],\n",
       "       [61, 62, 63, 64, 65, 66, 67, 68, 69, 70],\n",
       "       [71, 72, 73, 74, 75, 76, 77, 78, 79, 80]])"
      ]
     },
     "execution_count": 137,
     "metadata": {},
     "output_type": "execute_result"
    }
   ],
   "source": [
    "a22[:8]"
   ]
  },
  {
   "cell_type": "code",
   "execution_count": 138,
   "id": "0b94405f",
   "metadata": {},
   "outputs": [
    {
     "data": {
      "text/plain": [
       "97"
      ]
     },
     "execution_count": 138,
     "metadata": {},
     "output_type": "execute_result"
    }
   ],
   "source": [
    "a11[2]-a11[3]"
   ]
  },
  {
   "cell_type": "code",
   "execution_count": 139,
   "id": "98831757",
   "metadata": {},
   "outputs": [
    {
     "data": {
      "text/plain": [
       "array([31, 32, 33, 34, 35, 36, 37, 38, 39, 40])"
      ]
     },
     "execution_count": 139,
     "metadata": {},
     "output_type": "execute_result"
    }
   ],
   "source": [
    "a22[3]"
   ]
  },
  {
   "cell_type": "code",
   "execution_count": 140,
   "id": "1c97bdd9",
   "metadata": {},
   "outputs": [
    {
     "data": {
      "text/plain": [
       "array([[41, 42, 43, 44, 45, 46, 47, 48, 49, 50],\n",
       "       [51, 52, 53, 54, 55, 56, 57, 58, 59, 60],\n",
       "       [61, 62, 63, 64, 65, 66, 67, 68, 69, 70],\n",
       "       [71, 72, 73, 74, 75, 76, 77, 78, 79, 80]])"
      ]
     },
     "execution_count": 140,
     "metadata": {},
     "output_type": "execute_result"
    }
   ],
   "source": [
    "a22[4:8]"
   ]
  },
  {
   "cell_type": "code",
   "execution_count": 141,
   "id": "62214b77",
   "metadata": {},
   "outputs": [
    {
     "data": {
      "text/plain": [
       "34"
      ]
     },
     "execution_count": 141,
     "metadata": {},
     "output_type": "execute_result"
    }
   ],
   "source": [
    "a22[3,3]"
   ]
  },
  {
   "cell_type": "code",
   "execution_count": 142,
   "id": "03c7cfac",
   "metadata": {},
   "outputs": [
    {
     "data": {
      "text/plain": [
       "6"
      ]
     },
     "execution_count": 142,
     "metadata": {},
     "output_type": "execute_result"
    }
   ],
   "source": [
    "a22[0,5]"
   ]
  },
  {
   "cell_type": "code",
   "execution_count": 145,
   "id": "5dc8eda6",
   "metadata": {},
   "outputs": [
    {
     "data": {
      "text/plain": [
       "array([[ 3,  4,  5],\n",
       "       [13, 14, 15],\n",
       "       [23, 24, 25],\n",
       "       [33, 34, 35],\n",
       "       [43, 44, 45],\n",
       "       [53, 54, 55],\n",
       "       [63, 64, 65],\n",
       "       [73, 74, 75],\n",
       "       [83, 84, 85],\n",
       "       [93, 94, 95]])"
      ]
     },
     "execution_count": 145,
     "metadata": {},
     "output_type": "execute_result"
    }
   ],
   "source": [
    "a22[0:,2:5]"
   ]
  },
  {
   "cell_type": "code",
   "execution_count": 146,
   "id": "75a9973f",
   "metadata": {},
   "outputs": [
    {
     "data": {
      "text/plain": [
       "array([[24, 25, 26, 27, 28, 29],\n",
       "       [34, 35, 36, 37, 38, 39],\n",
       "       [44, 45, 46, 47, 48, 49],\n",
       "       [54, 55, 56, 57, 58, 59],\n",
       "       [64, 65, 66, 67, 68, 69],\n",
       "       [74, 75, 76, 77, 78, 79],\n",
       "       [84, 85, 86, 87, 88, 89],\n",
       "       [94, 95, 96, 97, 98, 99]])"
      ]
     },
     "execution_count": 146,
     "metadata": {},
     "output_type": "execute_result"
    }
   ],
   "source": [
    "a22[2:,3:9]"
   ]
  },
  {
   "cell_type": "code",
   "execution_count": 149,
   "id": "0bedc2da",
   "metadata": {},
   "outputs": [
    {
     "data": {
      "text/plain": [
       "array([[27, 28],\n",
       "       [37, 38]])"
      ]
     },
     "execution_count": 149,
     "metadata": {},
     "output_type": "execute_result"
    }
   ],
   "source": [
    "a22[2:4,6:8]"
   ]
  },
  {
   "cell_type": "code",
   "execution_count": 150,
   "id": "8c248c71",
   "metadata": {},
   "outputs": [
    {
     "data": {
      "text/plain": [
       "array([[31, 32, 33],\n",
       "       [41, 42, 43],\n",
       "       [51, 52, 53]])"
      ]
     },
     "execution_count": 150,
     "metadata": {},
     "output_type": "execute_result"
    }
   ],
   "source": [
    "a22[3:6,:3]"
   ]
  },
  {
   "cell_type": "code",
   "execution_count": 151,
   "id": "9bfdf180",
   "metadata": {},
   "outputs": [
    {
     "data": {
      "text/plain": [
       "array([[ 1,  2,  3],\n",
       "       [11, 12, 13],\n",
       "       [21, 22, 23]])"
      ]
     },
     "execution_count": 151,
     "metadata": {},
     "output_type": "execute_result"
    }
   ],
   "source": [
    "a22[:3,:3]"
   ]
  },
  {
   "cell_type": "code",
   "execution_count": 152,
   "id": "77182967",
   "metadata": {},
   "outputs": [
    {
     "data": {
      "text/plain": [
       "array([[ 1,  2],\n",
       "       [11, 12],\n",
       "       [21, 22],\n",
       "       [31, 32],\n",
       "       [41, 42]])"
      ]
     },
     "execution_count": 152,
     "metadata": {},
     "output_type": "execute_result"
    }
   ],
   "source": [
    "a22[:5,:2]"
   ]
  },
  {
   "cell_type": "code",
   "execution_count": 153,
   "id": "8d5a9856",
   "metadata": {},
   "outputs": [
    {
     "data": {
      "text/plain": [
       "array([[ 1,  2,  3,  4,  5],\n",
       "       [11, 12, 13, 14, 15]])"
      ]
     },
     "execution_count": 153,
     "metadata": {},
     "output_type": "execute_result"
    }
   ],
   "source": [
    "a22[:2,:5]"
   ]
  },
  {
   "cell_type": "code",
   "execution_count": 154,
   "id": "962d58c1",
   "metadata": {},
   "outputs": [
    {
     "data": {
      "text/plain": [
       "array([[64, 65, 66],\n",
       "       [74, 75, 76],\n",
       "       [84, 85, 86]])"
      ]
     },
     "execution_count": 154,
     "metadata": {},
     "output_type": "execute_result"
    }
   ],
   "source": [
    "a22[6:9,3:6]"
   ]
  },
  {
   "cell_type": "code",
   "execution_count": 156,
   "id": "2371a4a8",
   "metadata": {},
   "outputs": [
    {
     "data": {
      "text/plain": [
       "array([[[  1,   2],\n",
       "        [ 11,  12],\n",
       "        [ 21,  22]],\n",
       "\n",
       "       [[101, 102],\n",
       "        [111, 112],\n",
       "        [121, 122]],\n",
       "\n",
       "       [[201, 202],\n",
       "        [211, 212],\n",
       "        [221, 222]],\n",
       "\n",
       "       [[301, 302],\n",
       "        [311, 312],\n",
       "        [321, 322]]])"
      ]
     },
     "execution_count": 156,
     "metadata": {},
     "output_type": "execute_result"
    }
   ],
   "source": [
    "a33[:4,:3,:2]"
   ]
  },
  {
   "cell_type": "code",
   "execution_count": 162,
   "id": "6cf39dbf",
   "metadata": {},
   "outputs": [
    {
     "data": {
      "text/plain": [
       "array([[[112]],\n",
       "\n",
       "       [[212]],\n",
       "\n",
       "       [[312]]])"
      ]
     },
     "execution_count": 162,
     "metadata": {},
     "output_type": "execute_result"
    }
   ],
   "source": [
    "a33[1:4,1:2,1:2]"
   ]
  },
  {
   "cell_type": "code",
   "execution_count": 163,
   "id": "f4071c0a",
   "metadata": {},
   "outputs": [
    {
     "data": {
      "text/plain": [
       "array([[[ 23,  24],\n",
       "        [ 33,  34]],\n",
       "\n",
       "       [[123, 124],\n",
       "        [133, 134]],\n",
       "\n",
       "       [[223, 224],\n",
       "        [233, 234]],\n",
       "\n",
       "       [[323, 324],\n",
       "        [333, 334]]])"
      ]
     },
     "execution_count": 163,
     "metadata": {},
     "output_type": "execute_result"
    }
   ],
   "source": [
    "a33[:5,2:4,2:4]"
   ]
  },
  {
   "cell_type": "code",
   "execution_count": 165,
   "id": "22a3c847",
   "metadata": {},
   "outputs": [
    {
     "data": {
      "text/plain": [
       "array([[[ 46],\n",
       "        [ 56]],\n",
       "\n",
       "       [[146],\n",
       "        [156]],\n",
       "\n",
       "       [[246],\n",
       "        [256]],\n",
       "\n",
       "       [[346],\n",
       "        [356]]])"
      ]
     },
     "execution_count": 165,
     "metadata": {},
     "output_type": "execute_result"
    }
   ],
   "source": [
    "a33[0:,4:6,5:6]"
   ]
  },
  {
   "cell_type": "code",
   "execution_count": 166,
   "id": "17784167",
   "metadata": {},
   "outputs": [
    {
     "data": {
      "text/plain": [
       "array([[[ 45,  46]],\n",
       "\n",
       "       [[145, 146]],\n",
       "\n",
       "       [[245, 246]],\n",
       "\n",
       "       [[345, 346]]])"
      ]
     },
     "execution_count": 166,
     "metadata": {},
     "output_type": "execute_result"
    }
   ],
   "source": [
    "a33[0:,4:5,4:6]"
   ]
  },
  {
   "cell_type": "code",
   "execution_count": 167,
   "id": "52c2b05c",
   "metadata": {},
   "outputs": [
    {
     "data": {
      "text/plain": [
       "array([], shape=(0, 8, 8), dtype=int32)"
      ]
     },
     "execution_count": 167,
     "metadata": {},
     "output_type": "execute_result"
    }
   ],
   "source": [
    "a33[3:3,2:,2:]"
   ]
  },
  {
   "cell_type": "code",
   "execution_count": 168,
   "id": "80820546",
   "metadata": {},
   "outputs": [
    {
     "data": {
      "text/plain": [
       "array([], shape=(3, 0, 9), dtype=int32)"
      ]
     },
     "execution_count": 168,
     "metadata": {},
     "output_type": "execute_result"
    }
   ],
   "source": [
    "a33[1:,0:0,1:]"
   ]
  },
  {
   "cell_type": "code",
   "execution_count": 169,
   "id": "43296357",
   "metadata": {},
   "outputs": [
    {
     "data": {
      "text/plain": [
       "array([], shape=(3, 9, 0), dtype=int32)"
      ]
     },
     "execution_count": 169,
     "metadata": {},
     "output_type": "execute_result"
    }
   ],
   "source": [
    "a33[1:,1:,5:5]"
   ]
  },
  {
   "cell_type": "code",
   "execution_count": 175,
   "id": "fca6205d",
   "metadata": {},
   "outputs": [
    {
     "data": {
      "text/plain": [
       "array([[[ 31,  32,  33,  34,  35,  36,  37,  38,  39,  40]],\n",
       "\n",
       "       [[131, 132, 133, 134, 135, 136, 137, 138, 139, 140]],\n",
       "\n",
       "       [[231, 232, 233, 234, 235, 236, 237, 238, 239, 240]],\n",
       "\n",
       "       [[331, 332, 333, 334, 335, 336, 337, 338, 339, 340]]])"
      ]
     },
     "execution_count": 175,
     "metadata": {},
     "output_type": "execute_result"
    }
   ],
   "source": [
    "a33[:,3:4,:]"
   ]
  },
  {
   "cell_type": "code",
   "execution_count": 174,
   "id": "ed0c99e2",
   "metadata": {},
   "outputs": [
    {
     "data": {
      "text/plain": [
       "array([[[  3],\n",
       "        [ 13],\n",
       "        [ 23],\n",
       "        [ 33],\n",
       "        [ 43],\n",
       "        [ 53],\n",
       "        [ 63],\n",
       "        [ 73],\n",
       "        [ 83],\n",
       "        [ 93]],\n",
       "\n",
       "       [[103],\n",
       "        [113],\n",
       "        [123],\n",
       "        [133],\n",
       "        [143],\n",
       "        [153],\n",
       "        [163],\n",
       "        [173],\n",
       "        [183],\n",
       "        [193]],\n",
       "\n",
       "       [[203],\n",
       "        [213],\n",
       "        [223],\n",
       "        [233],\n",
       "        [243],\n",
       "        [253],\n",
       "        [263],\n",
       "        [273],\n",
       "        [283],\n",
       "        [293]],\n",
       "\n",
       "       [[303],\n",
       "        [313],\n",
       "        [323],\n",
       "        [333],\n",
       "        [343],\n",
       "        [353],\n",
       "        [363],\n",
       "        [373],\n",
       "        [383],\n",
       "        [393]]])"
      ]
     },
     "execution_count": 174,
     "metadata": {},
     "output_type": "execute_result"
    }
   ],
   "source": [
    "a33[:,:,2:3]"
   ]
  },
  {
   "cell_type": "code",
   "execution_count": 176,
   "id": "14cfec9a",
   "metadata": {},
   "outputs": [
    {
     "data": {
      "text/plain": [
       "array([[[201, 202, 203, 204, 205, 206, 207, 208, 209, 210],\n",
       "        [211, 212, 213, 214, 215, 216, 217, 218, 219, 220],\n",
       "        [221, 222, 223, 224, 225, 226, 227, 228, 229, 230],\n",
       "        [231, 232, 233, 234, 235, 236, 237, 238, 239, 240],\n",
       "        [241, 242, 243, 244, 245, 246, 247, 248, 249, 250],\n",
       "        [251, 252, 253, 254, 255, 256, 257, 258, 259, 260],\n",
       "        [261, 262, 263, 264, 265, 266, 267, 268, 269, 270],\n",
       "        [271, 272, 273, 274, 275, 276, 277, 278, 279, 280],\n",
       "        [281, 282, 283, 284, 285, 286, 287, 288, 289, 290],\n",
       "        [291, 292, 293, 294, 295, 296, 297, 298, 299, 300]]])"
      ]
     },
     "execution_count": 176,
     "metadata": {},
     "output_type": "execute_result"
    }
   ],
   "source": [
    "a33[2:3,:,:]"
   ]
  },
  {
   "cell_type": "code",
   "execution_count": 172,
   "id": "c18c00ea",
   "metadata": {},
   "outputs": [
    {
     "data": {
      "text/plain": [
       "array([[ 2,  3,  4],\n",
       "       [12, 13, 14]])"
      ]
     },
     "execution_count": 172,
     "metadata": {},
     "output_type": "execute_result"
    }
   ],
   "source": [
    "a22[:2,1:4]"
   ]
  },
  {
   "cell_type": "code",
   "execution_count": 173,
   "id": "f4052e40",
   "metadata": {},
   "outputs": [
    {
     "data": {
      "text/plain": [
       "array([[12, 13],\n",
       "       [22, 23]])"
      ]
     },
     "execution_count": 173,
     "metadata": {},
     "output_type": "execute_result"
    }
   ],
   "source": [
    "a22[1:3,1:3]"
   ]
  },
  {
   "cell_type": "code",
   "execution_count": 178,
   "id": "0f68382c",
   "metadata": {},
   "outputs": [
    {
     "data": {
      "text/plain": [
       "array([151, 152, 153, 154, 155, 156, 157, 158, 159, 160, 161, 162, 163,\n",
       "       164, 165, 166, 167, 168, 169, 170, 171, 172, 173, 174, 175, 176,\n",
       "       177, 178, 179, 180, 181, 182, 183, 184, 185, 186, 187, 188, 189,\n",
       "       190, 191, 192, 193, 194, 195, 196, 197, 198, 199, 200, 201, 202,\n",
       "       203, 204, 205, 206, 207, 208, 209, 210, 211, 212, 213, 214, 215,\n",
       "       216, 217, 218, 219, 220, 221, 222, 223, 224, 225, 226, 227, 228,\n",
       "       229, 230, 231, 232, 233, 234, 235, 236, 237, 238, 239, 240, 241,\n",
       "       242, 243, 244, 245, 246, 247, 248, 249, 250, 251, 252, 253, 254,\n",
       "       255, 256, 257, 258, 259, 260, 261, 262, 263, 264, 265, 266, 267,\n",
       "       268, 269, 270, 271, 272, 273, 274, 275, 276, 277, 278, 279, 280,\n",
       "       281, 282, 283, 284, 285, 286, 287, 288, 289, 290, 291, 292, 293,\n",
       "       294, 295, 296, 297, 298, 299, 300, 301, 302, 303, 304, 305, 306,\n",
       "       307, 308, 309, 310, 311, 312, 313, 314, 315, 316, 317, 318, 319,\n",
       "       320, 321, 322, 323, 324, 325, 326, 327, 328, 329, 330, 331, 332,\n",
       "       333, 334, 335, 336, 337, 338, 339, 340, 341, 342, 343, 344, 345,\n",
       "       346, 347, 348, 349, 350, 351, 352, 353, 354, 355, 356, 357, 358,\n",
       "       359, 360, 361, 362, 363, 364, 365, 366, 367, 368, 369, 370, 371,\n",
       "       372, 373, 374, 375, 376, 377, 378, 379, 380, 381, 382, 383, 384,\n",
       "       385, 386, 387, 388, 389, 390, 391, 392, 393, 394, 395, 396, 397,\n",
       "       398, 399, 400])"
      ]
     },
     "execution_count": 178,
     "metadata": {},
     "output_type": "execute_result"
    }
   ],
   "source": [
    "a33[a33>150]"
   ]
  },
  {
   "cell_type": "code",
   "execution_count": 201,
   "id": "435f6bdc",
   "metadata": {},
   "outputs": [
    {
     "data": {
      "text/plain": [
       "array([ 41,  42,  43,  44,  45,  46,  47,  48,  49,  50,  51,  52,  53,\n",
       "        54,  55,  56,  57,  58,  59,  60,  61,  62,  63,  64,  65,  66,\n",
       "        67,  68,  69,  70,  71,  72,  73,  74,  75,  76,  77,  78,  79,\n",
       "        80,  81,  82,  83,  84,  85,  86,  87,  88,  89,  90,  91,  92,\n",
       "        93,  94,  95,  96,  97,  98,  99, 100])"
      ]
     },
     "execution_count": 201,
     "metadata": {},
     "output_type": "execute_result"
    }
   ],
   "source": [
    "a22[a22>40]"
   ]
  },
  {
   "cell_type": "code",
   "execution_count": 202,
   "id": "4d9764a9",
   "metadata": {},
   "outputs": [
    {
     "data": {
      "text/plain": [
       "array([ 1,  2,  3,  4,  5,  6,  7,  8,  9, 10, 11, 12, 13, 14, 15, 16, 17,\n",
       "       18, 19, 20, 21, 22, 23, 24, 25, 26, 27, 28, 29, 30, 31, 32, 33, 34,\n",
       "       35, 36, 37, 38, 39, 40])"
      ]
     },
     "execution_count": 202,
     "metadata": {},
     "output_type": "execute_result"
    }
   ],
   "source": [
    "a22[~(a22>40)]"
   ]
  },
  {
   "cell_type": "code",
   "execution_count": 224,
   "id": "c783c00f",
   "metadata": {},
   "outputs": [],
   "source": [
    "mark=a22>40"
   ]
  },
  {
   "cell_type": "code",
   "execution_count": 225,
   "id": "3aabe55b",
   "metadata": {},
   "outputs": [
    {
     "data": {
      "text/plain": [
       "array([ 1,  2,  3,  4,  5,  6,  7,  8,  9, 10, 11, 12, 13, 14, 15, 16, 17,\n",
       "       18, 19, 20, 21, 22, 23, 24, 25, 26, 27, 28, 29, 30, 31, 32, 33, 34,\n",
       "       35, 36, 37, 38, 39, 40])"
      ]
     },
     "execution_count": 225,
     "metadata": {},
     "output_type": "execute_result"
    }
   ],
   "source": [
    "a22[~mark]"
   ]
  },
  {
   "cell_type": "code",
   "execution_count": 205,
   "id": "da8249d6",
   "metadata": {},
   "outputs": [],
   "source": [
    "mark1=~mark"
   ]
  },
  {
   "cell_type": "code",
   "execution_count": 206,
   "id": "fb8b52e3",
   "metadata": {},
   "outputs": [
    {
     "data": {
      "text/plain": [
       "array([ 1,  2,  3,  4,  5,  6,  7,  8,  9, 10, 11, 12, 13, 14, 15, 16, 17,\n",
       "       18, 19, 20, 21, 22, 23, 24, 25, 26, 27, 28, 29, 30, 31, 32, 33, 34,\n",
       "       35, 36, 37, 38, 39, 40])"
      ]
     },
     "execution_count": 206,
     "metadata": {},
     "output_type": "execute_result"
    }
   ],
   "source": [
    "a22[mark1]"
   ]
  },
  {
   "cell_type": "code",
   "execution_count": 217,
   "id": "3706b2ed",
   "metadata": {},
   "outputs": [],
   "source": [
    "mark1=(a22<30)"
   ]
  },
  {
   "cell_type": "code",
   "execution_count": 218,
   "id": "c98c06ff",
   "metadata": {},
   "outputs": [
    {
     "data": {
      "text/plain": [
       "array([ 1,  2,  3,  4,  5,  6,  7,  8,  9, 10, 11, 12, 13, 14, 15, 16, 17,\n",
       "       18, 19, 20, 21, 22, 23, 24, 25, 26, 27, 28, 29])"
      ]
     },
     "execution_count": 218,
     "metadata": {},
     "output_type": "execute_result"
    }
   ],
   "source": [
    "a22[mark1]"
   ]
  },
  {
   "cell_type": "code",
   "execution_count": 285,
   "id": "66c8f4ab",
   "metadata": {},
   "outputs": [],
   "source": [
    "a2=np.arange(12).reshape(4,3)"
   ]
  },
  {
   "cell_type": "code",
   "execution_count": 286,
   "id": "3d71497f",
   "metadata": {},
   "outputs": [
    {
     "data": {
      "text/plain": [
       "array([[ 0,  1,  2],\n",
       "       [ 3,  4,  5],\n",
       "       [ 6,  7,  8],\n",
       "       [ 9, 10, 11]])"
      ]
     },
     "execution_count": 286,
     "metadata": {},
     "output_type": "execute_result"
    }
   ],
   "source": [
    "a2"
   ]
  },
  {
   "cell_type": "code",
   "execution_count": 287,
   "id": "581677a4",
   "metadata": {},
   "outputs": [],
   "source": [
    "mar=a2>3"
   ]
  },
  {
   "cell_type": "code",
   "execution_count": 288,
   "id": "cbb2abb5",
   "metadata": {},
   "outputs": [
    {
     "data": {
      "text/plain": [
       "array([ 4,  5,  6,  7,  8,  9, 10, 11])"
      ]
     },
     "execution_count": 288,
     "metadata": {},
     "output_type": "execute_result"
    }
   ],
   "source": [
    "a2[mar]"
   ]
  },
  {
   "cell_type": "code",
   "execution_count": 289,
   "id": "c082c3d1",
   "metadata": {},
   "outputs": [],
   "source": [
    "mar1=a2<3"
   ]
  },
  {
   "cell_type": "code",
   "execution_count": 290,
   "id": "71c098c8",
   "metadata": {},
   "outputs": [
    {
     "data": {
      "text/plain": [
       "array([0, 1, 2])"
      ]
     },
     "execution_count": 290,
     "metadata": {},
     "output_type": "execute_result"
    }
   ],
   "source": [
    "a2[mar1]"
   ]
  },
  {
   "cell_type": "code",
   "execution_count": 291,
   "id": "2b518c4d",
   "metadata": {},
   "outputs": [],
   "source": [
    "mar2=a2!=5"
   ]
  },
  {
   "cell_type": "code",
   "execution_count": 292,
   "id": "2f7af407",
   "metadata": {},
   "outputs": [
    {
     "data": {
      "text/plain": [
       "array([ 0,  1,  2,  3,  4,  6,  7,  8,  9, 10, 11])"
      ]
     },
     "execution_count": 292,
     "metadata": {},
     "output_type": "execute_result"
    }
   ],
   "source": [
    "a2[mar2]"
   ]
  },
  {
   "cell_type": "code",
   "execution_count": 293,
   "id": "5bc5f8ba",
   "metadata": {},
   "outputs": [],
   "source": [
    "a21=a2.reshape(3,4)"
   ]
  },
  {
   "cell_type": "code",
   "execution_count": 294,
   "id": "370a23bd",
   "metadata": {},
   "outputs": [],
   "source": [
    "a21[0,0]=12"
   ]
  },
  {
   "cell_type": "code",
   "execution_count": 295,
   "id": "06ef191e",
   "metadata": {},
   "outputs": [
    {
     "data": {
      "text/plain": [
       "array([[12,  1,  2,  3],\n",
       "       [ 4,  5,  6,  7],\n",
       "       [ 8,  9, 10, 11]])"
      ]
     },
     "execution_count": 295,
     "metadata": {},
     "output_type": "execute_result"
    }
   ],
   "source": [
    "a21"
   ]
  },
  {
   "cell_type": "code",
   "execution_count": 251,
   "id": "bf9305b4",
   "metadata": {},
   "outputs": [],
   "source": [
    "a21[:,1:3]=0"
   ]
  },
  {
   "cell_type": "code",
   "execution_count": 252,
   "id": "96aee2c3",
   "metadata": {},
   "outputs": [
    {
     "data": {
      "text/plain": [
       "array([[12,  0,  0,  3],\n",
       "       [ 4,  0,  0,  7],\n",
       "       [ 8,  0,  0, 11]])"
      ]
     },
     "execution_count": 252,
     "metadata": {},
     "output_type": "execute_result"
    }
   ],
   "source": [
    "a21"
   ]
  },
  {
   "cell_type": "code",
   "execution_count": 253,
   "id": "aefc862c",
   "metadata": {},
   "outputs": [],
   "source": [
    "a21[1:2,:]=0"
   ]
  },
  {
   "cell_type": "code",
   "execution_count": 254,
   "id": "482fbbd6",
   "metadata": {},
   "outputs": [
    {
     "data": {
      "text/plain": [
       "array([[12,  0,  0,  3],\n",
       "       [ 0,  0,  0,  0],\n",
       "       [ 8,  0,  0, 11]])"
      ]
     },
     "execution_count": 254,
     "metadata": {},
     "output_type": "execute_result"
    }
   ],
   "source": [
    "a21"
   ]
  },
  {
   "cell_type": "code",
   "execution_count": 255,
   "id": "70de8a78",
   "metadata": {},
   "outputs": [],
   "source": [
    "a21[1:2,:]=22"
   ]
  },
  {
   "cell_type": "code",
   "execution_count": 256,
   "id": "fa141d2a",
   "metadata": {},
   "outputs": [
    {
     "data": {
      "text/plain": [
       "array([[12,  0,  0,  3],\n",
       "       [22, 22, 22, 22],\n",
       "       [ 8,  0,  0, 11]])"
      ]
     },
     "execution_count": 256,
     "metadata": {},
     "output_type": "execute_result"
    }
   ],
   "source": [
    "a21"
   ]
  },
  {
   "cell_type": "code",
   "execution_count": 257,
   "id": "12aaef6b",
   "metadata": {},
   "outputs": [],
   "source": [
    "a21[:,1:3]=33"
   ]
  },
  {
   "cell_type": "code",
   "execution_count": 258,
   "id": "d67c0972",
   "metadata": {},
   "outputs": [
    {
     "data": {
      "text/plain": [
       "array([[12, 33, 33,  3],\n",
       "       [22, 33, 33, 22],\n",
       "       [ 8, 33, 33, 11]])"
      ]
     },
     "execution_count": 258,
     "metadata": {},
     "output_type": "execute_result"
    }
   ],
   "source": [
    "a21"
   ]
  },
  {
   "cell_type": "code",
   "execution_count": 259,
   "id": "582cf3de",
   "metadata": {},
   "outputs": [],
   "source": [
    "a21[:,0:1]=11"
   ]
  },
  {
   "cell_type": "code",
   "execution_count": 260,
   "id": "99197c78",
   "metadata": {},
   "outputs": [
    {
     "data": {
      "text/plain": [
       "array([[11, 33, 33,  3],\n",
       "       [11, 33, 33, 22],\n",
       "       [11, 33, 33, 11]])"
      ]
     },
     "execution_count": 260,
     "metadata": {},
     "output_type": "execute_result"
    }
   ],
   "source": [
    "a21"
   ]
  },
  {
   "cell_type": "code",
   "execution_count": 261,
   "id": "85416cd7",
   "metadata": {},
   "outputs": [],
   "source": [
    "a21[:,3:]=22"
   ]
  },
  {
   "cell_type": "code",
   "execution_count": 262,
   "id": "65ae345e",
   "metadata": {},
   "outputs": [
    {
     "data": {
      "text/plain": [
       "array([[11, 33, 33, 22],\n",
       "       [11, 33, 33, 22],\n",
       "       [11, 33, 33, 22]])"
      ]
     },
     "execution_count": 262,
     "metadata": {},
     "output_type": "execute_result"
    }
   ],
   "source": [
    "a21"
   ]
  },
  {
   "cell_type": "code",
   "execution_count": 263,
   "id": "091f34ef",
   "metadata": {},
   "outputs": [],
   "source": [
    "a21[1:2,:]=44"
   ]
  },
  {
   "cell_type": "code",
   "execution_count": 264,
   "id": "199ead20",
   "metadata": {},
   "outputs": [
    {
     "data": {
      "text/plain": [
       "array([[11, 33, 33, 22],\n",
       "       [44, 44, 44, 44],\n",
       "       [11, 33, 33, 22]])"
      ]
     },
     "execution_count": 264,
     "metadata": {},
     "output_type": "execute_result"
    }
   ],
   "source": [
    "a21"
   ]
  },
  {
   "cell_type": "code",
   "execution_count": 265,
   "id": "f264fc71",
   "metadata": {},
   "outputs": [],
   "source": [
    "a21[2:,:]=55"
   ]
  },
  {
   "cell_type": "code",
   "execution_count": 266,
   "id": "64e84c68",
   "metadata": {},
   "outputs": [
    {
     "data": {
      "text/plain": [
       "array([[11, 33, 33, 22],\n",
       "       [44, 44, 44, 44],\n",
       "       [55, 55, 55, 55]])"
      ]
     },
     "execution_count": 266,
     "metadata": {},
     "output_type": "execute_result"
    }
   ],
   "source": [
    "a21"
   ]
  },
  {
   "cell_type": "code",
   "execution_count": 267,
   "id": "7926a2ed",
   "metadata": {},
   "outputs": [],
   "source": [
    "a21[0:1,:]=33"
   ]
  },
  {
   "cell_type": "code",
   "execution_count": 268,
   "id": "58eb4b86",
   "metadata": {},
   "outputs": [
    {
     "data": {
      "text/plain": [
       "array([[33, 33, 33, 33],\n",
       "       [44, 44, 44, 44],\n",
       "       [55, 55, 55, 55]])"
      ]
     },
     "execution_count": 268,
     "metadata": {},
     "output_type": "execute_result"
    }
   ],
   "source": [
    "a21"
   ]
  },
  {
   "cell_type": "code",
   "execution_count": 274,
   "id": "e015345b",
   "metadata": {},
   "outputs": [],
   "source": [
    "a21[a21>33]=33"
   ]
  },
  {
   "cell_type": "code",
   "execution_count": 275,
   "id": "0813c448",
   "metadata": {},
   "outputs": [
    {
     "data": {
      "text/plain": [
       "array([[33, 33, 33, 33],\n",
       "       [33, 33, 33, 33],\n",
       "       [33, 33, 33, 33]])"
      ]
     },
     "execution_count": 275,
     "metadata": {},
     "output_type": "execute_result"
    }
   ],
   "source": [
    "a21"
   ]
  },
  {
   "cell_type": "code",
   "execution_count": 276,
   "id": "6cfa2660",
   "metadata": {},
   "outputs": [],
   "source": [
    "ai=a21==33"
   ]
  },
  {
   "cell_type": "code",
   "execution_count": 278,
   "id": "c1ae32eb",
   "metadata": {},
   "outputs": [],
   "source": [
    "a21[ai]='00'"
   ]
  },
  {
   "cell_type": "code",
   "execution_count": 279,
   "id": "b27d7f19",
   "metadata": {},
   "outputs": [
    {
     "data": {
      "text/plain": [
       "array([[0, 0, 0, 0],\n",
       "       [0, 0, 0, 0],\n",
       "       [0, 0, 0, 0]])"
      ]
     },
     "execution_count": 279,
     "metadata": {},
     "output_type": "execute_result"
    }
   ],
   "source": [
    "a21"
   ]
  },
  {
   "cell_type": "code",
   "execution_count": 282,
   "id": "e6a0024a",
   "metadata": {},
   "outputs": [],
   "source": [
    "a21=a21+100"
   ]
  },
  {
   "cell_type": "code",
   "execution_count": 283,
   "id": "df7c45b3",
   "metadata": {},
   "outputs": [
    {
     "data": {
      "text/plain": [
       "array([[100, 100, 100, 100],\n",
       "       [100, 100, 100, 100],\n",
       "       [100, 100, 100, 100]])"
      ]
     },
     "execution_count": 283,
     "metadata": {},
     "output_type": "execute_result"
    }
   ],
   "source": [
    "a21"
   ]
  },
  {
   "cell_type": "code",
   "execution_count": 307,
   "id": "5fdb20e0",
   "metadata": {},
   "outputs": [],
   "source": [
    "a211=np.arange(33).reshape(3,11)"
   ]
  },
  {
   "cell_type": "code",
   "execution_count": 309,
   "id": "f20ab349",
   "metadata": {},
   "outputs": [
    {
     "data": {
      "text/plain": [
       "array([[ 0,  1,  2,  3,  4,  5,  6,  7,  8,  9, 10],\n",
       "       [11, 12, 13, 14, 15, 16, 17, 18, 19, 20, 21],\n",
       "       [22, 23, 24, 25, 26, 27, 28, 29, 30, 31, 32]])"
      ]
     },
     "execution_count": 309,
     "metadata": {},
     "output_type": "execute_result"
    }
   ],
   "source": [
    "a211"
   ]
  },
  {
   "cell_type": "code",
   "execution_count": 310,
   "id": "1e55e390",
   "metadata": {},
   "outputs": [
    {
     "data": {
      "text/plain": [
       "array([ 4,  5,  6,  7,  8,  9, 10, 11, 12])"
      ]
     },
     "execution_count": 310,
     "metadata": {},
     "output_type": "execute_result"
    }
   ],
   "source": [
    "a211[(a211>3)&(a211<13)]"
   ]
  },
  {
   "cell_type": "code",
   "execution_count": 316,
   "id": "ea7cb2c6",
   "metadata": {},
   "outputs": [
    {
     "data": {
      "text/plain": [
       "array([ 8,  9, 10, 11, 12, 13, 14, 15, 16, 17, 18, 19, 20, 21, 22, 23, 24])"
      ]
     },
     "execution_count": 316,
     "metadata": {},
     "output_type": "execute_result"
    }
   ],
   "source": [
    "a211[(a211<25)&(a211>=8)]"
   ]
  },
  {
   "cell_type": "code",
   "execution_count": 317,
   "id": "b8be0824",
   "metadata": {},
   "outputs": [
    {
     "data": {
      "text/plain": [
       "array([ 6,  8, 10, 12, 14, 16, 18, 20, 22, 24, 26, 28, 30, 32])"
      ]
     },
     "execution_count": 317,
     "metadata": {},
     "output_type": "execute_result"
    }
   ],
   "source": [
    "a211[(a211%2==0)&(a211>5)]"
   ]
  },
  {
   "cell_type": "code",
   "execution_count": 321,
   "id": "73512665",
   "metadata": {},
   "outputs": [
    {
     "data": {
      "text/plain": [
       "array([ 1,  3,  5,  7,  9, 11, 13, 15, 17, 19])"
      ]
     },
     "execution_count": 321,
     "metadata": {},
     "output_type": "execute_result"
    }
   ],
   "source": [
    "a211[((a211%2)!=0)&(a211<20)]"
   ]
  },
  {
   "cell_type": "code",
   "execution_count": 322,
   "id": "8b65be2c",
   "metadata": {},
   "outputs": [
    {
     "data": {
      "text/plain": [
       "array([[ 0,  1,  2,  3,  4,  5,  6,  7,  8,  9, 10],\n",
       "       [11, 12, 13, 14, 15, 16, 17, 18, 19, 20, 21],\n",
       "       [22, 23, 24, 25, 26, 27, 28, 29, 30, 31, 32]])"
      ]
     },
     "execution_count": 322,
     "metadata": {},
     "output_type": "execute_result"
    }
   ],
   "source": [
    "np.sort(a211,axis=0)"
   ]
  },
  {
   "cell_type": "code",
   "execution_count": 324,
   "id": "e3892947",
   "metadata": {},
   "outputs": [],
   "source": [
    "a=np.random.rand(5,5)"
   ]
  },
  {
   "cell_type": "code",
   "execution_count": 325,
   "id": "95e90600",
   "metadata": {},
   "outputs": [
    {
     "data": {
      "text/plain": [
       "array([[0.64864673, 0.14268127, 0.47702419, 0.520071  , 0.93924812],\n",
       "       [0.72590627, 0.52666273, 0.40326469, 0.47346386, 0.81924115],\n",
       "       [0.13926519, 0.36256693, 0.36612691, 0.22960681, 0.77073071],\n",
       "       [0.1075132 , 0.44414502, 0.53049892, 0.91696875, 0.99745884],\n",
       "       [0.0203411 , 0.18945711, 0.17115439, 0.57232116, 0.06094221]])"
      ]
     },
     "execution_count": 325,
     "metadata": {},
     "output_type": "execute_result"
    }
   ],
   "source": [
    "a"
   ]
  },
  {
   "cell_type": "code",
   "execution_count": 326,
   "id": "69bf5e81",
   "metadata": {},
   "outputs": [
    {
     "data": {
      "text/plain": [
       "array([[0.0203411 , 0.14268127, 0.17115439, 0.22960681, 0.06094221],\n",
       "       [0.1075132 , 0.18945711, 0.36612691, 0.47346386, 0.77073071],\n",
       "       [0.13926519, 0.36256693, 0.40326469, 0.520071  , 0.81924115],\n",
       "       [0.64864673, 0.44414502, 0.47702419, 0.57232116, 0.93924812],\n",
       "       [0.72590627, 0.52666273, 0.53049892, 0.91696875, 0.99745884]])"
      ]
     },
     "execution_count": 326,
     "metadata": {},
     "output_type": "execute_result"
    }
   ],
   "source": [
    "np.sort(a,axis=0)"
   ]
  },
  {
   "cell_type": "code",
   "execution_count": 327,
   "id": "187bbd5e",
   "metadata": {},
   "outputs": [
    {
     "data": {
      "text/plain": [
       "array([[0.14268127, 0.47702419, 0.520071  , 0.64864673, 0.93924812],\n",
       "       [0.40326469, 0.47346386, 0.52666273, 0.72590627, 0.81924115],\n",
       "       [0.13926519, 0.22960681, 0.36256693, 0.36612691, 0.77073071],\n",
       "       [0.1075132 , 0.44414502, 0.53049892, 0.91696875, 0.99745884],\n",
       "       [0.0203411 , 0.06094221, 0.17115439, 0.18945711, 0.57232116]])"
      ]
     },
     "execution_count": 327,
     "metadata": {},
     "output_type": "execute_result"
    }
   ],
   "source": [
    "np.sort(a,axis=1)"
   ]
  },
  {
   "cell_type": "code",
   "execution_count": 328,
   "id": "96d795a3",
   "metadata": {},
   "outputs": [
    {
     "data": {
      "text/plain": [
       "array([[0.64864673, 0.14268127, 0.47702419, 0.520071  , 0.93924812],\n",
       "       [0.72590627, 0.52666273, 0.40326469, 0.47346386, 0.81924115],\n",
       "       [0.13926519, 0.36256693, 0.36612691, 0.22960681, 0.77073071],\n",
       "       [0.1075132 , 0.44414502, 0.53049892, 0.91696875, 0.99745884],\n",
       "       [0.0203411 , 0.18945711, 0.17115439, 0.57232116, 0.06094221]])"
      ]
     },
     "execution_count": 328,
     "metadata": {},
     "output_type": "execute_result"
    }
   ],
   "source": [
    "a #sorted array will not make any changes in original array"
   ]
  },
  {
   "cell_type": "code",
   "execution_count": 341,
   "id": "2402ffcc",
   "metadata": {},
   "outputs": [],
   "source": [
    "c=np.arange(5,11).reshape(3,2)\n",
    "c1=np.arange(11,17).reshape(3,2)"
   ]
  },
  {
   "cell_type": "code",
   "execution_count": 342,
   "id": "71393f92",
   "metadata": {},
   "outputs": [
    {
     "data": {
      "text/plain": [
       "array([[ 5,  6],\n",
       "       [ 7,  8],\n",
       "       [ 9, 10]])"
      ]
     },
     "execution_count": 342,
     "metadata": {},
     "output_type": "execute_result"
    }
   ],
   "source": [
    "c"
   ]
  },
  {
   "cell_type": "code",
   "execution_count": 343,
   "id": "83a2a60c",
   "metadata": {},
   "outputs": [
    {
     "data": {
      "text/plain": [
       "array([[11, 12],\n",
       "       [13, 14],\n",
       "       [15, 16]])"
      ]
     },
     "execution_count": 343,
     "metadata": {},
     "output_type": "execute_result"
    }
   ],
   "source": [
    "c1"
   ]
  },
  {
   "cell_type": "code",
   "execution_count": 346,
   "id": "c9fdbc29",
   "metadata": {},
   "outputs": [
    {
     "data": {
      "text/plain": [
       "array([11, 12, 13, 14, 15, 16])"
      ]
     },
     "execution_count": 346,
     "metadata": {},
     "output_type": "execute_result"
    }
   ],
   "source": [
    "np.concatenate(c1)"
   ]
  },
  {
   "cell_type": "code",
   "execution_count": 347,
   "id": "4ed99032",
   "metadata": {},
   "outputs": [
    {
     "data": {
      "text/plain": [
       "array([ 5,  6,  7,  8,  9, 10, 11, 12, 13, 14, 15, 16])"
      ]
     },
     "execution_count": 347,
     "metadata": {},
     "output_type": "execute_result"
    }
   ],
   "source": [
    "np.append(c,c1)"
   ]
  },
  {
   "cell_type": "code",
   "execution_count": null,
   "id": "a6f814ff",
   "metadata": {},
   "outputs": [],
   "source": []
  }
 ],
 "metadata": {
  "kernelspec": {
   "display_name": "Python 3 (ipykernel)",
   "language": "python",
   "name": "python3"
  },
  "language_info": {
   "codemirror_mode": {
    "name": "ipython",
    "version": 3
   },
   "file_extension": ".py",
   "mimetype": "text/x-python",
   "name": "python",
   "nbconvert_exporter": "python",
   "pygments_lexer": "ipython3",
   "version": "3.10.9"
  }
 },
 "nbformat": 4,
 "nbformat_minor": 5
}
