{
 "cells": [
  {
   "cell_type": "code",
   "execution_count": 32,
   "id": "31f34c52",
   "metadata": {},
   "outputs": [
    {
     "name": "stdout",
     "output_type": "stream",
     "text": [
      "200\n",
      "-200\n",
      "0\n"
     ]
    }
   ],
   "source": [
    "a=int(input())\n",
    "b=int(input())\n",
    "print(a+b)"
   ]
  },
  {
   "cell_type": "code",
   "execution_count": 2,
   "id": "b23e4f96",
   "metadata": {},
   "outputs": [
    {
     "name": "stdout",
     "output_type": "stream",
     "text": [
      "-40000\n"
     ]
    }
   ],
   "source": [
    "print(a*b)"
   ]
  },
  {
   "cell_type": "code",
   "execution_count": 3,
   "id": "d7db8424",
   "metadata": {},
   "outputs": [
    {
     "name": "stdout",
     "output_type": "stream",
     "text": [
      "400\n"
     ]
    }
   ],
   "source": [
    "print(a-b)"
   ]
  },
  {
   "cell_type": "code",
   "execution_count": 4,
   "id": "524dd360",
   "metadata": {},
   "outputs": [
    {
     "name": "stdout",
     "output_type": "stream",
     "text": [
      "-1.0\n"
     ]
    }
   ],
   "source": [
    "print(a/b)"
   ]
  },
  {
   "cell_type": "code",
   "execution_count": 5,
   "id": "c4ef019c",
   "metadata": {},
   "outputs": [
    {
     "name": "stdout",
     "output_type": "stream",
     "text": [
      "-1\n"
     ]
    }
   ],
   "source": [
    "print(a//b)"
   ]
  },
  {
   "cell_type": "code",
   "execution_count": 6,
   "id": "ba35e6ef",
   "metadata": {},
   "outputs": [
    {
     "name": "stdout",
     "output_type": "stream",
     "text": [
      "0\n"
     ]
    }
   ],
   "source": [
    "print(a%b)"
   ]
  },
  {
   "cell_type": "code",
   "execution_count": 7,
   "id": "faec062e",
   "metadata": {},
   "outputs": [
    {
     "name": "stdout",
     "output_type": "stream",
     "text": [
      "True\n"
     ]
    }
   ],
   "source": [
    "print(a>b)"
   ]
  },
  {
   "cell_type": "code",
   "execution_count": 8,
   "id": "88e08893",
   "metadata": {},
   "outputs": [
    {
     "name": "stdout",
     "output_type": "stream",
     "text": [
      "False\n"
     ]
    }
   ],
   "source": [
    "print(a<b)"
   ]
  },
  {
   "cell_type": "code",
   "execution_count": 9,
   "id": "dcc35881",
   "metadata": {},
   "outputs": [
    {
     "name": "stdout",
     "output_type": "stream",
     "text": [
      "False\n"
     ]
    }
   ],
   "source": [
    "print(a<=b)"
   ]
  },
  {
   "cell_type": "code",
   "execution_count": 10,
   "id": "b249be6d",
   "metadata": {},
   "outputs": [
    {
     "name": "stdout",
     "output_type": "stream",
     "text": [
      "True\n"
     ]
    }
   ],
   "source": [
    "print(a>=b)"
   ]
  },
  {
   "cell_type": "code",
   "execution_count": 11,
   "id": "6c57a698",
   "metadata": {},
   "outputs": [
    {
     "name": "stdout",
     "output_type": "stream",
     "text": [
      "False\n"
     ]
    }
   ],
   "source": [
    "print(a==b)"
   ]
  },
  {
   "cell_type": "code",
   "execution_count": 12,
   "id": "a892d6b2",
   "metadata": {},
   "outputs": [
    {
     "name": "stdout",
     "output_type": "stream",
     "text": [
      "True\n"
     ]
    }
   ],
   "source": [
    "print(a!=b)"
   ]
  },
  {
   "cell_type": "code",
   "execution_count": 13,
   "id": "ffff71e4",
   "metadata": {},
   "outputs": [
    {
     "name": "stdout",
     "output_type": "stream",
     "text": [
      "-200\n"
     ]
    }
   ],
   "source": [
    "print(a and b)"
   ]
  },
  {
   "cell_type": "code",
   "execution_count": 14,
   "id": "b6d86c48",
   "metadata": {},
   "outputs": [
    {
     "name": "stdout",
     "output_type": "stream",
     "text": [
      "200\n"
     ]
    }
   ],
   "source": [
    "print(b and a)"
   ]
  },
  {
   "cell_type": "code",
   "execution_count": 15,
   "id": "a31809d0",
   "metadata": {},
   "outputs": [
    {
     "name": "stdout",
     "output_type": "stream",
     "text": [
      "200\n"
     ]
    }
   ],
   "source": [
    "print(a or b)"
   ]
  },
  {
   "cell_type": "code",
   "execution_count": 16,
   "id": "1385bd1e",
   "metadata": {},
   "outputs": [
    {
     "name": "stdout",
     "output_type": "stream",
     "text": [
      "-200\n"
     ]
    }
   ],
   "source": [
    "print(b or a)"
   ]
  },
  {
   "cell_type": "code",
   "execution_count": 17,
   "id": "42d12469",
   "metadata": {},
   "outputs": [
    {
     "name": "stdout",
     "output_type": "stream",
     "text": [
      "200\n"
     ]
    }
   ],
   "source": [
    "print(1 and a)"
   ]
  },
  {
   "cell_type": "code",
   "execution_count": 18,
   "id": "fd05a485",
   "metadata": {},
   "outputs": [
    {
     "name": "stdout",
     "output_type": "stream",
     "text": [
      "1\n"
     ]
    }
   ],
   "source": [
    "print(a and 1)"
   ]
  },
  {
   "cell_type": "code",
   "execution_count": 19,
   "id": "271e2d87",
   "metadata": {},
   "outputs": [
    {
     "name": "stdout",
     "output_type": "stream",
     "text": [
      "0\n"
     ]
    }
   ],
   "source": [
    "print(0 and a)"
   ]
  },
  {
   "cell_type": "code",
   "execution_count": 20,
   "id": "13c532db",
   "metadata": {},
   "outputs": [
    {
     "name": "stdout",
     "output_type": "stream",
     "text": [
      "0\n"
     ]
    }
   ],
   "source": [
    "print(a and 0)"
   ]
  },
  {
   "cell_type": "code",
   "execution_count": 21,
   "id": "594120e0",
   "metadata": {},
   "outputs": [
    {
     "name": "stdout",
     "output_type": "stream",
     "text": [
      "1\n"
     ]
    }
   ],
   "source": [
    "print(1 or a)"
   ]
  },
  {
   "cell_type": "code",
   "execution_count": 22,
   "id": "235526ab",
   "metadata": {},
   "outputs": [
    {
     "name": "stdout",
     "output_type": "stream",
     "text": [
      "200\n"
     ]
    }
   ],
   "source": [
    "print(a or 1)"
   ]
  },
  {
   "cell_type": "code",
   "execution_count": 23,
   "id": "35ff8232",
   "metadata": {},
   "outputs": [
    {
     "name": "stdout",
     "output_type": "stream",
     "text": [
      "200\n"
     ]
    }
   ],
   "source": [
    "print(0 or a)"
   ]
  },
  {
   "cell_type": "code",
   "execution_count": 24,
   "id": "0a05370c",
   "metadata": {},
   "outputs": [
    {
     "name": "stdout",
     "output_type": "stream",
     "text": [
      "200\n"
     ]
    }
   ],
   "source": [
    "print(a or 0)"
   ]
  },
  {
   "cell_type": "code",
   "execution_count": 25,
   "id": "a0f24e53",
   "metadata": {},
   "outputs": [
    {
     "name": "stdout",
     "output_type": "stream",
     "text": [
      "pavan kmumar\n"
     ]
    }
   ],
   "source": [
    "c=input()"
   ]
  },
  {
   "cell_type": "code",
   "execution_count": 26,
   "id": "e20f59d2",
   "metadata": {},
   "outputs": [
    {
     "name": "stdout",
     "output_type": "stream",
     "text": [
      "avan kmumar\n"
     ]
    }
   ],
   "source": [
    "print(c[1:])"
   ]
  },
  {
   "cell_type": "code",
   "execution_count": 28,
   "id": "985869dd",
   "metadata": {},
   "outputs": [
    {
     "name": "stdout",
     "output_type": "stream",
     "text": [
      "pavan \n"
     ]
    }
   ],
   "source": [
    "print(c[:6])"
   ]
  },
  {
   "cell_type": "code",
   "execution_count": 29,
   "id": "b16dae72",
   "metadata": {},
   "outputs": [
    {
     "name": "stdout",
     "output_type": "stream",
     "text": [
      "No\n"
     ]
    }
   ],
   "source": [
    "if(a==b):\n",
    "    print(c)\n",
    "else:\n",
    "    print(\"No\")"
   ]
  },
  {
   "cell_type": "code",
   "execution_count": 41,
   "id": "807e715d",
   "metadata": {},
   "outputs": [],
   "source": [
    "d9=['q','r','s','t','u','v','w','x','y','z']\n",
    "D9=['a','b','c','d','e','f','g','h','i','j','k','l','m','n','o','p']"
   ]
  },
  {
   "cell_type": "code",
   "execution_count": 42,
   "id": "6b5782fa",
   "metadata": {},
   "outputs": [
    {
     "name": "stdout",
     "output_type": "stream",
     "text": [
      "['q', 'r', 's', 't', 'u', 'v', 'w', 'x', 'y', 'z', ['a', 'b', 'c', 'd', 'e', 'f', 'g', 'h', 'i', 'j', 'k', 'l', 'm', 'n', 'o', 'p']]\n"
     ]
    }
   ],
   "source": [
    "d9.append(D9)\n",
    "print(d9)"
   ]
  },
  {
   "cell_type": "code",
   "execution_count": 34,
   "id": "31e37e9d",
   "metadata": {},
   "outputs": [],
   "source": [
    "d93 = \"nhgf\""
   ]
  },
  {
   "cell_type": "code",
   "execution_count": 43,
   "id": "e43735f2",
   "metadata": {},
   "outputs": [
    {
     "data": {
      "text/plain": [
       "['a',\n",
       " 'b',\n",
       " 'c',\n",
       " 'd',\n",
       " 'e',\n",
       " 'f',\n",
       " 'g',\n",
       " 'h',\n",
       " 'i',\n",
       " 'j',\n",
       " 'k',\n",
       " 'l',\n",
       " 'm',\n",
       " 'n',\n",
       " 'o',\n",
       " 'p']"
      ]
     },
     "execution_count": 43,
     "metadata": {},
     "output_type": "execute_result"
    }
   ],
   "source": [
    "D9.copy()"
   ]
  },
  {
   "cell_type": "code",
   "execution_count": 52,
   "id": "4776b3d0",
   "metadata": {},
   "outputs": [
    {
     "name": "stdout",
     "output_type": "stream",
     "text": [
      "15\n"
     ]
    }
   ],
   "source": [
    "print(D9.index('p'))"
   ]
  },
  {
   "cell_type": "code",
   "execution_count": 53,
   "id": "c80467be",
   "metadata": {},
   "outputs": [
    {
     "name": "stdout",
     "output_type": "stream",
     "text": [
      "['q', 'r', 's', 't', 'u', 'v', 'w', 'x', 'y', 'z', ['a', 'b', 'c', 'd', 'e', 'f', 'g', 'h', 'i', 'j', 'k', 'l', 'm', 'n', 'o', 'p', 'q', 'r', 's', 't', 'u', 'v', 'w', 'x', 'y', 'z', [...]]]\n"
     ]
    }
   ],
   "source": [
    "D9.extend(d9)\n",
    "print(d9)"
   ]
  },
  {
   "cell_type": "code",
   "execution_count": 54,
   "id": "6d76fdf1",
   "metadata": {},
   "outputs": [
    {
     "name": "stdout",
     "output_type": "stream",
     "text": [
      "[]\n"
     ]
    }
   ],
   "source": [
    "d9.clear()\n",
    "print(d9)"
   ]
  },
  {
   "cell_type": "code",
   "execution_count": 71,
   "id": "92f9a9e6",
   "metadata": {},
   "outputs": [],
   "source": [
    "pa1=[1,2,3,[4,5,[6,7,8]]]"
   ]
  },
  {
   "cell_type": "code",
   "execution_count": 57,
   "id": "7a84e794",
   "metadata": {},
   "outputs": [
    {
     "name": "stdout",
     "output_type": "stream",
     "text": [
      "3\n"
     ]
    }
   ],
   "source": [
    "print(pa1[2])"
   ]
  },
  {
   "cell_type": "code",
   "execution_count": 58,
   "id": "1c031178",
   "metadata": {},
   "outputs": [
    {
     "name": "stdout",
     "output_type": "stream",
     "text": [
      "5\n"
     ]
    }
   ],
   "source": [
    "print(pa1[3][1])"
   ]
  },
  {
   "cell_type": "code",
   "execution_count": 59,
   "id": "653595b5",
   "metadata": {},
   "outputs": [
    {
     "name": "stdout",
     "output_type": "stream",
     "text": [
      "[4, 5, [6, 7, 8]]\n"
     ]
    }
   ],
   "source": [
    "print(pa1[3])"
   ]
  },
  {
   "cell_type": "code",
   "execution_count": 60,
   "id": "9cab7be2",
   "metadata": {},
   "outputs": [
    {
     "name": "stdout",
     "output_type": "stream",
     "text": [
      "[6, 7, 8]\n"
     ]
    }
   ],
   "source": [
    "print(pa1[3][2])"
   ]
  },
  {
   "cell_type": "code",
   "execution_count": 61,
   "id": "adc00d1f",
   "metadata": {},
   "outputs": [
    {
     "name": "stdout",
     "output_type": "stream",
     "text": [
      "7\n"
     ]
    }
   ],
   "source": [
    "print(pa1[3][2][1])"
   ]
  },
  {
   "cell_type": "code",
   "execution_count": 62,
   "id": "2165595b",
   "metadata": {},
   "outputs": [
    {
     "name": "stdout",
     "output_type": "stream",
     "text": [
      "[1, 2, 3, [4, 5, [6, 7, 8]]]\n"
     ]
    }
   ],
   "source": [
    "print(pa1[:4])"
   ]
  },
  {
   "cell_type": "code",
   "execution_count": 63,
   "id": "110c4722",
   "metadata": {},
   "outputs": [
    {
     "name": "stdout",
     "output_type": "stream",
     "text": [
      "[1, 2, 3]\n"
     ]
    }
   ],
   "source": [
    "print(pa1[0:3])"
   ]
  },
  {
   "cell_type": "code",
   "execution_count": 72,
   "id": "f4749b2f",
   "metadata": {},
   "outputs": [
    {
     "name": "stdout",
     "output_type": "stream",
     "text": [
      "[1, 2, 3, [4, 5, [6, 7, 8]], 9]\n"
     ]
    }
   ],
   "source": [
    "pa1.insert(4,9)\n",
    "print(pa1)"
   ]
  },
  {
   "cell_type": "code",
   "execution_count": 73,
   "id": "f980e13c",
   "metadata": {},
   "outputs": [
    {
     "name": "stdout",
     "output_type": "stream",
     "text": [
      "[2, 3, [4, 5, [6, 7, 8]], 9]\n"
     ]
    }
   ],
   "source": [
    "pa1.remove(1)\n",
    "print(pa1)"
   ]
  },
  {
   "cell_type": "code",
   "execution_count": 74,
   "id": "ca165814",
   "metadata": {},
   "outputs": [
    {
     "name": "stdout",
     "output_type": "stream",
     "text": [
      "[9, [4, 5, [6, 7, 8]], 3, 2]\n"
     ]
    }
   ],
   "source": [
    "pa1.reverse()\n",
    "print(pa1)"
   ]
  },
  {
   "cell_type": "code",
   "execution_count": 76,
   "id": "d37ea61b",
   "metadata": {},
   "outputs": [],
   "source": [
    "pa2=[10,11,12,13,14,15]"
   ]
  },
  {
   "cell_type": "code",
   "execution_count": 77,
   "id": "93f03438",
   "metadata": {},
   "outputs": [
    {
     "name": "stdout",
     "output_type": "stream",
     "text": [
      "9\n",
      "[4, 5, [6, 7, 8]]\n",
      "3\n",
      "2\n"
     ]
    }
   ],
   "source": [
    "for i in pa1:\n",
    "    print(i)"
   ]
  },
  {
   "cell_type": "code",
   "execution_count": 83,
   "id": "881a59c7",
   "metadata": {},
   "outputs": [
    {
     "name": "stdout",
     "output_type": "stream",
     "text": [
      "10   20\n",
      "11   22\n",
      "12   24\n",
      "13   26\n",
      "14   28\n",
      "15   30\n"
     ]
    }
   ],
   "source": [
    "for j in pa2:\n",
    "    print(j,\" \",j*2)"
   ]
  },
  {
   "cell_type": "code",
   "execution_count": 84,
   "id": "eb9dcb3b",
   "metadata": {},
   "outputs": [
    {
     "name": "stdout",
     "output_type": "stream",
     "text": [
      "[9, [4, 5, [6, 7, 8]], 3, 2, 10, 11, 12, 13, 14, 15]\n"
     ]
    }
   ],
   "source": [
    "print(pa1+pa2)"
   ]
  },
  {
   "cell_type": "code",
   "execution_count": 87,
   "id": "e8d5c395",
   "metadata": {},
   "outputs": [
    {
     "name": "stdout",
     "output_type": "stream",
     "text": [
      "10   8\n",
      "11   9\n",
      "12   10\n",
      "13   11\n",
      "14   12\n",
      "15   13\n"
     ]
    }
   ],
   "source": [
    "for k in pa2:\n",
    "    print(k,\" \",k-2)"
   ]
  },
  {
   "cell_type": "code",
   "execution_count": 90,
   "id": "58016e27",
   "metadata": {},
   "outputs": [],
   "source": [
    "m=['a', 'b', 'c', 'd', 'e', 'f', 'g', 'h', 'i', 'j', 'k', 'l', 'm', 'n', 'o', 'p', 'q', 'r', 's', 't', 'u', 'v', 'w', 'x', 'y', 'z']"
   ]
  },
  {
   "cell_type": "code",
   "execution_count": 91,
   "id": "2df6f092",
   "metadata": {},
   "outputs": [
    {
     "name": "stdout",
     "output_type": "stream",
     "text": [
      "['a', 'b', 'c', 'd', 'e', 'f', 'g', 'h', 'i', 'j', 'k', 'l', 'm', 'n', 'o', 'p', 'q', 'r', 's', 't', 'u', 'v', 'w', 'x', 'y', 'z']\n"
     ]
    }
   ],
   "source": [
    "print(m)"
   ]
  },
  {
   "cell_type": "code",
   "execution_count": 94,
   "id": "56ffc895",
   "metadata": {},
   "outputs": [
    {
     "name": "stdout",
     "output_type": "stream",
     "text": [
      "a   aa   aaa   aaaa   aaaaa   aaaaaa\n",
      "b   bb   bbb   bbbb   bbbbb   bbbbbb\n",
      "c   cc   ccc   cccc   ccccc   cccccc\n",
      "d   dd   ddd   dddd   ddddd   dddddd\n",
      "e   ee   eee   eeee   eeeee   eeeeee\n",
      "f   ff   fff   ffff   fffff   ffffff\n",
      "g   gg   ggg   gggg   ggggg   gggggg\n",
      "h   hh   hhh   hhhh   hhhhh   hhhhhh\n",
      "i   ii   iii   iiii   iiiii   iiiiii\n",
      "j   jj   jjj   jjjj   jjjjj   jjjjjj\n",
      "k   kk   kkk   kkkk   kkkkk   kkkkkk\n",
      "l   ll   lll   llll   lllll   llllll\n",
      "m   mm   mmm   mmmm   mmmmm   mmmmmm\n",
      "n   nn   nnn   nnnn   nnnnn   nnnnnn\n",
      "o   oo   ooo   oooo   ooooo   oooooo\n",
      "p   pp   ppp   pppp   ppppp   pppppp\n",
      "q   qq   qqq   qqqq   qqqqq   qqqqqq\n",
      "r   rr   rrr   rrrr   rrrrr   rrrrrr\n",
      "s   ss   sss   ssss   sssss   ssssss\n",
      "t   tt   ttt   tttt   ttttt   tttttt\n",
      "u   uu   uuu   uuuu   uuuuu   uuuuuu\n",
      "v   vv   vvv   vvvv   vvvvv   vvvvvv\n",
      "w   ww   www   wwww   wwwww   wwwwww\n",
      "x   xx   xxx   xxxx   xxxxx   xxxxxx\n",
      "y   yy   yyy   yyyy   yyyyy   yyyyyy\n",
      "z   zz   zzz   zzzz   zzzzz   zzzzzz\n"
     ]
    }
   ],
   "source": [
    "for k in m:\n",
    "    print(k,\" \",k*2,\" \",k*3,\" \",k*4,\" \",k*5,\" \",k*6)"
   ]
  },
  {
   "cell_type": "code",
   "execution_count": 95,
   "id": "5a7e60d3",
   "metadata": {},
   "outputs": [
    {
     "name": "stdout",
     "output_type": "stream",
     "text": [
      "26\n"
     ]
    }
   ],
   "source": [
    "print(len(m))"
   ]
  },
  {
   "cell_type": "code",
   "execution_count": 96,
   "id": "557985b7",
   "metadata": {},
   "outputs": [
    {
     "data": {
      "text/plain": [
       "'a'"
      ]
     },
     "execution_count": 96,
     "metadata": {},
     "output_type": "execute_result"
    }
   ],
   "source": [
    "min(m)"
   ]
  },
  {
   "cell_type": "code",
   "execution_count": 97,
   "id": "d3410f78",
   "metadata": {},
   "outputs": [
    {
     "data": {
      "text/plain": [
       "'z'"
      ]
     },
     "execution_count": 97,
     "metadata": {},
     "output_type": "execute_result"
    }
   ],
   "source": [
    "max(m)"
   ]
  },
  {
   "cell_type": "code",
   "execution_count": 102,
   "id": "1ce37483",
   "metadata": {},
   "outputs": [
    {
     "data": {
      "text/plain": [
       "10"
      ]
     },
     "execution_count": 102,
     "metadata": {},
     "output_type": "execute_result"
    }
   ],
   "source": [
    "min(pa2)"
   ]
  },
  {
   "cell_type": "code",
   "execution_count": 103,
   "id": "5c1d7881",
   "metadata": {},
   "outputs": [
    {
     "data": {
      "text/plain": [
       "15"
      ]
     },
     "execution_count": 103,
     "metadata": {},
     "output_type": "execute_result"
    }
   ],
   "source": [
    "max(pa2)"
   ]
  },
  {
   "cell_type": "code",
   "execution_count": 104,
   "id": "e1a48739",
   "metadata": {},
   "outputs": [
    {
     "data": {
      "text/plain": [
       "4"
      ]
     },
     "execution_count": 104,
     "metadata": {},
     "output_type": "execute_result"
    }
   ],
   "source": [
    "len(pa1)"
   ]
  },
  {
   "cell_type": "code",
   "execution_count": 105,
   "id": "5973f515",
   "metadata": {},
   "outputs": [
    {
     "data": {
      "text/plain": [
       "6"
      ]
     },
     "execution_count": 105,
     "metadata": {},
     "output_type": "execute_result"
    }
   ],
   "source": [
    "len(pa2)"
   ]
  },
  {
   "cell_type": "code",
   "execution_count": 107,
   "id": "d5230906",
   "metadata": {},
   "outputs": [
    {
     "data": {
      "text/plain": [
       "[10, 11, 12, 13, 14, 15]"
      ]
     },
     "execution_count": 107,
     "metadata": {},
     "output_type": "execute_result"
    }
   ],
   "source": [
    "sorted(pa2)"
   ]
  },
  {
   "cell_type": "code",
   "execution_count": 110,
   "id": "8ac307ac",
   "metadata": {},
   "outputs": [
    {
     "data": {
      "text/plain": [
       "['a',\n",
       " 'b',\n",
       " 'c',\n",
       " 'd',\n",
       " 'e',\n",
       " 'f',\n",
       " 'g',\n",
       " 'h',\n",
       " 'i',\n",
       " 'j',\n",
       " 'k',\n",
       " 'l',\n",
       " 'm',\n",
       " 'n',\n",
       " 'o',\n",
       " 'p',\n",
       " 'q',\n",
       " 'r',\n",
       " 's',\n",
       " 't',\n",
       " 'u',\n",
       " 'v',\n",
       " 'w',\n",
       " 'x',\n",
       " 'y',\n",
       " 'z']"
      ]
     },
     "execution_count": 110,
     "metadata": {},
     "output_type": "execute_result"
    }
   ],
   "source": [
    "sorted(m)"
   ]
  },
  {
   "cell_type": "code",
   "execution_count": 111,
   "id": "e2f6b60a",
   "metadata": {},
   "outputs": [],
   "source": [
    "m.reverse()"
   ]
  },
  {
   "cell_type": "code",
   "execution_count": 112,
   "id": "48b5fb96",
   "metadata": {},
   "outputs": [
    {
     "name": "stdout",
     "output_type": "stream",
     "text": [
      "['z', 'y', 'x', 'w', 'v', 'u', 't', 's', 'r', 'q', 'p', 'o', 'n', 'm', 'l', 'k', 'j', 'i', 'h', 'g', 'f', 'e', 'd', 'c', 'b', 'a']\n"
     ]
    }
   ],
   "source": [
    "print(m)"
   ]
  },
  {
   "cell_type": "code",
   "execution_count": 113,
   "id": "4cb21a9c",
   "metadata": {},
   "outputs": [],
   "source": [
    "p=(1,2,3,4,5,6,7,8,9)"
   ]
  },
  {
   "cell_type": "code",
   "execution_count": 118,
   "id": "d9adf43a",
   "metadata": {},
   "outputs": [
    {
     "data": {
      "text/plain": [
       "1"
      ]
     },
     "execution_count": 118,
     "metadata": {},
     "output_type": "execute_result"
    }
   ],
   "source": [
    "p.count(2)"
   ]
  },
  {
   "cell_type": "code",
   "execution_count": 119,
   "id": "f664bd17",
   "metadata": {},
   "outputs": [
    {
     "data": {
      "text/plain": [
       "8"
      ]
     },
     "execution_count": 119,
     "metadata": {},
     "output_type": "execute_result"
    }
   ],
   "source": [
    "p.index(9)"
   ]
  },
  {
   "cell_type": "code",
   "execution_count": 120,
   "id": "f6374a4d",
   "metadata": {},
   "outputs": [],
   "source": [
    "p1=(10,11,12,13,14,15)"
   ]
  },
  {
   "cell_type": "code",
   "execution_count": 121,
   "id": "41634fe5",
   "metadata": {},
   "outputs": [
    {
     "data": {
      "text/plain": [
       "(1, 2, 3, 4, 5, 6, 7, 8, 9, 10, 11, 12, 13, 14, 15)"
      ]
     },
     "execution_count": 121,
     "metadata": {},
     "output_type": "execute_result"
    }
   ],
   "source": [
    "p+p1"
   ]
  },
  {
   "cell_type": "code",
   "execution_count": 122,
   "id": "a583c572",
   "metadata": {},
   "outputs": [],
   "source": [
    "m1=('a', 'b', 'c', 'd', 'e', 'f', 'g', 'h', 'i', 'j', 'k', 'l', 'm', 'n', 'o', 'p', 'q', 'r', 's', 't', 'u', 'v', 'w', 'x', 'y', 'z')"
   ]
  },
  {
   "cell_type": "code",
   "execution_count": 123,
   "id": "fb5da6fe",
   "metadata": {},
   "outputs": [
    {
     "name": "stdout",
     "output_type": "stream",
     "text": [
      "a   aa   aaa   aaaa   aaaaa\n",
      "b   bb   bbb   bbbb   bbbbb\n",
      "c   cc   ccc   cccc   ccccc\n",
      "d   dd   ddd   dddd   ddddd\n",
      "e   ee   eee   eeee   eeeee\n",
      "f   ff   fff   ffff   fffff\n",
      "g   gg   ggg   gggg   ggggg\n",
      "h   hh   hhh   hhhh   hhhhh\n",
      "i   ii   iii   iiii   iiiii\n",
      "j   jj   jjj   jjjj   jjjjj\n",
      "k   kk   kkk   kkkk   kkkkk\n",
      "l   ll   lll   llll   lllll\n",
      "m   mm   mmm   mmmm   mmmmm\n",
      "n   nn   nnn   nnnn   nnnnn\n",
      "o   oo   ooo   oooo   ooooo\n",
      "p   pp   ppp   pppp   ppppp\n",
      "q   qq   qqq   qqqq   qqqqq\n",
      "r   rr   rrr   rrrr   rrrrr\n",
      "s   ss   sss   ssss   sssss\n",
      "t   tt   ttt   tttt   ttttt\n",
      "u   uu   uuu   uuuu   uuuuu\n",
      "v   vv   vvv   vvvv   vvvvv\n",
      "w   ww   www   wwww   wwwww\n",
      "x   xx   xxx   xxxx   xxxxx\n",
      "y   yy   yyy   yyyy   yyyyy\n",
      "z   zz   zzz   zzzz   zzzzz\n"
     ]
    }
   ],
   "source": [
    "for l in m1:\n",
    "    print(l,\" \",l*2,\" \",l*3,\" \",l*4,\" \",l*5)"
   ]
  },
  {
   "cell_type": "code",
   "execution_count": 124,
   "id": "fc94c3e3",
   "metadata": {},
   "outputs": [
    {
     "data": {
      "text/plain": [
       "26"
      ]
     },
     "execution_count": 124,
     "metadata": {},
     "output_type": "execute_result"
    }
   ],
   "source": [
    "len(m1)"
   ]
  },
  {
   "cell_type": "code",
   "execution_count": 125,
   "id": "cafc18e2",
   "metadata": {},
   "outputs": [
    {
     "data": {
      "text/plain": [
       "'a'"
      ]
     },
     "execution_count": 125,
     "metadata": {},
     "output_type": "execute_result"
    }
   ],
   "source": [
    "min(m1)"
   ]
  },
  {
   "cell_type": "code",
   "execution_count": 126,
   "id": "1c713916",
   "metadata": {},
   "outputs": [
    {
     "data": {
      "text/plain": [
       "'z'"
      ]
     },
     "execution_count": 126,
     "metadata": {},
     "output_type": "execute_result"
    }
   ],
   "source": [
    "max(m1)"
   ]
  },
  {
   "cell_type": "code",
   "execution_count": 127,
   "id": "1a209beb",
   "metadata": {},
   "outputs": [
    {
     "data": {
      "text/plain": [
       "6"
      ]
     },
     "execution_count": 127,
     "metadata": {},
     "output_type": "execute_result"
    }
   ],
   "source": [
    "len(p1)"
   ]
  },
  {
   "cell_type": "code",
   "execution_count": 128,
   "id": "ab01ebf0",
   "metadata": {},
   "outputs": [
    {
     "data": {
      "text/plain": [
       "10"
      ]
     },
     "execution_count": 128,
     "metadata": {},
     "output_type": "execute_result"
    }
   ],
   "source": [
    "min(p1)"
   ]
  },
  {
   "cell_type": "code",
   "execution_count": 129,
   "id": "067b4f35",
   "metadata": {},
   "outputs": [
    {
     "data": {
      "text/plain": [
       "15"
      ]
     },
     "execution_count": 129,
     "metadata": {},
     "output_type": "execute_result"
    }
   ],
   "source": [
    "max(p1)"
   ]
  },
  {
   "cell_type": "code",
   "execution_count": 130,
   "id": "b8075baf",
   "metadata": {},
   "outputs": [],
   "source": [
    "p3=(1,2,3,4,[9,8,7])"
   ]
  },
  {
   "cell_type": "code",
   "execution_count": 131,
   "id": "0a4843c5",
   "metadata": {},
   "outputs": [
    {
     "name": "stdout",
     "output_type": "stream",
     "text": [
      "(1, 2, 3, 4, [9, 8, 7])\n"
     ]
    }
   ],
   "source": [
    "print(p3)"
   ]
  },
  {
   "cell_type": "code",
   "execution_count": 132,
   "id": "de5076e9",
   "metadata": {},
   "outputs": [
    {
     "data": {
      "text/plain": [
       "8"
      ]
     },
     "execution_count": 132,
     "metadata": {},
     "output_type": "execute_result"
    }
   ],
   "source": [
    "p3[4][1]"
   ]
  },
  {
   "cell_type": "code",
   "execution_count": 133,
   "id": "1e524108",
   "metadata": {},
   "outputs": [],
   "source": [
    "p3[4][1]=11"
   ]
  },
  {
   "cell_type": "code",
   "execution_count": 135,
   "id": "1e8a1447",
   "metadata": {},
   "outputs": [
    {
     "name": "stdout",
     "output_type": "stream",
     "text": [
      "(1, 2, 3, 4, [9, 11, 7])\n"
     ]
    }
   ],
   "source": [
    "print(p3)#we can change the elements in tupple if there is a list in tupple we can manipulate that list only...."
   ]
  },
  {
   "cell_type": "code",
   "execution_count": 137,
   "id": "4cc68afb",
   "metadata": {},
   "outputs": [
    {
     "data": {
      "text/plain": [
       "(4, [9, 11, 7])"
      ]
     },
     "execution_count": 137,
     "metadata": {},
     "output_type": "execute_result"
    }
   ],
   "source": [
    "p3[3:]"
   ]
  },
  {
   "cell_type": "code",
   "execution_count": 138,
   "id": "43d35d02",
   "metadata": {},
   "outputs": [
    {
     "data": {
      "text/plain": [
       "(1, 2, 3, 4, [9, 11, 7])"
      ]
     },
     "execution_count": 138,
     "metadata": {},
     "output_type": "execute_result"
    }
   ],
   "source": [
    "p3[:5]"
   ]
  },
  {
   "cell_type": "code",
   "execution_count": 189,
   "id": "e1b1b448",
   "metadata": {},
   "outputs": [],
   "source": [
    "d1={1:[1, 2, 3, 4, 5, 6, 7, 8],2:\"pavan\",3:\"kumar\"}"
   ]
  },
  {
   "cell_type": "code",
   "execution_count": 190,
   "id": "efcb6114",
   "metadata": {},
   "outputs": [
    {
     "name": "stdout",
     "output_type": "stream",
     "text": [
      "[1, 2, 3, 4, 5, 6, 7, 8]\n"
     ]
    }
   ],
   "source": [
    "print(d1[1])"
   ]
  },
  {
   "cell_type": "code",
   "execution_count": 191,
   "id": "aae71517",
   "metadata": {},
   "outputs": [
    {
     "name": "stdout",
     "output_type": "stream",
     "text": [
      "5\n"
     ]
    }
   ],
   "source": [
    "print(d1[1][4])"
   ]
  },
  {
   "cell_type": "code",
   "execution_count": 192,
   "id": "ca11c9fb",
   "metadata": {},
   "outputs": [
    {
     "data": {
      "text/plain": [
       "'pavan'"
      ]
     },
     "execution_count": 192,
     "metadata": {},
     "output_type": "execute_result"
    }
   ],
   "source": [
    "d1[2]"
   ]
  },
  {
   "cell_type": "code",
   "execution_count": 193,
   "id": "167de9cb",
   "metadata": {},
   "outputs": [
    {
     "data": {
      "text/plain": [
       "'kumar'"
      ]
     },
     "execution_count": 193,
     "metadata": {},
     "output_type": "execute_result"
    }
   ],
   "source": [
    "d1[3]"
   ]
  },
  {
   "cell_type": "code",
   "execution_count": 194,
   "id": "fa1d5e72",
   "metadata": {},
   "outputs": [
    {
     "name": "stdout",
     "output_type": "stream",
     "text": [
      "1   2\n",
      "2   4\n",
      "3   6\n",
      "4   8\n",
      "5   10\n",
      "6   12\n",
      "7   14\n",
      "8   16\n"
     ]
    }
   ],
   "source": [
    "for i in d1[1]:\n",
    "    print(i,\" \",i*2)"
   ]
  },
  {
   "cell_type": "code",
   "execution_count": 195,
   "id": "e829d7be",
   "metadata": {},
   "outputs": [
    {
     "name": "stdout",
     "output_type": "stream",
     "text": [
      "[1, 2, 3, 4, 5, 6, 7, 8]\n",
      "pavan\n",
      "kumar\n"
     ]
    }
   ],
   "source": [
    "for i in d1:\n",
    "    print(d1[i])"
   ]
  },
  {
   "cell_type": "code",
   "execution_count": 196,
   "id": "a520e857",
   "metadata": {},
   "outputs": [],
   "source": [
    "d1[2]=\"SMEC\""
   ]
  },
  {
   "cell_type": "code",
   "execution_count": 197,
   "id": "2bbfeae2",
   "metadata": {},
   "outputs": [
    {
     "name": "stdout",
     "output_type": "stream",
     "text": [
      "[1, 2, 3, 4, 5, 6, 7, 8]\n",
      "SMEC\n",
      "kumar\n"
     ]
    }
   ],
   "source": [
    "for i in d1:\n",
    "    print(d1[i])"
   ]
  },
  {
   "cell_type": "code",
   "execution_count": 198,
   "id": "0df78df8",
   "metadata": {},
   "outputs": [
    {
     "data": {
      "text/plain": [
       "[1, 2, 3, 4, 5, 6, 7, 8]"
      ]
     },
     "execution_count": 198,
     "metadata": {},
     "output_type": "execute_result"
    }
   ],
   "source": [
    "d1.get(1)"
   ]
  },
  {
   "cell_type": "code",
   "execution_count": 199,
   "id": "a89545fc",
   "metadata": {},
   "outputs": [
    {
     "data": {
      "text/plain": [
       "dict_values([[1, 2, 3, 4, 5, 6, 7, 8], 'SMEC', 'kumar'])"
      ]
     },
     "execution_count": 199,
     "metadata": {},
     "output_type": "execute_result"
    }
   ],
   "source": [
    "d1.values()"
   ]
  },
  {
   "cell_type": "code",
   "execution_count": 200,
   "id": "1182ff79",
   "metadata": {},
   "outputs": [
    {
     "data": {
      "text/plain": [
       "dict_keys([1, 2, 3])"
      ]
     },
     "execution_count": 200,
     "metadata": {},
     "output_type": "execute_result"
    }
   ],
   "source": [
    "d1.keys()"
   ]
  },
  {
   "cell_type": "code",
   "execution_count": 201,
   "id": "a697b9fd",
   "metadata": {},
   "outputs": [
    {
     "data": {
      "text/plain": [
       "dict_items([(1, [1, 2, 3, 4, 5, 6, 7, 8]), (2, 'SMEC'), (3, 'kumar')])"
      ]
     },
     "execution_count": 201,
     "metadata": {},
     "output_type": "execute_result"
    }
   ],
   "source": [
    "d1.items()"
   ]
  },
  {
   "cell_type": "code",
   "execution_count": 202,
   "id": "59e210f8",
   "metadata": {},
   "outputs": [
    {
     "data": {
      "text/plain": [
       "(3, 'kumar')"
      ]
     },
     "execution_count": 202,
     "metadata": {},
     "output_type": "execute_result"
    }
   ],
   "source": [
    "d1.popitem()"
   ]
  },
  {
   "cell_type": "code",
   "execution_count": 203,
   "id": "3ac3e6c6",
   "metadata": {},
   "outputs": [
    {
     "name": "stdout",
     "output_type": "stream",
     "text": [
      "{1: [1, 2, 3, 4, 5, 6, 7, 8], 2: 'SMEC'}\n"
     ]
    }
   ],
   "source": [
    "print(d1)"
   ]
  },
  {
   "cell_type": "code",
   "execution_count": 204,
   "id": "9c915c0d",
   "metadata": {},
   "outputs": [],
   "source": [
    "d1[4]=\"Pavan kumar\""
   ]
  },
  {
   "cell_type": "code",
   "execution_count": 205,
   "id": "4d61eafe",
   "metadata": {},
   "outputs": [
    {
     "name": "stdout",
     "output_type": "stream",
     "text": [
      "{1: [1, 2, 3, 4, 5, 6, 7, 8], 2: 'SMEC', 4: 'Pavan kumar'}\n"
     ]
    }
   ],
   "source": [
    "print(d1)"
   ]
  },
  {
   "cell_type": "code",
   "execution_count": 206,
   "id": "8d49a7e4",
   "metadata": {},
   "outputs": [],
   "source": [
    "d1[2]=d1[4]"
   ]
  },
  {
   "cell_type": "code",
   "execution_count": 207,
   "id": "5c6996a3",
   "metadata": {},
   "outputs": [
    {
     "data": {
      "text/plain": [
       "dict_values([[1, 2, 3, 4, 5, 6, 7, 8], 'Pavan kumar', 'Pavan kumar'])"
      ]
     },
     "execution_count": 207,
     "metadata": {},
     "output_type": "execute_result"
    }
   ],
   "source": [
    "d1.values()"
   ]
  },
  {
   "cell_type": "code",
   "execution_count": 228,
   "id": "27e8a519",
   "metadata": {},
   "outputs": [
    {
     "data": {
      "text/plain": [
       "[1, 2, 3, 4, 5, 6, 7, 8]"
      ]
     },
     "execution_count": 228,
     "metadata": {},
     "output_type": "execute_result"
    }
   ],
   "source": [
    "d1.get(1)"
   ]
  },
  {
   "cell_type": "code",
   "execution_count": 216,
   "id": "1dab54f3",
   "metadata": {},
   "outputs": [],
   "source": [
    "d2={\n",
    "    'pa1': {'age':22,'roll no':296,'grade':'o'},\n",
    "    'ge1': {'age':18,'roll no':335,'grade':'b'},\n",
    "    'va1': {'age':20,'roll no':301,'grade':'c'}\n",
    "}"
   ]
  },
  {
   "cell_type": "code",
   "execution_count": 217,
   "id": "ed3bcb90",
   "metadata": {},
   "outputs": [
    {
     "data": {
      "text/plain": [
       "22"
      ]
     },
     "execution_count": 217,
     "metadata": {},
     "output_type": "execute_result"
    }
   ],
   "source": [
    "d2['pa1']['age']"
   ]
  },
  {
   "cell_type": "code",
   "execution_count": 219,
   "id": "dcae7ba3",
   "metadata": {},
   "outputs": [
    {
     "data": {
      "text/plain": [
       "335"
      ]
     },
     "execution_count": 219,
     "metadata": {},
     "output_type": "execute_result"
    }
   ],
   "source": [
    "d2['ge1']['roll no']"
   ]
  },
  {
   "cell_type": "code",
   "execution_count": 230,
   "id": "6c786536",
   "metadata": {},
   "outputs": [],
   "source": [
    "d1.update(d2)"
   ]
  },
  {
   "cell_type": "code",
   "execution_count": 231,
   "id": "ea67290f",
   "metadata": {},
   "outputs": [
    {
     "name": "stdout",
     "output_type": "stream",
     "text": [
      "{1: [1, 2, 3, 4, 5, 6, 7, 8], 2: 'Pavan kumar', 4: 'Pavan kumar', 'pa1': {'age': 22, 'roll no': 296, 'grade': 'o'}, 'ge1': {'age': 18, 'roll no': 335, 'grade': 'b'}, 'va1': {'age': 20, 'roll no': 301, 'grade': 'c'}}\n"
     ]
    }
   ],
   "source": [
    "print(d1)"
   ]
  },
  {
   "cell_type": "code",
   "execution_count": 232,
   "id": "0d6dd770",
   "metadata": {},
   "outputs": [],
   "source": [
    "d1.clear()"
   ]
  },
  {
   "cell_type": "code",
   "execution_count": 233,
   "id": "156303f7",
   "metadata": {},
   "outputs": [
    {
     "name": "stdout",
     "output_type": "stream",
     "text": [
      "{}\n"
     ]
    }
   ],
   "source": [
    "print(d1)"
   ]
  },
  {
   "cell_type": "code",
   "execution_count": 255,
   "id": "6bcfabd1",
   "metadata": {},
   "outputs": [
    {
     "name": "stdout",
     "output_type": "stream",
     "text": [
      "=> pa1\n",
      "age  :  22\n",
      "roll no  :  296\n",
      "grade  :  o\n",
      "=> ge1\n",
      "age  :  18\n",
      "roll no  :  335\n",
      "grade  :  b\n",
      "=> va1\n",
      "age  :  20\n",
      "roll no  :  301\n",
      "grade  :  c\n"
     ]
    }
   ],
   "source": [
    "for k,i in d2.items():\n",
    "    print(\"=>\",k)\n",
    "    for key,j in i.items():\n",
    "        print(key,\" : \",j)"
   ]
  },
  {
   "cell_type": "code",
   "execution_count": 257,
   "id": "1233d8ec",
   "metadata": {},
   "outputs": [],
   "source": [
    "s1={1,2,'pavan',3,2,1,4,2,1}"
   ]
  },
  {
   "cell_type": "code",
   "execution_count": 258,
   "id": "d1d4ac23",
   "metadata": {},
   "outputs": [
    {
     "name": "stdout",
     "output_type": "stream",
     "text": [
      "{1, 2, 3, 4, 'pavan'}\n"
     ]
    }
   ],
   "source": [
    "print(s1)"
   ]
  },
  {
   "cell_type": "code",
   "execution_count": 259,
   "id": "b6006955",
   "metadata": {},
   "outputs": [
    {
     "data": {
      "text/plain": [
       "1"
      ]
     },
     "execution_count": 259,
     "metadata": {},
     "output_type": "execute_result"
    }
   ],
   "source": [
    "s1.pop()"
   ]
  },
  {
   "cell_type": "code",
   "execution_count": 260,
   "id": "cdc70775",
   "metadata": {},
   "outputs": [],
   "source": [
    "s1.add(1)"
   ]
  },
  {
   "cell_type": "code",
   "execution_count": 262,
   "id": "6acb6ef0",
   "metadata": {},
   "outputs": [],
   "source": [
    "s1.discard(3)"
   ]
  },
  {
   "cell_type": "code",
   "execution_count": 263,
   "id": "6decfd51",
   "metadata": {},
   "outputs": [
    {
     "name": "stdout",
     "output_type": "stream",
     "text": [
      "{1, 2, 4, 'pavan'}\n"
     ]
    }
   ],
   "source": [
    "print(s1)"
   ]
  },
  {
   "cell_type": "code",
   "execution_count": 268,
   "id": "1c62b23b",
   "metadata": {},
   "outputs": [],
   "source": [
    "s2={3,9,(2,3,4,5)}"
   ]
  },
  {
   "cell_type": "code",
   "execution_count": 269,
   "id": "14deba9c",
   "metadata": {},
   "outputs": [
    {
     "name": "stdout",
     "output_type": "stream",
     "text": [
      "{9, 3, (2, 3, 4, 5)}\n"
     ]
    }
   ],
   "source": [
    "print(s2)"
   ]
  },
  {
   "cell_type": "code",
   "execution_count": 283,
   "id": "63500a33",
   "metadata": {},
   "outputs": [],
   "source": [
    "s2={9,3,(2,3,4,5),(2,3,4,5)}"
   ]
  },
  {
   "cell_type": "code",
   "execution_count": 272,
   "id": "5dcaeb32",
   "metadata": {},
   "outputs": [
    {
     "name": "stdout",
     "output_type": "stream",
     "text": [
      "{9, 3, (2, 3, 4, 5)}\n"
     ]
    }
   ],
   "source": [
    "print(s2)"
   ]
  },
  {
   "cell_type": "code",
   "execution_count": 273,
   "id": "5ed70aa0",
   "metadata": {},
   "outputs": [
    {
     "data": {
      "text/plain": [
       "{(2, 3, 4, 5), 3, 9}"
      ]
     },
     "execution_count": 273,
     "metadata": {},
     "output_type": "execute_result"
    }
   ],
   "source": [
    "s2.difference(s1)"
   ]
  },
  {
   "cell_type": "code",
   "execution_count": 278,
   "id": "37452ecc",
   "metadata": {},
   "outputs": [
    {
     "data": {
      "text/plain": [
       "{1, 2, 4, 'pavan'}"
      ]
     },
     "execution_count": 278,
     "metadata": {},
     "output_type": "execute_result"
    }
   ],
   "source": [
    "s1.copy()"
   ]
  },
  {
   "cell_type": "code",
   "execution_count": 281,
   "id": "188d2690",
   "metadata": {},
   "outputs": [],
   "source": [
    "s3={(2,3,4,5)}"
   ]
  },
  {
   "cell_type": "code",
   "execution_count": 284,
   "id": "7129a34f",
   "metadata": {},
   "outputs": [
    {
     "data": {
      "text/plain": [
       "True"
      ]
     },
     "execution_count": 284,
     "metadata": {},
     "output_type": "execute_result"
    }
   ],
   "source": [
    "s3.issubset(s2)"
   ]
  },
  {
   "cell_type": "code",
   "execution_count": 274,
   "id": "83117a55",
   "metadata": {},
   "outputs": [],
   "source": [
    "s2.clear()"
   ]
  },
  {
   "cell_type": "code",
   "execution_count": 275,
   "id": "6a7c60b5",
   "metadata": {},
   "outputs": [
    {
     "name": "stdout",
     "output_type": "stream",
     "text": [
      "set()\n"
     ]
    }
   ],
   "source": [
    "print(s2)"
   ]
  }
 ],
 "metadata": {
  "kernelspec": {
   "display_name": "Python 3 (ipykernel)",
   "language": "python",
   "name": "python3"
  },
  "language_info": {
   "codemirror_mode": {
    "name": "ipython",
    "version": 3
   },
   "file_extension": ".py",
   "mimetype": "text/x-python",
   "name": "python",
   "nbconvert_exporter": "python",
   "pygments_lexer": "ipython3",
   "version": "3.10.9"
  }
 },
 "nbformat": 4,
 "nbformat_minor": 5
}
