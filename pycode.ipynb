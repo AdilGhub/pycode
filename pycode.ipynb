{
  "nbformat": 4,
  "nbformat_minor": 0,
  "metadata": {
    "colab": {
      "provenance": [],
      "include_colab_link": true
    },
    "kernelspec": {
      "name": "python3",
      "display_name": "Python 3"
    },
    "language_info": {
      "name": "python"
    }
  },
  "cells": [
    {
      "cell_type": "markdown",
      "metadata": {
        "id": "view-in-github",
        "colab_type": "text"
      },
      "source": [
        "<a href=\"https://colab.research.google.com/github/AdilGhub/pycode/blob/main/pycode.ipynb\" target=\"_parent\"><img src=\"https://colab.research.google.com/assets/colab-badge.svg\" alt=\"Open In Colab\"/></a>"
      ]
    },
    {
      "cell_type": "code",
      "execution_count": null,
      "metadata": {
        "id": "qiwKKyGEtFPQ",
        "colab": {
          "base_uri": "https://localhost:8080/"
        },
        "outputId": "c6019bd0-6ce1-4149-cfea-a8d052ba61ce"
      },
      "outputs": [
        {
          "output_type": "stream",
          "name": "stdout",
          "text": [
            "Adil Enter principle Amount1000\n",
            "Adil Enter the rate of Interest10\n",
            "Adil Enter Time period in years1\n",
            "Compound Amount : 1100.0\n",
            "100.0\n"
          ]
        }
      ],
      "source": [
        "\n",
        "#compound Interest\n",
        "import math\n",
        "pj1=float(input(\"Adil Enter principle Amount\"))\n",
        "rj1=float(input(\"Adil Enter the rate of Interest\"))\n",
        "tj1=float(input(\"Adil Enter Time period in years\"))\n",
        "amt=pj1*(math.pow((1+(rj1/100)),tj1))\n",
        "print (\"Compound Amount :\",amt)\n",
        "CI=amt-pj1\n",
        "print(CI)"
      ]
    },
    {
      "cell_type": "code",
      "source": [
        "#Distance between two points\n",
        "j1=int(input(\"Adil Enter j1:\"))\n",
        "j2=int(input(\"Adil Enter j2:\"))\n",
        "i1=int(input(\"Adil Enter i1:\"))\n",
        "i2=int(input(\"Adil Enter i2:\"))\n",
        "result=((((j2-j1)**2)+((i2-i1)**2))**0.5)\n",
        "print(\"Distance between \",(j1,j2),\"and\",(i1,i2),\"is:\", result)"
      ],
      "metadata": {
        "colab": {
          "base_uri": "https://localhost:8080/"
        },
        "id": "aQQmFX4nvrCr",
        "outputId": "e377e658-dca5-4876-ef09-793f0f4e45e0"
      },
      "execution_count": null,
      "outputs": [
        {
          "output_type": "stream",
          "name": "stdout",
          "text": [
            "Adil Enter j1:5\n",
            "Adil Enter j2:7\n",
            "Adil Enter i1:2\n",
            "Adil Enter i2:9\n",
            "Distance between  (5, 7) and (2, 9) is: 7.280109889280518\n"
          ]
        }
      ]
    },
    {
      "cell_type": "code",
      "source": [
        "#format\n",
        "name,age=\"Adil\",19\n",
        "address=\"wanaparthy, Telangana,India\"\n",
        "print (\"Name:{}\\nAge:{}\\naddress:{}\".format (name,age, address))"
      ],
      "metadata": {
        "colab": {
          "base_uri": "https://localhost:8080/"
        },
        "id": "VMo1_oTiZSTQ",
        "outputId": "a379d85c-3575-4e97-f07b-105958486ff5"
      },
      "execution_count": null,
      "outputs": [
        {
          "output_type": "stream",
          "name": "stdout",
          "text": [
            "Name:Adil\n",
            "Age:19\n",
            "address:wanaparthy, Telangana,India\n"
          ]
        }
      ]
    },
    {
      "cell_type": "code",
      "source": [
        "#pattern\n",
        "bj1=5\n",
        "for i in range(1,6):\n",
        "  for J1 in range(i):\n",
        "    print (bj1,end=\"\")\n",
        "  bj1-=1\n",
        "  print(\"\")"
      ],
      "metadata": {
        "colab": {
          "base_uri": "https://localhost:8080/"
        },
        "id": "Q6ESInoEaJwh",
        "outputId": "9468b61d-9f7f-4bb7-e75b-3d7ce391055d"
      },
      "execution_count": null,
      "outputs": [
        {
          "output_type": "stream",
          "name": "stdout",
          "text": [
            "5\n",
            "44\n",
            "333\n",
            "2222\n",
            "11111\n"
          ]
        }
      ]
    },
    {
      "cell_type": "code",
      "source": [
        "#character\n",
        "cj1=input(\"Adil Enter the character: \")\n",
        "if cj1>='0' and cj1<='9':\n",
        " print(\"Digit\")\n",
        "elif cj1.isupper():\n",
        " print(\"Upper case characters\")\n",
        "elif cj1.islower():\n",
        " print (\"Lower case characters\")\n",
        "else:\n",
        " print(\"special characters\")"
      ],
      "metadata": {
        "colab": {
          "base_uri": "https://localhost:8080/"
        },
        "id": "bW9605ruawNm",
        "outputId": "aa24386a-af9a-4c30-d929-b9abba4af2b6"
      },
      "execution_count": null,
      "outputs": [
        {
          "output_type": "stream",
          "name": "stdout",
          "text": [
            "Adil Enter the character: 3\n",
            "Digit\n"
          ]
        }
      ]
    },
    {
      "cell_type": "code",
      "source": [
        "nj1=int(input(\"Adil how many bo of elements\"))\n",
        "aj1=0\n",
        "bj1=1\n",
        "print (aj1,bj1,end=\"\")\n",
        "i=2\n",
        "while (i<nj1):\n",
        "  sum=aj1+bj1\n",
        "  print (sum,end=\"\")\n",
        "  aj1=bj1\n",
        "  bj1=sum\n",
        "  i+=1"
      ],
      "metadata": {
        "id": "xE95uR6abxIK",
        "colab": {
          "base_uri": "https://localhost:8080/"
        },
        "outputId": "ca212d93-4a54-4a9c-a94b-831d104fce90"
      },
      "execution_count": null,
      "outputs": [
        {
          "output_type": "stream",
          "name": "stdout",
          "text": [
            "Adil how many bo of elements7\n",
            "0 112358"
          ]
        }
      ]
    },
    {
      "cell_type": "code",
      "source": [
        "\n",
        "#prime number\n",
        "lj1=1\n",
        "uj1=10\n",
        "print(\"Adil The Prime number between\",lj1,\"and\",uj1,\"are:\")\n",
        "for num in range(lj1,uj1+1):\n",
        "  if num>1:\n",
        "    for i in range(2,num):\n",
        "      if (num%i)==0:\n",
        "        break\n",
        "    else :\n",
        "      print(num)"
      ],
      "metadata": {
        "colab": {
          "base_uri": "https://localhost:8080/"
        },
        "id": "jmMKtleTfa9t",
        "outputId": "a2d1bc7a-9931-4d01-9f72-8303e103aa6e"
      },
      "execution_count": null,
      "outputs": [
        {
          "output_type": "stream",
          "name": "stdout",
          "text": [
            "Adil The Prime number between 1 and 10 are:\n",
            "2\n",
            "3\n",
            "5\n",
            "7\n"
          ]
        }
      ]
    },
    {
      "cell_type": "code",
      "source": [
        "#list,tuple to array\n",
        "import numpy as j1\n",
        "my_list_j1=[1,2,3,4,5,6,7,8,9]\n",
        "print(\"Adil list to array is:\")\n",
        "print(j1.asarray(my_list_j1))\n",
        "my_tuple_j1=([8,5,6],[4,6,4])\n",
        "print(\"Adil tuple to array is:\")\n",
        "print(j1.asarray(my_tuple_j1))"
      ],
      "metadata": {
        "colab": {
          "base_uri": "https://localhost:8080/"
        },
        "id": "jY_fl5I2gUO7",
        "outputId": "2932138f-4f62-4410-a166-e6a1f98d5c60"
      },
      "execution_count": null,
      "outputs": [
        {
          "output_type": "stream",
          "name": "stdout",
          "text": [
            "Adil list to array is:\n",
            "[1 2 3 4 5 6 7 8 9]\n",
            "Adil tuple to array is:\n",
            "[[8 5 6]\n",
            " [4 6 4]]\n"
          ]
        }
      ]
    },
    {
      "cell_type": "code",
      "source": [
        "\n",
        "#common values between two arrays\n",
        "import numpy as J1\n",
        "arr_j1=J1.array([0,10,20,40,60])\n",
        "print(\"Adil array-1 is:\",arr_j1)\n",
        "array_j1=[30,40,60]\n",
        "print(\"Adil array-2 is:\",array_j1)\n",
        "print (\"common values between two arrays is:\")\n",
        "print (J1.intersect1d(arr_j1,array_j1))"
      ],
      "metadata": {
        "colab": {
          "base_uri": "https://localhost:8080/"
        },
        "id": "TeXRqHtEhM7Z",
        "outputId": "03ac0331-5820-4f74-da20-8e58e40ed68b"
      },
      "execution_count": null,
      "outputs": [
        {
          "output_type": "stream",
          "name": "stdout",
          "text": [
            "Adil array-1 is: [ 0 10 20 40 60]\n",
            "Adil array-2 is: [30, 40, 60]\n",
            "common values between two arrays is:\n",
            "[40 60]\n"
          ]
        }
      ]
    },
    {
      "cell_type": "code",
      "source": [
        "#Gcd of two numbers using function\n",
        "def gcdj1(num_j1,num_j2):\n",
        "  a=num_j1\n",
        "  b=num_j2\n",
        "  while num_j1!=num_j2:\n",
        "    if num_j1>num_j2:\n",
        "      num_j1-=num_j2\n",
        "    else :\n",
        "      num_j2-=num_j1\n",
        "  return num_j1\n",
        "print(\"Adil The Gcd of \",a,\"and\",b,\"is :\",gcdj1(40,80))"
      ],
      "metadata": {
        "colab": {
          "base_uri": "https://localhost:8080/"
        },
        "id": "ajJk4VqniKx1",
        "outputId": "32ee385c-f273-4749-ded2-a7e64e297270"
      },
      "execution_count": null,
      "outputs": [
        {
          "output_type": "stream",
          "name": "stdout",
          "text": [
            "Adil The Gcd of  0 and 0 is : 40\n"
          ]
        }
      ]
    },
    {
      "cell_type": "code",
      "source": [
        "def p(s):\n",
        "  return s_j1==s_j1[::-1]\n",
        "s_j1=\"case\"\n",
        "ans_j1=p(s_j1)\n",
        "if ans_j1:\n",
        "    print(\"Yes Adil\")\n",
        "else :\n",
        "     print(\"No Adil\")"
      ],
      "metadata": {
        "colab": {
          "base_uri": "https://localhost:8080/"
        },
        "id": "VCIfCXVXlC_7",
        "outputId": "21616a94-840e-4a23-874e-809af61f02a7"
      },
      "execution_count": null,
      "outputs": [
        {
          "output_type": "stream",
          "name": "stdout",
          "text": [
            "No Adil\n"
          ]
        }
      ]
    },
    {
      "cell_type": "code",
      "source": [
        "#sorted list\n",
        "def is_sorted (list_j1):\n",
        "  if sorted (list_j1)==list_j1:\n",
        "    return True\n",
        "  else :\n",
        "    return False\n",
        "print(is_sorted([1,3,2]))\n",
        "print(is_sorted([1,2,1,2]))\n",
        "print(is_sorted([]))\n",
        "print(is_sorted(['b','a']))"
      ],
      "metadata": {
        "colab": {
          "base_uri": "https://localhost:8080/"
        },
        "id": "Gs6eQvcmnnn7",
        "outputId": "78abf511-4fa6-474c-e01a-334a459d7997"
      },
      "execution_count": null,
      "outputs": [
        {
          "output_type": "stream",
          "name": "stdout",
          "text": [
            "False\n",
            "False\n",
            "True\n",
            "False\n"
          ]
        }
      ]
    },
    {
      "cell_type": "code",
      "source": [
        "#Sorting the list\n",
        "test_list_j1=[1,4,6,7,9]\n",
        "print(\"original list :\" +str(test_list_j1))\n",
        "flag=0\n",
        "i=1\n",
        "while i<len(test_list_j1):\n",
        "  if (test_list_j1[i] < test_list_j1[i-1]):\n",
        "    flag=1\n",
        "  i=i+1\n",
        "if (not flag):\n",
        "  print (\"yes Adil the list is sorted \")\n",
        "else :\n",
        "  print (\"No Adil the list is sorted \")"
      ],
      "metadata": {
        "colab": {
          "base_uri": "https://localhost:8080/"
        },
        "id": "fuDsCBvWqVwi",
        "outputId": "922f9613-e19a-43d2-d86b-25728699b358"
      },
      "execution_count": null,
      "outputs": [
        {
          "output_type": "stream",
          "name": "stdout",
          "text": [
            "original list :[1, 4, 6, 7, 9]\n"
          ]
        }
      ]
    }
  ]
}