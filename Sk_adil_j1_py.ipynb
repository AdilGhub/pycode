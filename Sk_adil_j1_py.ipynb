{
  "nbformat": 4,
  "nbformat_minor": 0,
  "metadata": {
    "colab": {
      "provenance": [],
      "authorship_tag": "ABX9TyOJkmqGuAohlJ3cgzuc/xX6",
      "include_colab_link": true
    },
    "kernelspec": {
      "name": "python3",
      "display_name": "Python 3"
    },
    "language_info": {
      "name": "python"
    }
  },
  "cells": [
    {
      "cell_type": "markdown",
      "metadata": {
        "id": "view-in-github",
        "colab_type": "text"
      },
      "source": [
        "<a href=\"https://colab.research.google.com/github/AdilGhub/pycode/blob/main/Sk_adil_j1_py.ipynb\" target=\"_parent\"><img src=\"https://colab.research.google.com/assets/colab-badge.svg\" alt=\"Open In Colab\"/></a>"
      ]
    },
    {
      "cell_type": "code",
      "source": [
        "\n",
        "#palindrome\n",
        "def pal():\n",
        "  i=454\n",
        "  rev=0\n",
        "  temp=i\n",
        "  while i!=0:\n",
        "    rem=i%10\n",
        "    rev=rev*10+rem\n",
        "    i//=10\n",
        "  if temp==rev:\n",
        "     print(\"palindrome\")\n",
        "  else :\n",
        "    print(\" not palindrome\")"
      ],
      "metadata": {
        "id": "fFYtdHLYpeoQ"
      },
      "execution_count": null,
      "outputs": []
    },
    {
      "cell_type": "code",
      "source": [
        "pal()"
      ],
      "metadata": {
        "id": "UNAZPsdKt4Wo",
        "outputId": "3c0f133e-9c37-4151-bded-d18d5f2f85d0",
        "colab": {
          "base_uri": "https://localhost:8080/"
        }
      },
      "execution_count": null,
      "outputs": [
        {
          "output_type": "stream",
          "name": "stdout",
          "text": [
            "palindrome\n"
          ]
        }
      ]
    },
    {
      "cell_type": "code",
      "source": [
        "#palindrome\n",
        "def pal(i):\n",
        " # i=int(input(\"enter the number\"))\n",
        "  rev=0\n",
        "  temp=i\n",
        "  while i!=0:\n",
        "    rem=i%10\n",
        "    rev=rev*10+rem\n",
        "    i//=10\n",
        "  if temp==rev:\n",
        "     print(\"paliandrome\")\n",
        "  else :\n",
        "    print(\" not paliandrome\")"
      ],
      "metadata": {
        "id": "FVwUEe0xp4Ua"
      },
      "execution_count": null,
      "outputs": []
    },
    {
      "cell_type": "code",
      "source": [
        "pal(656)"
      ],
      "metadata": {
        "colab": {
          "base_uri": "https://localhost:8080/"
        },
        "id": "dKanVJnLp_Ki",
        "outputId": "d59f3c14-692b-4bf1-c968-c6a71027758a"
      },
      "execution_count": null,
      "outputs": [
        {
          "output_type": "stream",
          "name": "stdout",
          "text": [
            "paliandrome\n"
          ]
        }
      ]
    },
    {
      "cell_type": "code",
      "source": [
        "#palaindrome\n",
        "def pal(i):\n",
        "  #i=int(input(\"enter the number\"))\n",
        "  rev=0\n",
        "  temp=i\n",
        "  while i!=0:\n",
        "    rem=i%10\n",
        "    rev=rev*10+rem\n",
        "    i//=10\n",
        "  return temp,rev"
      ],
      "metadata": {
        "id": "HPZ1xY8ZrVRi"
      },
      "execution_count": null,
      "outputs": []
    },
    {
      "cell_type": "code",
      "source": [
        "x,y=pal(565)\n",
        "if x==y:\n",
        "     print(\"paliandrome\")\n",
        "else :\n",
        "    print(\" not paliandrome\")"
      ],
      "metadata": {
        "colab": {
          "base_uri": "https://localhost:8080/"
        },
        "id": "bNVOGkmDrdZ8",
        "outputId": "a912d5d7-60fc-4a2f-c4d0-e0acf54f250b"
      },
      "execution_count": null,
      "outputs": [
        {
          "output_type": "stream",
          "name": "stdout",
          "text": [
            "paliandrome\n"
          ]
        }
      ]
    },
    {
      "cell_type": "code",
      "source": [
        "#Factorial\n",
        "def fact():\n",
        " j1=5\n",
        " f=1\n",
        " i=1\n",
        " while i<=j1:\n",
        "   f=f*i\n",
        "   i=i+1\n",
        " print (f)"
      ],
      "metadata": {
        "id": "BoQ8H4s8sM-a"
      },
      "execution_count": null,
      "outputs": []
    },
    {
      "cell_type": "code",
      "source": [
        "fact()"
      ],
      "metadata": {
        "id": "eceiy_hBs2BY",
        "colab": {
          "base_uri": "https://localhost:8080/"
        },
        "outputId": "fa963c51-6099-413f-d75b-320d51657860"
      },
      "execution_count": null,
      "outputs": [
        {
          "output_type": "stream",
          "name": "stdout",
          "text": [
            "120\n"
          ]
        }
      ]
    },
    {
      "cell_type": "code",
      "source": [
        "#Factorial\n",
        "def fact(j1):\n",
        " f=1\n",
        " i=1\n",
        " while i<=j1:\n",
        "   f=f*i\n",
        "   i=i+1\n",
        " print (f)"
      ],
      "metadata": {
        "id": "T1RpryTguBMa"
      },
      "execution_count": null,
      "outputs": []
    },
    {
      "cell_type": "code",
      "source": [
        "fact(4)"
      ],
      "metadata": {
        "colab": {
          "base_uri": "https://localhost:8080/"
        },
        "id": "y4Jgy9EHuEVT",
        "outputId": "8626031c-b87d-4478-be2d-089da42800de"
      },
      "execution_count": null,
      "outputs": [
        {
          "output_type": "stream",
          "name": "stdout",
          "text": [
            "24\n"
          ]
        }
      ]
    },
    {
      "cell_type": "code",
      "source": [
        "#Factorial\n",
        "def fact(j1):\n",
        " f=1\n",
        " i=1\n",
        " while i<=j1:\n",
        "   f=f*i\n",
        "   i=i+1\n",
        " return f"
      ],
      "metadata": {
        "id": "1r99i6C7uQ27"
      },
      "execution_count": null,
      "outputs": []
    },
    {
      "cell_type": "code",
      "source": [
        "fact(6)"
      ],
      "metadata": {
        "id": "3bQsSAZhuVMo",
        "outputId": "be6da8c5-375d-4eeb-8fc4-dab45ebc2e87",
        "colab": {
          "base_uri": "https://localhost:8080/"
        }
      },
      "execution_count": null,
      "outputs": [
        {
          "output_type": "execute_result",
          "data": {
            "text/plain": [
              "720"
            ]
          },
          "metadata": {},
          "execution_count": 14
        }
      ]
    },
    {
      "cell_type": "code",
      "source": [
        "\n",
        "#Armstrong numbers\n",
        "def arm():\n",
        "  i=371\n",
        "  sum=0\n",
        "  temp=i\n",
        "  while i!=0:\n",
        "    rem=i%10\n",
        "    sum=sum+(rem*rem*rem)\n",
        "    i//=10\n",
        "  if temp==sum:\n",
        "     print(\"Armstrong number\")\n",
        "  else :\n",
        "    print(\" not a Armstrong number\")"
      ],
      "metadata": {
        "id": "VchEMCl7vCNY"
      },
      "execution_count": null,
      "outputs": []
    },
    {
      "cell_type": "code",
      "source": [
        "arm()"
      ],
      "metadata": {
        "colab": {
          "base_uri": "https://localhost:8080/"
        },
        "id": "h-PSdZQZvcZW",
        "outputId": "95d6600b-d2eb-431b-8501-22894dc62bcd"
      },
      "execution_count": null,
      "outputs": [
        {
          "output_type": "stream",
          "name": "stdout",
          "text": [
            "Armstrong number\n"
          ]
        }
      ]
    },
    {
      "cell_type": "code",
      "source": [
        "\n",
        "#Armstrong numbers\n",
        "def arm(i):\n",
        "  sum=0\n",
        "  temp=i\n",
        "  while i!=0:\n",
        "    rem=i%10\n",
        "    sum=sum+(rem*rem*rem)\n",
        "    i//=10\n",
        "  if temp==sum:\n",
        "     print(\"Armstrong number\")\n",
        "  else :\n",
        "    print(\" not a Armstrong number\")"
      ],
      "metadata": {
        "id": "PzAT-0fRvu4p"
      },
      "execution_count": null,
      "outputs": []
    },
    {
      "cell_type": "code",
      "source": [
        "arm(371)"
      ],
      "metadata": {
        "colab": {
          "base_uri": "https://localhost:8080/"
        },
        "id": "17rB8mXZvycZ",
        "outputId": "3e335371-6ec2-4671-a50a-059804189cab"
      },
      "execution_count": null,
      "outputs": [
        {
          "output_type": "stream",
          "name": "stdout",
          "text": [
            "Armstrong number\n"
          ]
        }
      ]
    },
    {
      "cell_type": "code",
      "source": [
        "\n",
        "#Armstrong numbers\n",
        "def arm(i):\n",
        "  i=371\n",
        "  sum=0\n",
        "  temp=i\n",
        "  while i!=0:\n",
        "    rem=i%10\n",
        "    sum=sum+(rem*rem*rem)\n",
        "    i//=10\n",
        "  return temp,sum"
      ],
      "metadata": {
        "id": "-gntqB8Cv08e"
      },
      "execution_count": null,
      "outputs": []
    },
    {
      "cell_type": "code",
      "source": [
        "x,y=arm(371)\n",
        "if x==y:\n",
        "     print(\"Armstrong number\")\n",
        "else :\n",
        "    print(\" not a Armstrong number\")"
      ],
      "metadata": {
        "colab": {
          "base_uri": "https://localhost:8080/"
        },
        "id": "b4LUDHidwGI0",
        "outputId": "bed99b1f-7fa6-49dd-a714-49a078db1e04"
      },
      "execution_count": null,
      "outputs": [
        {
          "output_type": "stream",
          "name": "stdout",
          "text": [
            "Armstrong number\n"
          ]
        }
      ]
    },
    {
      "cell_type": "code",
      "source": [
        "#prime number\n",
        "def prime():\n",
        "  j1=3\n",
        "  i=1\n",
        "  c=0\n",
        "  while i<=j1:\n",
        "    if j1%i==0:\n",
        "      c=c+1\n",
        "    i=i+1\n",
        "  if c==2:\n",
        "     print(\"prime number\")\n",
        "  else:\n",
        "     print(\"Not a prime number\")"
      ],
      "metadata": {
        "id": "760k69tVwT0x"
      },
      "execution_count": null,
      "outputs": []
    },
    {
      "cell_type": "code",
      "source": [
        "prime()"
      ],
      "metadata": {
        "colab": {
          "base_uri": "https://localhost:8080/"
        },
        "id": "Pta2LsS2xu3C",
        "outputId": "1c669640-a94b-45e3-f31d-c673264b7b40"
      },
      "execution_count": null,
      "outputs": [
        {
          "output_type": "stream",
          "name": "stdout",
          "text": [
            "prime number\n"
          ]
        }
      ]
    },
    {
      "cell_type": "code",
      "source": [
        "#prime number\n",
        "def prime():\n",
        "  j1=3\n",
        "  i=1\n",
        "  c=0\n",
        "  while i<=j1:\n",
        "    if j1%i==0:\n",
        "      c=c+1\n",
        "    i=i+1\n",
        "  if c==2:\n",
        "     print(\"prime number\")\n",
        "  else:\n",
        "     print(\"Not a prime number\")"
      ],
      "metadata": {
        "id": "yRLRcTw2yMIX"
      },
      "execution_count": null,
      "outputs": []
    },
    {
      "cell_type": "code",
      "source": [
        "prime(5)"
      ],
      "metadata": {
        "colab": {
          "base_uri": "https://localhost:8080/"
        },
        "id": "EuHJYEqByQM9",
        "outputId": "f19a85f1-fcbf-476b-ca87-4fba30740b1f"
      },
      "execution_count": null,
      "outputs": [
        {
          "output_type": "stream",
          "name": "stdout",
          "text": [
            "prime number\n"
          ]
        }
      ]
    },
    {
      "cell_type": "code",
      "source": [
        "#prime number\n",
        "def prime(j1):\n",
        "  i=1\n",
        "  c=0\n",
        "  while i<=j1:\n",
        "    if j1%i==0:\n",
        "      c=c+1\n",
        "    i=i+1\n",
        "  return c"
      ],
      "metadata": {
        "id": "Rc5ohbxtyZYb"
      },
      "execution_count": null,
      "outputs": []
    },
    {
      "cell_type": "code",
      "source": [
        "x=prime(\n",
        "if x==2:\n",
        "     print(\"prime number\")\n",
        "else:\n",
        "     print(\"Not a prime number\")"
      ],
      "metadata": {
        "colab": {
          "base_uri": "https://localhost:8080/"
        },
        "id": "RZLhi0J9yiwG",
        "outputId": "2bff495f-45e6-4f19-cfa1-ea89850f01b2"
      },
      "execution_count": null,
      "outputs": [
        {
          "output_type": "stream",
          "name": "stdout",
          "text": [
            "prime number\n"
          ]
        }
      ]
    },
    {
      "cell_type": "code",
      "source": [
        "#DICTIONARY\n",
        "def mar():\n",
        "  marvel={\"1\":\"iron man\",\"2\":\"Hulk\",\"3\":\"Thor\",\"4\":\"Falcon\"}\n",
        "  MC={0:\"captain America\",1:\"Hawkeye\"}\n",
        "  print (marvel)\n",
        "\n",
        "#Adding of characters\n",
        "  marvel[\"5\"]=\"Captain America\"\n",
        "  print (\"updated dictionary:\",marvel)\n",
        "\n",
        "#sorting of dictionary\n",
        "  print(sorted(marvel,reverse=True))\n",
        "\n",
        "#delete & pop item\n",
        "  del marvel[\"2\"]\n",
        "  marvel.popitem()#Last item deleted\n",
        "  print (marvel)\n",
        "\n",
        "#copy Dict\n",
        "  M=marvel.copy()\n",
        "  print (M)\n",
        "\n",
        "#length of the dictionary\n",
        "  print(\"length of dict is\",len(marvel))\n",
        "\n",
        "#type\n",
        "  print(type(marvel))\n",
        "\n",
        "#All and any\n",
        "  print(all(marvel))\n",
        "  print(any(MC))\n",
        "  print(all(MC))\n",
        "\n",
        "#keys\n",
        "  Marvel={\"M\",\"A\",\"R\",\"V\",\"E\",\"L\"}\n",
        "  Value=\"character\"\n",
        "  characters=dict.fromkeys(Marvel,Value)\n",
        "  print (characters)\n",
        "\n",
        "#append\n",
        "  Marvel={\"M\",\"A\",\"R\",\"V\",\"E\",\"L\"}\n",
        "  Value=[\"J\"]\n",
        "  characters=dict.fromkeys(Marvel,Value)\n",
        "  print (characters)\n",
        "  Value.append(1)\n",
        "  print(characters)\n",
        "\n",
        "#Get method\n",
        "  print(\"Best character of marvel is:\",marvel.get(\"1\"))\n",
        "\n",
        "#items\n",
        "  J=marvel.items()\n",
        "  print(J)\n",
        "  del [marvel[\"4\"]]\n",
        "  print(\"update item:\",J)\n",
        "\n",
        "#inserting the character\n",
        "  marvel[\"6\"]=\"Spiderman\"\n",
        "  print (marvel)\n",
        "\n",
        "#clear method\n",
        "  marvel.clear()\n",
        "  print(marvel)"
      ],
      "metadata": {
        "id": "WYBaorWqG4jU"
      },
      "execution_count": null,
      "outputs": []
    },
    {
      "cell_type": "code",
      "source": [
        "#SETS\n",
        "def mar1():\n",
        "  MC={\"iron man\",\"Hulk\",\"Thor\",\"captain America\", \"Hawkeye \",\"Black widow\",\"spider man\"}\n",
        "  print (MC)\n",
        "\n",
        "#adding the elements to set\n",
        "  MC.add(\"Loki\")\n",
        "  print (MC)\n",
        "\n",
        "#adding of sets\n",
        "  MM=[\"Loki\",\"Thanos\"]\n",
        "  MC.update(MM)\n",
        "  print(MC)\n",
        "\n",
        "#length of set\n",
        "  print(\"Total elements:\",len(MC))\n",
        "\n",
        "#union\n",
        "  J1={\"iron man\",\"Hulk\", \"Loki\",\"Thor\"}\n",
        "  J2={ \"Loki\",\"Thanos\",\"Ultron\"}\n",
        "  print (\"union operations :\",J1|J2)\n",
        "\n",
        "#Intersection\n",
        "  print (\"Intersection operations:\",J1&J2)\n",
        "\n",
        "#Difference of set\n",
        "  print(\"Difference: \",J1-J2)\n",
        "\n",
        "#Set symmetric\n",
        "  print(\"set symmetric:\",J1^J2)\n",
        "\n",
        "#sub set\n",
        "  J3={\"iron man\",\"Thor\"}\n",
        "  print(J3.issubset(J1))\n",
        "\n",
        "#disjoint\n",
        "  print(J3.isdisjoint(J2))\n",
        "\n",
        "#empty set\n",
        "  Set=set()\n",
        "\n",
        "#type\n",
        "  print (type(MC))"
      ],
      "metadata": {
        "id": "JGu1mb6Hc6zH"
      },
      "execution_count": null,
      "outputs": []
    },
    {
      "cell_type": "code",
      "source": [
        "mar1()"
      ],
      "metadata": {
        "id": "ML0eyy8pm5ET",
        "outputId": "7d9673e2-7009-43d2-c4cc-6f27a3a737f3",
        "colab": {
          "base_uri": "https://localhost:8080/"
        }
      },
      "execution_count": null,
      "outputs": [
        {
          "output_type": "stream",
          "name": "stdout",
          "text": [
            "{'Black widow', 'iron man', 'Hawkeye ', 'captain America', 'Hulk', 'Thor', 'spider man'}\n",
            "{'Black widow', 'iron man', 'Hawkeye ', 'captain America', 'Hulk', 'Thor', 'Loki', 'spider man'}\n",
            "{'Black widow', 'Thanos', 'spider man', 'Loki', 'Hulk', 'Thor', 'iron man', 'Hawkeye ', 'captain America'}\n",
            "Total elements: 9\n",
            "union operations : {'iron man', 'Thanos', 'Hulk', 'Thor', 'Loki', 'Ultron'}\n",
            "Intersection operations: {'Loki'}\n",
            "Difference:  {'Thor', 'iron man', 'Hulk'}\n",
            "set symmetric: {'Thanos', 'Hulk', 'Ultron', 'Thor', 'iron man'}\n",
            "True\n",
            "True\n",
            "<class 'set'>\n"
          ]
        }
      ]
    },
    {
      "cell_type": "code",
      "source": [
        "# LIST ABOUT MARVEL\n",
        "def mar3():\n",
        "  marvel=[\"iron man\",\"hawkeye\",\"captain america\",\"black widow\",\"thor\"]\n",
        "  MC={\"iron man\",\"Hulk\",\"Thor\",\"captain America\", \"Hawkeye \",\"Black widow\",\"spider man\"}\n",
        "  print (MC)\n",
        "  print(marvel[1:4])\n",
        "  print(marvel[-4:-1])\n",
        "  print(marvel[:-1])\n",
        "\n",
        "#adding element\n",
        "  marvel.append(\"spider man\")\n",
        "  marvel.insert(1,\"Hulk\")\n",
        "  print(marvel)\n",
        "\n",
        "#deleting element\n",
        "  del marvel[3]\n",
        "  marvel.pop(1)\n",
        "  marvel.remove(\"thor\")\n",
        "  print(marvel)\n",
        "\n",
        "#sorting\n",
        "  marvel.sort()\n",
        "  marvel.sort(reverse=True)\n",
        "  print(marvel)\n",
        "\n",
        "#Adding 0f lists\n",
        "  MC=['loki', 'thanos', 'ultron', 'docter doom']\n",
        "  marvel.extend(MC)\n",
        "  print(marvel)\n",
        "\n",
        "#list comprehension\n",
        "  for i,element in enumerate(marvel):\n",
        "    print(i,\":\",element)\n",
        "\n",
        "#Extend\n",
        "  marvel.extend(MC)\n",
        "  print(\"list after extend :\",marvel)\n",
        "\n",
        "#copy\n",
        "  j1=marvel.copy()\n",
        "  print('copied list:',j1)\n",
        "\n",
        "#type\n",
        "  print(type(marvel))\n",
        "\n",
        "#clearing the list\n",
        "  marvel.clear()\n",
        "  print(marvel)"
      ],
      "metadata": {
        "id": "UA_Y-H4X2kal"
      },
      "execution_count": null,
      "outputs": []
    },
    {
      "cell_type": "code",
      "source": [
        "def mav2():\n",
        "  marvel='black widow', 'hawkeye', 'iron man', 'spider man', 'thor', 'loki', 'thanos', 'ultron', 'docter doom'\n",
        "  print(marvel[1:4])\n",
        "  print(marvel[-4:-1])\n",
        "  print(marvel[:-1])\n",
        "  print(marvel[1:])\n",
        "  print(marvel[-8:8])\n",
        "  print(marvel[0:-1])\n",
        "\n",
        "#tuple with mixed data types\n",
        "  Mm=(1,\"Adil\",30)\n",
        "  print (Mm)\n",
        "\n",
        "#nested tuple\n",
        "  m=(\"thor\",[1,4,7],(1,8,0))\n",
        "  print(m)\n",
        "\n",
        "#type\n",
        "  print(type(marvel))\n",
        "\n",
        "#creating tuple with one element\n",
        "  mar=\"hella\",\n",
        "  print(type(mar))"
      ],
      "metadata": {
        "id": "mhuHZX2v3czk"
      },
      "execution_count": null,
      "outputs": []
    },
    {
      "cell_type": "code",
      "source": [
        "import numpy as np\n",
        "X=[[1,2,3],\n",
        "   [4,5,6],\n",
        "   [7,8,9]]\n",
        "Y=[[1,2,3],\n",
        "   [4,5,6],\n",
        "   [7,8,9]]\n",
        "result=[[0,0,0],\n",
        "        [0,0,0],\n",
        "        [0,0,0]]\n",
        "#for i in range(len(X)):\n",
        "  #for j in range(len(Y[0])):\n",
        "     #for k in range(len(Y)):\n",
        "        #result [i][j]+=X[i][j]*Y[k][j]\n",
        "#for r in result:\n",
        "  #print (r)\n",
        "result=np.dot(X,Y)\n",
        "for r in result:\n",
        "   print(r)"
      ],
      "metadata": {
        "colab": {
          "base_uri": "https://localhost:8080/"
        },
        "id": "gksMTiDY4mpe",
        "outputId": "43fa6598-b291-4e40-b0d9-c1f648480978"
      },
      "execution_count": null,
      "outputs": [
        {
          "output_type": "stream",
          "name": "stdout",
          "text": [
            "[30 36 42]\n",
            "[66 81 96]\n",
            "[102 126 150]\n"
          ]
        }
      ]
    },
    {
      "cell_type": "code",
      "source": [
        "x=5\n",
        "y='hello'\n",
        "try:\n",
        "  z=x+y\n",
        "except TypeError:\n",
        "  print (\"sorry\")"
      ],
      "metadata": {
        "colab": {
          "base_uri": "https://localhost:8080/"
        },
        "id": "6ihe-x1q9Z4V",
        "outputId": "f12a13d7-0a96-4b0f-e426-7c1d536de634"
      },
      "execution_count": null,
      "outputs": [
        {
          "output_type": "stream",
          "name": "stdout",
          "text": [
            "sorry\n"
          ]
        }
      ]
    },
    {
      "cell_type": "code",
      "source": [
        "class A:\n",
        "  def display(self):\n",
        "    print(\"parent\")\n",
        "class B(A):\n",
        "  def dis(self):\n",
        "    print(\"child\")\n",
        "ob=B()\n",
        "ob.dis()\n",
        "ob.display()"
      ],
      "metadata": {
        "colab": {
          "base_uri": "https://localhost:8080/"
        },
        "id": "5V8OpKEP-Xsc",
        "outputId": "2f0b0a1b-8403-4f53-8a19-38263efbe1c4"
      },
      "execution_count": null,
      "outputs": [
        {
          "output_type": "stream",
          "name": "stdout",
          "text": [
            "child\n",
            "parent\n"
          ]
        }
      ]
    }
  ]
}