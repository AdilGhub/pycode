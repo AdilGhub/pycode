{
  "cells": [
    {
      "cell_type": "markdown",
      "metadata": {
        "id": "view-in-github",
        "colab_type": "text"
      },
      "source": [
        "<a href=\"https://colab.research.google.com/github/AdilGhub/pycode/blob/main/py_basic_code.ipynb\" target=\"_parent\"><img src=\"https://colab.research.google.com/assets/colab-badge.svg\" alt=\"Open In Colab\"/></a>"
      ]
    },
    {
      "cell_type": "code",
      "source": [
        "#elable for vote\n",
        "j1  = int(input(\"Adil enter the age \"))\n",
        "if j1 >= 18:\n",
        "  print(\"eligible for vote\")\n",
        "else:\n",
        "  print(\"not eligible for vote\")"
      ],
      "metadata": {
        "id": "Kz36wAcU85ru",
        "outputId": "a9e7a4ee-d003-4907-a163-3e9c52584129",
        "colab": {
          "base_uri": "https://localhost:8080/"
        }
      },
      "execution_count": null,
      "outputs": [
        {
          "output_type": "stream",
          "name": "stdout",
          "text": [
            "Adil enter the age 18\n",
            "eligible for vote\n"
          ]
        }
      ]
    },
    {
      "cell_type": "code",
      "source": [
        "#maximumn of three numder\n",
        "aj1 = int(input(\"Adil enter the value \"))\n",
        "bj1 = int(input(\"Adil enter the value \"))\n",
        "cj1 = int(input(\"Adil enter the value \"))\n",
        "if aj1>bj1>cj1:\n",
        "  print(\"a is maximum\")\n",
        "elif bj1>aj1>cj1:\n",
        "  print(\"b is maximum\")\n",
        "else:\n",
        "  print(\"c is maximum\")"
      ],
      "metadata": {
        "id": "TmJ83J-F9TCN",
        "outputId": "93611f3b-3667-49c9-bbb0-0ae7aefe5966",
        "colab": {
          "base_uri": "https://localhost:8080/"
        }
      },
      "execution_count": null,
      "outputs": [
        {
          "output_type": "stream",
          "name": "stdout",
          "text": [
            "Adil enter the value 50\n",
            "Adil enter the value 30\n",
            "Adil enter the value 70\n",
            "c is maximum\n"
          ]
        }
      ]
    },
    {
      "cell_type": "code",
      "source": [
        "#minimum of three numder\n",
        "aj1 = int(input(\"Adil enter the value \"))\n",
        "bj1 =  int(input(\"Adil enter the value \"))\n",
        "cj1 = int(input(\"Adil enter the value \"))\n",
        "if aj1<bj1<cj1:\n",
        "  print(\"a is minimum\")\n",
        "elif bj1<aj1<cj1:\n",
        "  print(\"b is minimum\")\n",
        "else:\n",
        "  print(\"c is minimum\")"
      ],
      "metadata": {
        "id": "L7vgDRnK9mWA",
        "outputId": "a65f1980-c412-4a1a-8411-f7f8f0f2fa5c",
        "colab": {
          "base_uri": "https://localhost:8080/"
        }
      },
      "execution_count": null,
      "outputs": [
        {
          "output_type": "stream",
          "name": "stdout",
          "text": [
            "Adil enter the value 40\n",
            "Adil enter the value 70\n",
            "Adil enter the value 9000\n",
            "a is minimum\n"
          ]
        }
      ]
    },
    {
      "cell_type": "code",
      "source": [
        "\n",
        "#Check the grades\n",
        "j1 = int(input(\"Adil enter the value \"))\n",
        "if j1>=90 and j1<=100:\n",
        "  print(\"O grade\")\n",
        "elif j1>=80 and j1<=89:\n",
        "  print(\"E grade\")\n",
        "elif j1>=70 and j1<=79:\n",
        "  print(\"A grade\")\n",
        "elif j1>=60 and j1<=69:\n",
        "  print(\"B grade\")\n",
        "elif j1>=50 and j1<=59:\n",
        "  print(\"C grade\")\n",
        "else:\n",
        "  print(\"fail\")"
      ],
      "metadata": {
        "id": "ZOrdUtmB-zYO",
        "outputId": "d81839c1-74cc-420b-eb23-169b17bfb159",
        "colab": {
          "base_uri": "https://localhost:8080/"
        }
      },
      "execution_count": null,
      "outputs": [
        {
          "output_type": "stream",
          "name": "stdout",
          "text": [
            "Adil enter the value 55\n",
            "C grade\n"
          ]
        }
      ]
    },
    {
      "cell_type": "code",
      "source": [
        "#construction\n",
        "j1=int(input(\"Adil enter the floor\"))\n",
        "if j1==1:\n",
        "  print(\"welcome to ece dept adil \")\n",
        "elif j1==2:\n",
        "   print(\"welcome to cse dept adil \")\n",
        "elif j1==3:\n",
        "   print(\"welcome to IT dept adil \")\n",
        "elif j1==0:\n",
        "   print(\"welcome to EEE dept adil \")"
      ],
      "metadata": {
        "id": "6WQg5AyZ_DVo",
        "outputId": "b0a53736-164a-4060-8aaf-e3247916db0a",
        "colab": {
          "base_uri": "https://localhost:8080/"
        }
      },
      "execution_count": null,
      "outputs": [
        {
          "output_type": "stream",
          "name": "stdout",
          "text": [
            "Adil enter the floor0\n",
            "welcome to EEE dept adil \n"
          ]
        }
      ]
    },
    {
      "cell_type": "code",
      "source": [
        "\n",
        "#batsman score\n",
        "scorej1=int(input(\" enter the score of ADIL \"))\n",
        "if scorej1>=100:\n",
        "  print(\"Adil score the Exellent\")\n",
        "elif scorej1>=50 and scorej1<100:\n",
        "  print(\"Adil score the good\")\n",
        "elif scorej1>=20 and scorej1<=50:\n",
        "  print(\"Adil score the average\")\n",
        "elif scorej1==0:\n",
        "    print(\"Adil score the worst\")"
      ],
      "metadata": {
        "id": "f7VhPc4JOQIl"
      },
      "execution_count": null,
      "outputs": []
    },
    {
      "cell_type": "code",
      "source": [
        "#Given is odd or even\n",
        "numj1=int(input(\"Adil enter the number\"))\n",
        "if (numj1%2)==0:\n",
        "  print(\"its an even number \")\n",
        "else:\n",
        "  print(\"its an odd number\")"
      ],
      "metadata": {
        "id": "-QBgEMIv_Wn3"
      },
      "execution_count": null,
      "outputs": []
    },
    {
      "cell_type": "code",
      "source": [
        "\n",
        "#Divisible by 10\n",
        "j1 = int(input(\"ADIL enter the value \"))\n",
        "if j1%10==0:\n",
        "  print(\"divisable by 10\")\n",
        "else:\n",
        "  print(\"not divisable by 10\")"
      ],
      "metadata": {
        "id": "rGj6pAW8AIyt"
      },
      "execution_count": null,
      "outputs": []
    },
    {
      "cell_type": "code",
      "source": [
        "\n",
        "#Given over is leap year or not\n",
        "j1 = int(input(\"Adil enter the year \"))\n",
        "if j1%4==0 and j1%100!=0:\n",
        "   print(\" leap year\")\n",
        "elif j1%100==0:\n",
        "  print(\" not leap year\")\n",
        "elif j1%400==0:\n",
        "  print(\" is leap year\")\n",
        "else:\n",
        "  print(\" not leap year\")"
      ],
      "metadata": {
        "id": "1UneCC8SAb6b"
      },
      "execution_count": null,
      "outputs": []
    },
    {
      "cell_type": "code",
      "source": [
        "j1=int(input(\"Adil enter the temp\")\n",
        "if j1>=95:\n",
        "  Print(\"The person is affected by fever\")\n",
        "else:\n",
        "  print(\"The person is not affected by fever\")"
      ],
      "metadata": {
        "id": "WR5JfqIZAvyq"
      },
      "execution_count": null,
      "outputs": []
    },
    {
      "cell_type": "code",
      "source": [
        "j1=input(\"Adil enter the gender of person\")\n",
        "M=int(input(\"Adil enter the age of male\"))\n",
        "F=int(input(\"Adil enter the age of female\"))\n",
        "if (j1=='M') or (j1=='F'):\n",
        "  if (j1=='M') and (j1>=21):\n",
        "   print(\"He is eligible for marriage\")\n",
        "    if (j1=='F') and (j1>=18):\n",
        "     print(\"She is eligible for marriage\")"
      ],
      "metadata": {
        "id": "BeycU8zJMTX6"
      },
      "execution_count": null,
      "outputs": []
    },
    {
      "cell_type": "code",
      "source": [
        "rj1=int(input(\"Adil enter the rank\"))\n",
        "if (rj1>=1) and (rj1<=1000):\n",
        "  print(\" Adil you got the seat in government University\")\n",
        "if (rj1>=1000) and (rj1<10000):\n",
        "  print(\" Adil you got the seat in private University\")\n",
        "if rj1>=10000:\n",
        "  print(\" Adil you got the seat in college \")"
      ],
      "metadata": {
        "id": "kvA1aMJIOqjz"
      },
      "execution_count": null,
      "outputs": []
    },
    {
      "cell_type": "code",
      "source": [
        "j1=int(input(\"Adil enter the amount to send\"))\n",
        "Balance=int(input(\"Adil enter the amount present in account \"))\n",
        "Pin=int (input (\"Adil enter the pin \"))\n",
        "if Balance>10000:\n",
        "   if pin==444:\n",
        "     print(\"The transaction is successful \")\n",
        "     else:\n",
        "        print (\"The pin is incorrect\")\n",
        "else:\n",
        "  print(\"you have insufficient amount\")"
      ],
      "metadata": {
        "id": "JeD_QG9FREU3"
      },
      "execution_count": null,
      "outputs": []
    },
    {
      "cell_type": "code",
      "source": [
        "unitj1=int(input(\"Adil enter the amount of unit used \"))\n",
        "if ((unitj1>=1) and (unitj1<=100)):\n",
        "  print(\"the amount is 400 rupees\")\n",
        "elif ((unitj1>100) and (unitj1<200)):\n",
        "  print (\"The amount is 1000 rupees\")\n",
        "elif (unitj1>200):\n",
        "  print (\"the amount is 2000 rupees \")"
      ],
      "metadata": {
        "id": "4oXVJKPUUNdK"
      },
      "execution_count": null,
      "outputs": []
    },
    {
      "cell_type": "code",
      "source": [
        "Nj1=int(input(\"Adil enter the number\"))\n",
        "if Nj1>0:\n",
        "  print(\"The number is positive\")\n",
        "elif Nj1<0:\n",
        "  print(\"The number is negative \")\n",
        "else:\n",
        " print(\"The number is zero\")"
      ],
      "metadata": {
        "id": "xNVbsDGrXBkV"
      },
      "execution_count": null,
      "outputs": []
    },
    {
      "cell_type": "code",
      "source": [
        "chj1=input(\"Adil Give any character\")\n",
        "if chj1>='A' and chj1<='Z':\n",
        " n=ord(n)\n",
        " n=n+32\n",
        " ch=chr(n)\n",
        " print (ch)\n",
        "elif chj1>='a' and chj1<='z':\n",
        " n=ord(n)\n",
        " n=n-32\n",
        " ch=chr(n)\n",
        " print (ch)\n",
        "else:\n",
        " Print(\"invalid character\")"
      ],
      "metadata": {
        "id": "n2zy7CL0YqQ0"
      },
      "execution_count": null,
      "outputs": []
    }
  ],
  "metadata": {
    "colab": {
      "provenance": [],
      "include_colab_link": true
    },
    "kernelspec": {
      "display_name": "Python 3",
      "name": "python3"
    }
  },
  "nbformat": 4,
  "nbformat_minor": 0
}