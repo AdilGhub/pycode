{
  "nbformat": 4,
  "nbformat_minor": 0,
  "metadata": {
    "colab": {
      "provenance": [],
      "authorship_tag": "ABX9TyM4Ou2qMi4cop4pIx1zKr8u",
      "include_colab_link": true
    },
    "kernelspec": {
      "name": "python3",
      "display_name": "Python 3"
    },
    "language_info": {
      "name": "python"
    }
  },
  "cells": [
    {
      "cell_type": "markdown",
      "metadata": {
        "id": "view-in-github",
        "colab_type": "text"
      },
      "source": [
        "<a href=\"https://colab.research.google.com/github/AdilGhub/pycode/blob/main/JeeMains_Selections_pro.ipynb\" target=\"_parent\"><img src=\"https://colab.research.google.com/assets/colab-badge.svg\" alt=\"Open In Colab\"/></a>"
      ]
    },
    {
      "cell_type": "code",
      "execution_count": 1,
      "metadata": {
        "colab": {
          "base_uri": "https://localhost:8080/"
        },
        "id": "gQ2loFd0bKT2",
        "outputId": "ff8852c9-e6ae-4a59-c825-6dac64af5c76"
      },
      "outputs": [
        {
          "output_type": "stream",
          "name": "stdout",
          "text": [
            "Enter the candidate name:Adil\n",
            "Enter the jee mains percentile:89\n",
            "Enter the caste of candidate:BC_E\n",
            "Congratulations Adil you got the seat in top NIT college that is NIT Tiruchirapalli in any branch \n",
            "Adil you are aslo qualified for jee_advanced \n",
            "please Enter the jee advance marks72\n",
            "Adil you are not qualified for any IIT\n"
          ]
        }
      ],
      "source": [
        "name=input(\"Enter the candidate name:\")\n",
        "jee_mains=float(input (\"Enter the jee mains percentile:\"))\n",
        "caste=input(\"Enter the caste of candidate:\")\n",
        "if jee_mains<=50:\n",
        "  print (\"Sorry\",name, \"you are not qualified \")\n",
        "if jee_mains>50 and jee_mains<80:\n",
        "  if caste=='BC_A' or caste=='BC_B' or caste=='BC_E':\n",
        "     print (\"congrats\",name,\" you got the seat in nit Warangal in mechanical branch\")\n",
        "     print (name,\"you are not qualified for jee_advanced \")\n",
        "  elif caste=='SC' or caste=='ST':\n",
        "     print(\"Congratulations\",name,\"you got the seat in top NIT college that is NIT Tiruchirapalli in any branch \")\n",
        "     print (name,\"you are aslo qualified for jee_advanced \")\n",
        "     jee_adv=int(input(\"please Enter the jee advance marks\"))\n",
        "  elif caste=='OC':\n",
        "     print (name,\"you got the seat in NIT mizoram in civil and mechanical branch\")\n",
        "     print (name,\"you are not qualified for jee advance \")\n",
        "if jee_mains>80 and jee_mains<90:\n",
        "  if caste=='SC' or caste=='ST' or caste=='BC_A' or caste=='BC_B' or caste=='BC_E':\n",
        "     print(\"Congratulations\",name,\"you got the seat in top NIT college that is NIT Tiruchirapalli in any branch \")\n",
        "     print (name,\"you are aslo qualified for jee_advanced \")\n",
        "     jee_adv=int(input(\"please Enter the jee advance marks\"))\n",
        "  elif caste=='OC':\n",
        "     print (\"Congratulations\",name,\"you got the seat in top NIT college that is NIT Tiruchirapalli in any branch \")\n",
        "     print (name,\"you are not qualified for jee advance \")\n",
        "if jee_mains>90 and jee_mains<100:\n",
        "  if caste=='SC' or caste=='ST' or caste=='BC_A' or caste=='BC_B' or caste=='BC_E' or caste=='OC':\n",
        "     print(\"Congratulations\",name,\"you got the seat in top NIT college that is NIT Tiruchirapalli in any branch \")\n",
        "     print (name,\"you are aslo qualified for jee_advanced \")\n",
        "     jee_adv=int(input(\"please Enter the jee advance marks\"))\n",
        "if jee_adv<=45:\n",
        "  print (name,\"you are not qualified for IIT\")\n",
        "if jee_adv>45 and jee_adv<75:\n",
        "  if caste=='SC' or caste =='ST':\n",
        "     print(\"Congratulations\",name,\"you got the seat in IIT Bombay in civil and mechanical branch\")\n",
        "  elif caste=='BC_A' or caste=='BC_B' or caste=='BC_E' or caste=='OC':\n",
        "     print (name,\"you are not qualified for any IIT\")\n",
        "if jee_adv>75 and jee_adv<90:\n",
        "  if caste=='SC' or caste=='ST' or caste=='BC_A' or caste=='BC_B' or caste=='BC_E':\n",
        "     print(\"Congratulations\",name,\"you got the seat in IIT Bombay in any branch\")\n",
        "  elif caste=='OC':\n",
        "     print(\"Congratulations\",name,\"you got the seat in IIT Warangal in civil and mechanical branch\")\n",
        "if jee_adv>90 and jee_adv<100:\n",
        "  if caste=='SC' or caste=='ST' or caste=='BC_A' or caste=='BC_B' or caste=='BC_E' or caste=='OC':\n",
        "     print (\"congratulations\",name,\"you are qualified for IIT Madras or Hyderabad in any branch\")"
      ]
    }
  ]
}