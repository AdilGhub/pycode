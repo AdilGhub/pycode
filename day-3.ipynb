{
 "cells": [
  {
   "cell_type": "code",
   "execution_count": 10,
   "id": "99693a55",
   "metadata": {},
   "outputs": [],
   "source": [
    "def add():\n",
    "    x=22\n",
    "    y=23\n",
    "    print(x+y)"
   ]
  },
  {
   "cell_type": "code",
   "execution_count": 11,
   "id": "48fbbe54",
   "metadata": {},
   "outputs": [
    {
     "name": "stdout",
     "output_type": "stream",
     "text": [
      "45\n"
     ]
    }
   ],
   "source": [
    "add()"
   ]
  },
  {
   "cell_type": "code",
   "execution_count": 12,
   "id": "ec7c9a90",
   "metadata": {},
   "outputs": [],
   "source": [
    "def subract():\n",
    "    x=55\n",
    "    y=35\n",
    "    print(x-y)"
   ]
  },
  {
   "cell_type": "code",
   "execution_count": 13,
   "id": "ddadc736",
   "metadata": {},
   "outputs": [
    {
     "name": "stdout",
     "output_type": "stream",
     "text": [
      "20\n"
     ]
    }
   ],
   "source": [
    "subract()"
   ]
  },
  {
   "cell_type": "code",
   "execution_count": 14,
   "id": "f61aef42",
   "metadata": {},
   "outputs": [],
   "source": [
    "def div(x,y):\n",
    "    print(x/y)"
   ]
  },
  {
   "cell_type": "code",
   "execution_count": 15,
   "id": "73b31cc3",
   "metadata": {},
   "outputs": [
    {
     "name": "stdout",
     "output_type": "stream",
     "text": [
      "0.6285714285714286\n"
     ]
    }
   ],
   "source": [
    "div(22,35)"
   ]
  },
  {
   "cell_type": "code",
   "execution_count": 16,
   "id": "bd4a12f4",
   "metadata": {},
   "outputs": [],
   "source": [
    "def mul(x=208,y=35):\n",
    "    print(x*y)"
   ]
  },
  {
   "cell_type": "code",
   "execution_count": 17,
   "id": "421a6d19",
   "metadata": {},
   "outputs": [
    {
     "name": "stdout",
     "output_type": "stream",
     "text": [
      "7280\n"
     ]
    }
   ],
   "source": [
    "mul()"
   ]
  },
  {
   "cell_type": "code",
   "execution_count": 18,
   "id": "9db1f82e",
   "metadata": {},
   "outputs": [],
   "source": [
    "def mod(x=200,y=3):\n",
    "    print(x%y)"
   ]
  },
  {
   "cell_type": "code",
   "execution_count": 19,
   "id": "495ca1b4",
   "metadata": {},
   "outputs": [
    {
     "name": "stdout",
     "output_type": "stream",
     "text": [
      "2\n"
     ]
    }
   ],
   "source": [
    "mod()"
   ]
  },
  {
   "cell_type": "code",
   "execution_count": 20,
   "id": "784cc99c",
   "metadata": {},
   "outputs": [],
   "source": [
    "def groot(x):\n",
    "    print('Iam',x)"
   ]
  },
  {
   "cell_type": "code",
   "execution_count": 21,
   "id": "5fef442f",
   "metadata": {},
   "outputs": [
    {
     "name": "stdout",
     "output_type": "stream",
     "text": [
      "Iam groot\n"
     ]
    }
   ],
   "source": [
    "groot('groot')"
   ]
  },
  {
   "cell_type": "code",
   "execution_count": 22,
   "id": "6877ec95",
   "metadata": {},
   "outputs": [
    {
     "name": "stdout",
     "output_type": "stream",
     "text": [
      "Iam Groot\n"
     ]
    }
   ],
   "source": [
    "y='Groot'\n",
    "groot(y)"
   ]
  },
  {
   "cell_type": "code",
   "execution_count": 23,
   "id": "f58c6192",
   "metadata": {},
   "outputs": [
    {
     "name": "stdout",
     "output_type": "stream",
     "text": [
      "Iam Pavan\n"
     ]
    }
   ],
   "source": [
    "groot('Pavan')"
   ]
  },
  {
   "cell_type": "code",
   "execution_count": 24,
   "id": "5a91d379",
   "metadata": {},
   "outputs": [
    {
     "name": "stdout",
     "output_type": "stream",
     "text": [
      "Iam SMEC\n"
     ]
    }
   ],
   "source": [
    "groot('SMEC')"
   ]
  },
  {
   "cell_type": "code",
   "execution_count": 25,
   "id": "ff938d47",
   "metadata": {},
   "outputs": [
    {
     "name": "stdout",
     "output_type": "stream",
     "text": [
      "Iam room no-7112\n"
     ]
    }
   ],
   "source": [
    "groot('room no-7112')"
   ]
  },
  {
   "cell_type": "code",
   "execution_count": 26,
   "id": "e1c56499",
   "metadata": {},
   "outputs": [
    {
     "name": "stdout",
     "output_type": "stream",
     "text": [
      "Iam Amazon\n"
     ]
    }
   ],
   "source": [
    "groot('Amazon')"
   ]
  },
  {
   "cell_type": "code",
   "execution_count": 27,
   "id": "50d44676",
   "metadata": {},
   "outputs": [
    {
     "name": "stdout",
     "output_type": "stream",
     "text": [
      "Iam Iron Man\n"
     ]
    }
   ],
   "source": [
    "groot(\"Iron Man\")"
   ]
  },
  {
   "cell_type": "code",
   "execution_count": 28,
   "id": "429fd53f",
   "metadata": {},
   "outputs": [
    {
     "name": "stdout",
     "output_type": "stream",
     "text": [
      "Iam Hulk\n"
     ]
    }
   ],
   "source": [
    "groot('Hulk')"
   ]
  },
  {
   "cell_type": "code",
   "execution_count": 29,
   "id": "e5390183",
   "metadata": {},
   "outputs": [
    {
     "name": "stdout",
     "output_type": "stream",
     "text": [
      "Iam Thanos\n"
     ]
    }
   ],
   "source": [
    "groot('Thanos')"
   ]
  },
  {
   "cell_type": "code",
   "execution_count": 30,
   "id": "ad5734ec",
   "metadata": {},
   "outputs": [
    {
     "name": "stdout",
     "output_type": "stream",
     "text": [
      "Iam Tchala\n"
     ]
    }
   ],
   "source": [
    "groot('Tchala')"
   ]
  },
  {
   "cell_type": "code",
   "execution_count": 31,
   "id": "7ca11dcb",
   "metadata": {},
   "outputs": [
    {
     "name": "stdout",
     "output_type": "stream",
     "text": [
      "Iam Gamoraa\n"
     ]
    }
   ],
   "source": [
    "groot('Gamoraa')"
   ]
  },
  {
   "cell_type": "code",
   "execution_count": 32,
   "id": "9bd12098",
   "metadata": {},
   "outputs": [
    {
     "name": "stdout",
     "output_type": "stream",
     "text": [
      "Iam The Universe\n"
     ]
    }
   ],
   "source": [
    "groot('The Universe')"
   ]
  },
  {
   "cell_type": "code",
   "execution_count": 33,
   "id": "7e2ef2c5",
   "metadata": {},
   "outputs": [
    {
     "name": "stdout",
     "output_type": "stream",
     "text": [
      "Iam The multiverse\n"
     ]
    }
   ],
   "source": [
    "groot('The multiverse')"
   ]
  },
  {
   "cell_type": "code",
   "execution_count": 34,
   "id": "03163436",
   "metadata": {},
   "outputs": [],
   "source": [
    "def addo(n1,n2):\n",
    "    print(n1+n2)"
   ]
  },
  {
   "cell_type": "code",
   "execution_count": 35,
   "id": "8e4384b7",
   "metadata": {},
   "outputs": [
    {
     "name": "stdout",
     "output_type": "stream",
     "text": [
      "5\n"
     ]
    }
   ],
   "source": [
    "addo(2,3)"
   ]
  },
  {
   "cell_type": "code",
   "execution_count": 36,
   "id": "63cafd0c",
   "metadata": {},
   "outputs": [
    {
     "name": "stdout",
     "output_type": "stream",
     "text": [
      "368\n"
     ]
    }
   ],
   "source": [
    "addo(35,333)"
   ]
  },
  {
   "cell_type": "code",
   "execution_count": 37,
   "id": "4617003f",
   "metadata": {},
   "outputs": [
    {
     "name": "stdout",
     "output_type": "stream",
     "text": [
      "36\n"
     ]
    }
   ],
   "source": [
    "addo(int(3.33),int(33.33))"
   ]
  },
  {
   "cell_type": "code",
   "execution_count": 38,
   "id": "39541078",
   "metadata": {},
   "outputs": [
    {
     "name": "stdout",
     "output_type": "stream",
     "text": [
      "971\n"
     ]
    }
   ],
   "source": [
    "addo(432,539)"
   ]
  },
  {
   "cell_type": "code",
   "execution_count": 39,
   "id": "d7b43cd6",
   "metadata": {},
   "outputs": [],
   "source": [
    "def fun(d2):\n",
    "    for k,i in d2.items():\n",
    "        print(\"=>\",k)\n",
    "        for key,j in i.items():\n",
    "            print(key,\" : \",j)"
   ]
  },
  {
   "cell_type": "code",
   "execution_count": 40,
   "id": "7edfe5a0",
   "metadata": {},
   "outputs": [],
   "source": [
    "d2={\n",
    "    'pa1': {'age':22,'roll no':296,'grade':'o'},\n",
    "    'ge1': {'age':18,'roll no':335,'grade':'b'},\n",
    "    'va1': {'age':20,'roll no':301,'grade':'c'}\n",
    "}"
   ]
  },
  {
   "cell_type": "code",
   "execution_count": 41,
   "id": "b4c1bfa0",
   "metadata": {},
   "outputs": [
    {
     "name": "stdout",
     "output_type": "stream",
     "text": [
      "=> pa1\n",
      "age  :  22\n",
      "roll no  :  296\n",
      "grade  :  o\n",
      "=> ge1\n",
      "age  :  18\n",
      "roll no  :  335\n",
      "grade  :  b\n",
      "=> va1\n",
      "age  :  20\n",
      "roll no  :  301\n",
      "grade  :  c\n"
     ]
    }
   ],
   "source": [
    "fun(d2)"
   ]
  },
  {
   "cell_type": "code",
   "execution_count": 42,
   "id": "718f40b8",
   "metadata": {},
   "outputs": [],
   "source": [
    "def fun1(d1):\n",
    "    for i in d1[1]:\n",
    "        print(i,\" \",i*2)"
   ]
  },
  {
   "cell_type": "code",
   "execution_count": 43,
   "id": "76a13dc7",
   "metadata": {},
   "outputs": [],
   "source": [
    "d1={1:[1, 2, 3, 4, 5, 6, 7, 8],2:\"pavan\",3:\"kumar\"}"
   ]
  },
  {
   "cell_type": "code",
   "execution_count": 44,
   "id": "317d57fd",
   "metadata": {},
   "outputs": [
    {
     "name": "stdout",
     "output_type": "stream",
     "text": [
      "1   2\n",
      "2   4\n",
      "3   6\n",
      "4   8\n",
      "5   10\n",
      "6   12\n",
      "7   14\n",
      "8   16\n"
     ]
    }
   ],
   "source": [
    "fun1(d1)"
   ]
  },
  {
   "cell_type": "code",
   "execution_count": 45,
   "id": "c60776f6",
   "metadata": {},
   "outputs": [],
   "source": [
    "def Add(x,y):\n",
    "    z=x+y\n",
    "    return z"
   ]
  },
  {
   "cell_type": "code",
   "execution_count": 46,
   "id": "81b43a6f",
   "metadata": {},
   "outputs": [],
   "source": [
    "m=Add(22,342)"
   ]
  },
  {
   "cell_type": "code",
   "execution_count": 47,
   "id": "e3fb458a",
   "metadata": {},
   "outputs": [
    {
     "data": {
      "text/plain": [
       "364"
      ]
     },
     "execution_count": 47,
     "metadata": {},
     "output_type": "execute_result"
    }
   ],
   "source": [
    "m"
   ]
  },
  {
   "cell_type": "code",
   "execution_count": 48,
   "id": "a82ef56f",
   "metadata": {},
   "outputs": [],
   "source": [
    "def formal(x,y):\n",
    "    z='We  are '+x+' and '+y\n",
    "    return z"
   ]
  },
  {
   "cell_type": "code",
   "execution_count": 49,
   "id": "8e0bc256",
   "metadata": {},
   "outputs": [],
   "source": [
    "l=formal('Telangana','Andhra')"
   ]
  },
  {
   "cell_type": "code",
   "execution_count": 50,
   "id": "e4494ca2",
   "metadata": {},
   "outputs": [
    {
     "data": {
      "text/plain": [
       "'We  are Telangana and Andhra'"
      ]
     },
     "execution_count": 50,
     "metadata": {},
     "output_type": "execute_result"
    }
   ],
   "source": [
    "l"
   ]
  },
  {
   "cell_type": "code",
   "execution_count": 51,
   "id": "86fb14ad",
   "metadata": {},
   "outputs": [],
   "source": [
    "l=formal('hita','smitha')"
   ]
  },
  {
   "cell_type": "code",
   "execution_count": 52,
   "id": "2a858b7f",
   "metadata": {},
   "outputs": [
    {
     "data": {
      "text/plain": [
       "'We  are hita and smitha'"
      ]
     },
     "execution_count": 52,
     "metadata": {},
     "output_type": "execute_result"
    }
   ],
   "source": [
    "l"
   ]
  },
  {
   "cell_type": "code",
   "execution_count": 53,
   "id": "0a426df0",
   "metadata": {},
   "outputs": [
    {
     "data": {
      "text/plain": [
       "'We  are Suma and Kusuma'"
      ]
     },
     "execution_count": 53,
     "metadata": {},
     "output_type": "execute_result"
    }
   ],
   "source": [
    "formal('Suma','Kusuma')"
   ]
  },
  {
   "cell_type": "code",
   "execution_count": 54,
   "id": "ed026e8c",
   "metadata": {},
   "outputs": [],
   "source": [
    "mm=formal('Nelson','Mandela')"
   ]
  },
  {
   "cell_type": "code",
   "execution_count": 55,
   "id": "977eaa84",
   "metadata": {},
   "outputs": [
    {
     "data": {
      "text/plain": [
       "'We  are Nelson and Mandela'"
      ]
     },
     "execution_count": 55,
     "metadata": {},
     "output_type": "execute_result"
    }
   ],
   "source": [
    "mm"
   ]
  }
 ],
 "metadata": {
  "kernelspec": {
   "display_name": "Python 3 (ipykernel)",
   "language": "python",
   "name": "python3"
  },
  "language_info": {
   "codemirror_mode": {
    "name": "ipython",
    "version": 3
   },
   "file_extension": ".py",
   "mimetype": "text/x-python",
   "name": "python",
   "nbconvert_exporter": "python",
   "pygments_lexer": "ipython3",
   "version": "3.10.9"
  }
 },
 "nbformat": 4,
 "nbformat_minor": 5
}
